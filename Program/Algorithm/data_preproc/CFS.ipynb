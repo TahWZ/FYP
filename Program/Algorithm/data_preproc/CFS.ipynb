{
 "cells": [
  {
   "cell_type": "code",
   "execution_count": 2,
   "source": [
    "#==== Imports ====#\r\n",
    "from scipy.io import arff\r\n",
    "import numpy as np\r\n",
    "import pandas as pd\r\n",
    "from sklearn.feature_selection import SelectKBest\r\n",
    "from sklearn.feature_selection import f_classif\r\n",
    "#=================#\r\n",
    "\r\n",
    "#==== Functions ====#\r\n",
    "def cfs_algo(data):\r\n",
    "    cfs = SelectKBest(score_func=f_classif, k=5)\r\n",
    "    cfs.fit(data[0],data[1])\r\n",
    "    return cfs\r\n",
    "\r\n",
    "def data_conversion(data):\r\n",
    "    for i in range(len(data)):\r\n",
    "        if data[i] == b'N':\r\n",
    "            data[i] = 0\r\n",
    "        else:\r\n",
    "            data[i] = 1\r\n",
    "    return data\r\n",
    "#===================#"
   ],
   "outputs": [],
   "metadata": {}
  },
  {
   "cell_type": "code",
   "execution_count": 3,
   "source": [
    "#==== Main Algorithm ====#\r\n",
    "raw = arff.loadarff('KC4.arff.txt')\r\n",
    "data = pd.DataFrame(raw[0])\r\n",
    "fs = SelectKBest(score_func=f_classif, k=5)\r\n",
    "SM = np.array(data.iloc[:,:-1]) #Software metrics\r\n",
    "L = data_conversion(np.array(data.iloc[:,-1])).astype(int) #Labels\r\n",
    "fit = fs.fit(SM,L)\r\n",
    "np.set_printoptions(precision=3, suppress = True)\r\n",
    "features = fit.transform(SM)\r\n",
    "#=========================#"
   ],
   "outputs": [
    {
     "output_type": "stream",
     "name": "stderr",
     "text": [
      "E:\\Ananconda3\\lib\\site-packages\\sklearn\\feature_selection\\_univariate_selection.py:115: UserWarning: Features [ 0  3  4  5  8  9 15 16 17 18 19 20 21 22 23 24 25 26 28 29 32 33 34 35\n",
      " 37 38] are constant.\n",
      "  UserWarning)\n",
      "E:\\Ananconda3\\lib\\site-packages\\sklearn\\feature_selection\\_univariate_selection.py:116: RuntimeWarning: invalid value encountered in true_divide\n",
      "  f = msb / msw\n"
     ]
    }
   ],
   "metadata": {
    "scrolled": true
   }
  },
  {
   "cell_type": "code",
   "execution_count": 5,
   "source": [
    "#==== Temporary Tests ====#\r\n",
    "print(fit.get_support(True))\r\n",
    "#print(fit.scores_)\r\n",
    "#print(features[0:5,:])\r\n",
    "#=========================#"
   ],
   "outputs": [
    {
     "output_type": "stream",
     "name": "stdout",
     "text": [
      "[ 2 11 27 30 31]\n"
     ]
    }
   ],
   "metadata": {}
  },
  {
   "cell_type": "code",
   "execution_count": null,
   "source": [],
   "outputs": [],
   "metadata": {}
  }
 ],
 "metadata": {
  "kernelspec": {
   "name": "python3",
   "display_name": "Python 3.7.3 64-bit ('base': conda)"
  },
  "language_info": {
   "codemirror_mode": {
    "name": "ipython",
    "version": 3
   },
   "file_extension": ".py",
   "mimetype": "text/x-python",
   "name": "python",
   "nbconvert_exporter": "python",
   "pygments_lexer": "ipython3",
   "version": "3.7.3"
  },
  "interpreter": {
   "hash": "ea9cb6ab4d914a35d8e6d0a69a1d89f0d94b47e6dbf4bfc8b7ae98e3408380a4"
  }
 },
 "nbformat": 4,
 "nbformat_minor": 2
}