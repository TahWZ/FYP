{
 "cells": [
  {
   "cell_type": "code",
   "execution_count": 1,
   "metadata": {},
   "outputs": [],
   "source": [
    "#==== Imports ====#\n",
    "import csv\n",
    "#=================#"
   ]
  },
  {
   "cell_type": "code",
   "execution_count": 6,
   "metadata": {},
   "outputs": [],
   "source": [
    "#==== Functions ====#\n",
    "def write_results(eval_type, data = None):\n",
    "    evaluation = ['AUC', 'F1']\n",
    "    header = ['Dataset', 'Algo 1', 'Algo 2','Algo 3']\n",
    "    dummy = ['CM1','95%','92%','87%']\n",
    "    with open('pred_results.csv','w',encoding='UTF8', newline='') as file:\n",
    "        res = csv.writer(file)\n",
    "        if eval_type in evaluation:\n",
    "            res.writerow([eval_type])\n",
    "        res.writerow(header)\n",
    "        if data is None:\n",
    "            res.writerow(dummy)\n",
    "#===================#"
   ]
  },
  {
   "cell_type": "code",
   "execution_count": 7,
   "metadata": {},
   "outputs": [],
   "source": [
    "#==== Small Test ====#\n",
    "test = write_results('AUC')\n",
    "#====================#"
   ]
  }
 ],
 "metadata": {
  "kernelspec": {
   "display_name": "Python 3",
   "language": "python",
   "name": "python3"
  },
  "language_info": {
   "codemirror_mode": {
    "name": "ipython",
    "version": 3
   },
   "file_extension": ".py",
   "mimetype": "text/x-python",
   "name": "python",
   "nbconvert_exporter": "python",
   "pygments_lexer": "ipython3",
   "version": "3.8.5"
  }
 },
 "nbformat": 4,
 "nbformat_minor": 4
}
