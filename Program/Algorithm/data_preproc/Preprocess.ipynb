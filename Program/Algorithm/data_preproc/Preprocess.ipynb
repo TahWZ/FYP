{
 "cells": [
  {
   "cell_type": "markdown",
   "metadata": {},
   "source": [
    "# Preprocessing\n",
    "## 1. Techniques\n",
    "Below contains functions to perform a series of preprocessing techniques on a given dataset."
   ]
  },
  {
   "cell_type": "code",
   "execution_count": 74,
   "metadata": {},
   "outputs": [],
   "source": [
    "#!pip install imblearn\n",
    "from collections import Counter\n",
    "from scipy.io import arff\n",
    "from sklearn.model_selection import train_test_split as ts\n",
    "from sklearn.model_selection import KFold\n",
    "from imblearn.under_sampling import InstanceHardnessThreshold\n",
    "import numpy as np\n",
    "import pandas as pd\n",
    "\n",
    "def Normalize(data):\n",
    "    i_size = len(data) #The initial size of the data\n",
    "    #Remove missing values\n",
    "    r_data = data.replace(0,np.nan).dropna()\n",
    "    r_size = len(r_data) #The data size after removing missing values\n",
    "    if r_size/i_size > 0.8: #To ensure no false data removal was performed\n",
    "        data = r_data\n",
    "    #Remove outliers\n",
    "    Q1 = data.quantile(0.25)\n",
    "    Q3 = data.quantile(0.75)\n",
    "    IQR = Q3 - Q1\n",
    "    result = data[~((data < (Q1 - 1.5 * IQR)) | (data > (Q3 + 1.5 * IQR))).any(axis=1)]\n",
    "    return result\n",
    "\n",
    "def K_fold(data,f=10):\n",
    "    kf = KFold(n_splits=10)\n",
    "    tt_splits = kf.split(data)\n",
    "    return tt_splits\n",
    "\n",
    "def IHT(data):   \n",
    "    gauss_iht = InstanceHardnessThreshold()\n",
    "    underX, underY = gauss_iht.fit_resample(data[0],data[1])\n",
    "    return underX, underY"
   ]
  },
  {
   "cell_type": "markdown",
   "metadata": {},
   "source": [
    "## 2. Additional functions\n",
    "Below are additional functions included to help manipulate the dataset, improving its usefulness"
   ]
  },
  {
   "cell_type": "code",
   "execution_count": 75,
   "metadata": {},
   "outputs": [],
   "source": [
    "def data_conversion(data):\n",
    "    for i in range(len(data)):\n",
    "        if data[i] == b'N':\n",
    "            data[i] = 0\n",
    "        else:\n",
    "            data[i] = 1\n",
    "    return data"
   ]
  },
  {
   "cell_type": "markdown",
   "metadata": {},
   "source": [
    "## 3. Main\n",
    "Below contains the main algorithm which performs all the techniques on a given dataset.\n",
    "#### It returns the preprocessed dataset with the following format:\n",
    "An array with each row containing:\n",
    "[Training metrics, Test metrics, Training labels, test labels]"
   ]
  },
  {
   "cell_type": "code",
   "execution_count": 1,
   "metadata": {},
   "outputs": [],
   "source": [
    "def preprocess(filename):\n",
    "    raw = arff.loadarff(filename)\n",
    "    data = pd.DataFrame(raw[0])\n",
    "    #Normalization\n",
    "    data = Normalize(data)\n",
    "    #Pandas DF to NumPy array\n",
    "    SM = np.array(data.iloc[:,:-1]) #Software metrics\n",
    "    L = data_conversion(np.array(data.iloc[:,-1])).astype(int) #Labels\n",
    "    #K-fold\n",
    "    tt_splits = K_fold(SM)\n",
    "    #IHT\n",
    "    result = []\n",
    "    for train, test in tt_splits:\n",
    "        SM_under, L_under = IHT([SM[train],L[train]])\n",
    "        result.append([SM_under, SM[test], L_under, L[test]])\n",
    "    return result\n",
    "\n",
    "#File\n",
    "#preprocess('KC4.arff.txt')"
   ]
  },
  {
   "cell_type": "code",
   "execution_count": null,
   "metadata": {},
   "outputs": [],
   "source": []
  },
  {
   "cell_type": "code",
   "execution_count": null,
   "metadata": {},
   "outputs": [],
   "source": []
  }
 ],
 "metadata": {
  "kernelspec": {
   "display_name": "Python 3",
   "language": "python",
   "name": "python3"
  },
  "language_info": {
   "codemirror_mode": {
    "name": "ipython",
    "version": 3
   },
   "file_extension": ".py",
   "mimetype": "text/x-python",
   "name": "python",
   "nbconvert_exporter": "python",
   "pygments_lexer": "ipython3",
   "version": "3.7.3"
  }
 },
 "nbformat": 4,
 "nbformat_minor": 2
}
