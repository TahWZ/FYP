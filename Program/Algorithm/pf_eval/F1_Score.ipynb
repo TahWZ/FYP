{
 "cells": [
  {
   "cell_type": "markdown",
   "source": [
    "# Imports"
   ],
   "metadata": {}
  },
  {
   "cell_type": "code",
   "execution_count": 25,
   "source": [
    "import numpy as np\r\n",
    "import pandas as pd\r\n",
    "from scipy.io import arff\r\n",
    "from sklearn.metrics import confusion_matrix"
   ],
   "outputs": [],
   "metadata": {}
  },
  {
   "cell_type": "code",
   "execution_count": 26,
   "source": [
    "def f1_model(model,X_test,y_test):\r\n",
    "    predictions = model.predict(X_test)\r\n",
    "    tn, fp, fn, tp = confusion_matrix(y_test, predictions).ravel()\r\n",
    "    precision = (tp)/(tp+fp)\r\n",
    "    recall = (tp)/(tp+fn)\r\n",
    "    f1_score = (2*precision*recall)/(precision+recall)\r\n",
    "    return f1_score"
   ],
   "outputs": [],
   "metadata": {}
  },
  {
   "cell_type": "markdown",
   "source": [
    "## Reading data"
   ],
   "metadata": {}
  },
  {
   "cell_type": "code",
   "execution_count": 27,
   "source": [
    "if __name__ == '__main__':\r\n",
    "    # Change filename here\r\n",
    "    filename = '../datasets/NASA/KC4.arff.txt'\r\n",
    "\r\n",
    "    data = arff.loadarff(filename)\r\n",
    "    loaddata = pd.DataFrame(data[0])\r\n",
    "    loaddata.head()"
   ],
   "outputs": [],
   "metadata": {}
  },
  {
   "cell_type": "markdown",
   "source": [
    "## Acquire X and Y values"
   ],
   "metadata": {}
  },
  {
   "cell_type": "code",
   "execution_count": 28,
   "source": [
    "if __name__ == '__main__':\r\n",
    "    software_metrics = np.array(loaddata[['LOC_BLANK','BRANCH_COUNT','CALL_PAIRS','LOC_CODE_AND_COMMENT']])\r\n",
    "    labels = np.array(loaddata['Defective'])"
   ],
   "outputs": [],
   "metadata": {}
  },
  {
   "cell_type": "markdown",
   "source": [
    "## Train test Split"
   ],
   "metadata": {}
  },
  {
   "cell_type": "code",
   "execution_count": 29,
   "source": [
    "if __name__ == '__main__':\r\n",
    "    from sklearn.model_selection import train_test_split\r\n",
    "    X_train, X_test, y_train, y_test = train_test_split(software_metrics, labels, test_size = 0.1)\r\n",
    "    y_train = y_train.astype(str)\r\n",
    "    y_test = y_test.astype(str)"
   ],
   "outputs": [],
   "metadata": {}
  },
  {
   "cell_type": "markdown",
   "source": [
    "## Selecting a Model (Logistic Regression)"
   ],
   "metadata": {}
  },
  {
   "cell_type": "code",
   "execution_count": 30,
   "source": [
    "if __name__ == '__main__':\r\n",
    "    from sklearn.linear_model import LogisticRegression\r\n",
    "\r\n",
    "    logreg = LogisticRegression(solver='lbfgs')\r\n",
    "    logreg.fit(X_train, y_train)"
   ],
   "outputs": [],
   "metadata": {}
  },
  {
   "cell_type": "code",
   "execution_count": 31,
   "source": [
    "if __name__ == '__main__':    \r\n",
    "    predictions = logreg.predict(X_test)\r\n",
    "    predictions"
   ],
   "outputs": [],
   "metadata": {}
  },
  {
   "cell_type": "code",
   "execution_count": 32,
   "source": [
    "if __name__ == '__main__':\r\n",
    "    pd.DataFrame(confusion_matrix(y_test, predictions), columns=['Predicted Non-Defective', \"Predicted Defective\"], index=['Actual Non-Defective', 'Actual Defective'])"
   ],
   "outputs": [],
   "metadata": {}
  },
  {
   "cell_type": "code",
   "execution_count": 33,
   "source": [
    "if __name__ == '__main__':    \r\n",
    "    tn, fp, fn, tp = confusion_matrix(y_test, predictions).ravel()\r\n",
    "    print(f'True Positives: {tp}')\r\n",
    "    print(f'False Positives: {fp}')\r\n",
    "    print(f'True Negatives: {tn}')\r\n",
    "    print(f'False Negatives: {fn}')"
   ],
   "outputs": [
    {
     "output_type": "stream",
     "name": "stdout",
     "text": [
      "True Positives: 3\n",
      "False Positives: 0\n",
      "True Negatives: 5\n",
      "False Negatives: 5\n"
     ]
    }
   ],
   "metadata": {}
  },
  {
   "cell_type": "markdown",
   "source": [
    "## Calculating Precision (True Positive)/(True Positive + False Positive)"
   ],
   "metadata": {}
  },
  {
   "cell_type": "code",
   "execution_count": 34,
   "source": [
    "if __name__ == '__main__':\r\n",
    "    precision = (tp)/(tp+fp)\r\n",
    "    print(f'Precision: {precision}')"
   ],
   "outputs": [
    {
     "output_type": "stream",
     "name": "stdout",
     "text": [
      "Precision: 1.0\n"
     ]
    }
   ],
   "metadata": {}
  },
  {
   "cell_type": "markdown",
   "source": [
    "## Calculating Recall (True Positve)/(True Positive + False Negative)"
   ],
   "metadata": {}
  },
  {
   "cell_type": "code",
   "execution_count": 35,
   "source": [
    "if __name__ == '__main__':  \r\n",
    "    recall = (tp)/(tp+fn)\r\n",
    "    print(f'Recall: {recall}')"
   ],
   "outputs": [
    {
     "output_type": "stream",
     "name": "stdout",
     "text": [
      "Recall: 0.375\n"
     ]
    }
   ],
   "metadata": {}
  },
  {
   "cell_type": "markdown",
   "source": [
    "## Calculating F1-score"
   ],
   "metadata": {}
  },
  {
   "cell_type": "code",
   "execution_count": 36,
   "source": [
    "if __name__ == '__main__':   \r\n",
    "    f1_score = (2*precision*recall)/(precision+recall)\r\n",
    "    print(f'F1-score: {f1_score}')"
   ],
   "outputs": [
    {
     "output_type": "stream",
     "name": "stdout",
     "text": [
      "F1-score: 0.5454545454545454\n"
     ]
    }
   ],
   "metadata": {}
  }
 ],
 "metadata": {
  "interpreter": {
   "hash": "ea9cb6ab4d914a35d8e6d0a69a1d89f0d94b47e6dbf4bfc8b7ae98e3408380a4"
  },
  "kernelspec": {
   "name": "python3",
   "display_name": "Python 3.7.3 64-bit ('base': conda)"
  },
  "language_info": {
   "codemirror_mode": {
    "name": "ipython",
    "version": 3
   },
   "file_extension": ".py",
   "mimetype": "text/x-python",
   "name": "python",
   "nbconvert_exporter": "python",
   "pygments_lexer": "ipython3",
   "version": "3.7.3"
  }
 },
 "nbformat": 4,
 "nbformat_minor": 2
}