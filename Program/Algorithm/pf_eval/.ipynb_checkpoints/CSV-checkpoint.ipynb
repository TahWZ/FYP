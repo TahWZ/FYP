{
 "cells": [
  {
   "cell_type": "code",
   "execution_count": 14,
   "metadata": {},
   "outputs": [],
   "source": [
    "#==== Imports ====#\n",
    "import csv\n",
    "#=================#"
   ]
  },
  {
   "cell_type": "code",
   "execution_count": 15,
   "metadata": {},
   "outputs": [],
   "source": [
    "#==== Functions ====#\n",
    "def write_results(header,result):\n",
    "    filters = ['No filter','CFS','RFE']\n",
    "    #header = ['Dataset', 'Algo 1', 'Algo 2','Algo 3']\n",
    "    #dummy = [['CM1','95%','92%','87%'], ['KC1','Trying','To','Test'],['KC4','90%','80%','70%']]\n",
    "    with open('what.csv','w',encoding='UTF8', newline='') as file:\n",
    "        res = csv.writer(file)\n",
    "        for i in range(len(filters)):\n",
    "            res.writerow('')\n",
    "            res.writerow([filters[i]])\n",
    "            res.writerow(header)\n",
    "            res.writerow([result[0][0]] + result[0][1][i*8:i*8+8])\n",
    "            res.writerow([result[1][0]] + result[1][1][i*8:i*8+8])\n",
    "#===================#"
   ]
  },
  {
   "cell_type": "code",
   "execution_count": 17,
   "metadata": {},
   "outputs": [
    {
     "ename": "PermissionError",
     "evalue": "[Errno 13] Permission denied: 'pred_results.csv'",
     "output_type": "error",
     "traceback": [
      "\u001b[1;31m---------------------------------------------------------------------------\u001b[0m",
      "\u001b[1;31mPermissionError\u001b[0m                           Traceback (most recent call last)",
      "\u001b[1;32m<ipython-input-17-d63d40d8b654>\u001b[0m in \u001b[0;36m<module>\u001b[1;34m\u001b[0m\n\u001b[0;32m      1\u001b[0m \u001b[0mresult\u001b[0m \u001b[1;33m=\u001b[0m \u001b[1;33m[\u001b[0m\u001b[1;33m(\u001b[0m\u001b[1;34m'AUC'\u001b[0m\u001b[1;33m,\u001b[0m \u001b[1;33m[\u001b[0m\u001b[1;36m1.0\u001b[0m\u001b[1;33m,\u001b[0m \u001b[1;36m0.75\u001b[0m\u001b[1;33m,\u001b[0m \u001b[1;36m0.75\u001b[0m\u001b[1;33m,\u001b[0m \u001b[1;36m0.78\u001b[0m\u001b[1;33m,\u001b[0m \u001b[1;36m0.88\u001b[0m\u001b[1;33m,\u001b[0m \u001b[1;36m0.94\u001b[0m\u001b[1;33m,\u001b[0m \u001b[1;36m0.84\u001b[0m\u001b[1;33m,\u001b[0m \u001b[1;36m0.88\u001b[0m\u001b[1;33m,\u001b[0m \u001b[1;36m1.0\u001b[0m\u001b[1;33m,\u001b[0m \u001b[1;36m0.75\u001b[0m\u001b[1;33m,\u001b[0m \u001b[1;36m1.0\u001b[0m\u001b[1;33m,\u001b[0m \u001b[1;36m0.88\u001b[0m\u001b[1;33m,\u001b[0m \u001b[1;36m0.84\u001b[0m\u001b[1;33m,\u001b[0m \u001b[1;36m1.0\u001b[0m\u001b[1;33m,\u001b[0m \u001b[1;36m0.88\u001b[0m\u001b[1;33m,\u001b[0m \u001b[1;36m0.94\u001b[0m\u001b[1;33m,\u001b[0m \u001b[1;36m1.0\u001b[0m\u001b[1;33m,\u001b[0m \u001b[1;36m0.88\u001b[0m\u001b[1;33m,\u001b[0m \u001b[1;36m1.0\u001b[0m\u001b[1;33m,\u001b[0m \u001b[1;36m0.88\u001b[0m\u001b[1;33m,\u001b[0m \u001b[1;36m0.84\u001b[0m\u001b[1;33m,\u001b[0m \u001b[1;36m0.94\u001b[0m\u001b[1;33m,\u001b[0m \u001b[1;36m0.88\u001b[0m\u001b[1;33m,\u001b[0m \u001b[1;36m0.94\u001b[0m\u001b[1;33m]\u001b[0m\u001b[1;33m)\u001b[0m\u001b[1;33m,\u001b[0m \u001b[1;33m(\u001b[0m\u001b[1;34m'F1 Score'\u001b[0m\u001b[1;33m,\u001b[0m \u001b[1;33m[\u001b[0m\u001b[1;36m88.89\u001b[0m\u001b[1;33m,\u001b[0m \u001b[1;36m75.0\u001b[0m\u001b[1;33m,\u001b[0m \u001b[1;36m75.0\u001b[0m\u001b[1;33m,\u001b[0m \u001b[1;36m75.0\u001b[0m\u001b[1;33m,\u001b[0m \u001b[1;36m57.14\u001b[0m\u001b[1;33m,\u001b[0m \u001b[1;36m88.89\u001b[0m\u001b[1;33m,\u001b[0m \u001b[1;36m75.0\u001b[0m\u001b[1;33m,\u001b[0m \u001b[1;36m88.89\u001b[0m\u001b[1;33m,\u001b[0m \u001b[1;36m88.89\u001b[0m\u001b[1;33m,\u001b[0m \u001b[1;36m80.0\u001b[0m\u001b[1;33m,\u001b[0m \u001b[1;36m80.0\u001b[0m\u001b[1;33m,\u001b[0m \u001b[1;36m88.89\u001b[0m\u001b[1;33m,\u001b[0m \u001b[1;36m88.89\u001b[0m\u001b[1;33m,\u001b[0m \u001b[1;36m88.89\u001b[0m\u001b[1;33m,\u001b[0m \u001b[1;36m80.0\u001b[0m\u001b[1;33m,\u001b[0m \u001b[1;36m88.89\u001b[0m\u001b[1;33m,\u001b[0m \u001b[1;36m88.89\u001b[0m\u001b[1;33m,\u001b[0m \u001b[1;36m88.89\u001b[0m\u001b[1;33m,\u001b[0m \u001b[1;36m80.0\u001b[0m\u001b[1;33m,\u001b[0m \u001b[1;36m88.89\u001b[0m\u001b[1;33m,\u001b[0m \u001b[1;36m88.89\u001b[0m\u001b[1;33m,\u001b[0m \u001b[1;36m88.89\u001b[0m\u001b[1;33m,\u001b[0m \u001b[1;36m88.89\u001b[0m\u001b[1;33m,\u001b[0m \u001b[1;36m88.89\u001b[0m\u001b[1;33m]\u001b[0m\u001b[1;33m)\u001b[0m\u001b[1;33m]\u001b[0m\u001b[1;33m\u001b[0m\u001b[1;33m\u001b[0m\u001b[0m\n\u001b[0;32m      2\u001b[0m \u001b[0mheader\u001b[0m \u001b[1;33m=\u001b[0m \u001b[1;33m[\u001b[0m\u001b[1;34m'Model Name'\u001b[0m\u001b[1;33m,\u001b[0m \u001b[1;34m'Complement Naive Bayes'\u001b[0m\u001b[1;33m,\u001b[0m \u001b[1;34m'Decision Tree'\u001b[0m\u001b[1;33m,\u001b[0m \u001b[1;34m'Logistic regression'\u001b[0m\u001b[1;33m,\u001b[0m \u001b[1;34m'Multi Layer Perceptron'\u001b[0m\u001b[1;33m,\u001b[0m \u001b[1;34m'Naive Bayes'\u001b[0m\u001b[1;33m,\u001b[0m \u001b[1;34m'Random Forest'\u001b[0m\u001b[1;33m,\u001b[0m \u001b[1;34m'Rotation Forest'\u001b[0m\u001b[1;33m,\u001b[0m \u001b[1;34m'Voting'\u001b[0m\u001b[1;33m]\u001b[0m\u001b[1;33m\u001b[0m\u001b[1;33m\u001b[0m\u001b[0m\n\u001b[1;32m----> 3\u001b[1;33m \u001b[0mtest\u001b[0m \u001b[1;33m=\u001b[0m \u001b[0mwrite_results\u001b[0m\u001b[1;33m(\u001b[0m\u001b[0mheader\u001b[0m\u001b[1;33m,\u001b[0m\u001b[0mresult\u001b[0m\u001b[1;33m)\u001b[0m\u001b[1;33m\u001b[0m\u001b[1;33m\u001b[0m\u001b[0m\n\u001b[0m",
      "\u001b[1;32m<ipython-input-15-f54a99b9040c>\u001b[0m in \u001b[0;36mwrite_results\u001b[1;34m(header, result)\u001b[0m\n\u001b[0;32m      4\u001b[0m     \u001b[1;31m#header = ['Dataset', 'Algo 1', 'Algo 2','Algo 3']\u001b[0m\u001b[1;33m\u001b[0m\u001b[1;33m\u001b[0m\u001b[1;33m\u001b[0m\u001b[0m\n\u001b[0;32m      5\u001b[0m     \u001b[1;31m#dummy = [['CM1','95%','92%','87%'], ['KC1','Trying','To','Test'],['KC4','90%','80%','70%']]\u001b[0m\u001b[1;33m\u001b[0m\u001b[1;33m\u001b[0m\u001b[1;33m\u001b[0m\u001b[0m\n\u001b[1;32m----> 6\u001b[1;33m     \u001b[1;32mwith\u001b[0m \u001b[0mopen\u001b[0m\u001b[1;33m(\u001b[0m\u001b[1;34m'pred_results.csv'\u001b[0m\u001b[1;33m,\u001b[0m\u001b[1;34m'w'\u001b[0m\u001b[1;33m,\u001b[0m\u001b[0mencoding\u001b[0m\u001b[1;33m=\u001b[0m\u001b[1;34m'UTF8'\u001b[0m\u001b[1;33m,\u001b[0m \u001b[0mnewline\u001b[0m\u001b[1;33m=\u001b[0m\u001b[1;34m''\u001b[0m\u001b[1;33m)\u001b[0m \u001b[1;32mas\u001b[0m \u001b[0mfile\u001b[0m\u001b[1;33m:\u001b[0m\u001b[1;33m\u001b[0m\u001b[1;33m\u001b[0m\u001b[0m\n\u001b[0m\u001b[0;32m      7\u001b[0m         \u001b[0mres\u001b[0m \u001b[1;33m=\u001b[0m \u001b[0mcsv\u001b[0m\u001b[1;33m.\u001b[0m\u001b[0mwriter\u001b[0m\u001b[1;33m(\u001b[0m\u001b[0mfile\u001b[0m\u001b[1;33m)\u001b[0m\u001b[1;33m\u001b[0m\u001b[1;33m\u001b[0m\u001b[0m\n\u001b[0;32m      8\u001b[0m         \u001b[1;32mfor\u001b[0m \u001b[0mi\u001b[0m \u001b[1;32min\u001b[0m \u001b[0mrange\u001b[0m\u001b[1;33m(\u001b[0m\u001b[0mlen\u001b[0m\u001b[1;33m(\u001b[0m\u001b[0mfilters\u001b[0m\u001b[1;33m)\u001b[0m\u001b[1;33m)\u001b[0m\u001b[1;33m:\u001b[0m\u001b[1;33m\u001b[0m\u001b[1;33m\u001b[0m\u001b[0m\n",
      "\u001b[1;31mPermissionError\u001b[0m: [Errno 13] Permission denied: 'pred_results.csv'"
     ]
    }
   ],
   "source": [
    "result = [('AUC', [1.0, 0.75, 0.75, 0.78, 0.88, 0.94, 0.84, 0.88, 1.0, 0.75, 1.0, 0.88, 0.84, 1.0, 0.88, 0.94, 1.0, 0.88, 1.0, 0.88, 0.84, 0.94, 0.88, 0.94]), ('F1 Score', [88.89, 75.0, 75.0, 75.0, 57.14, 88.89, 75.0, 88.89, 88.89, 80.0, 80.0, 88.89, 88.89, 88.89, 80.0, 88.89, 88.89, 88.89, 80.0, 88.89, 88.89, 88.89, 88.89, 88.89])]\n",
    "header = ['Model Name', 'Complement Naive Bayes', 'Decision Tree', 'Logistic regression', 'Multi Layer Perceptron', 'Naive Bayes', 'Random Forest', 'Rotation Forest', 'Voting']\n",
    "test = write_results(header,result)"
   ]
  },
  {
   "cell_type": "code",
   "execution_count": null,
   "metadata": {},
   "outputs": [],
   "source": []
  }
 ],
 "metadata": {
  "kernelspec": {
   "display_name": "Python 3",
   "language": "python",
   "name": "python3"
  },
  "language_info": {
   "codemirror_mode": {
    "name": "ipython",
    "version": 3
   },
   "file_extension": ".py",
   "mimetype": "text/x-python",
   "name": "python",
   "nbconvert_exporter": "python",
   "pygments_lexer": "ipython3",
   "version": "3.8.5"
  }
 },
 "nbformat": 4,
 "nbformat_minor": 4
}
