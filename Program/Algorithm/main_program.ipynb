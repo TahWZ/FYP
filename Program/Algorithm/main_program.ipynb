{
 "cells": [
  {
   "cell_type": "markdown",
   "source": [
    "# Imports"
   ],
   "metadata": {}
  },
  {
   "cell_type": "code",
   "execution_count": 86,
   "source": [
    "import csv\r\n",
    "import numpy as np\r\n",
    "import pandas as pd\r\n",
    "from scipy.io import arff\r\n",
    "from sklearn.model_selection import train_test_split\r\n",
    "from sklearn import metrics\r\n",
    "import math\r\n",
    "from tkinter import *\r\n",
    "\r\n",
    "import sys\r\n",
    "sys.path.append('interface')\r\n",
    "\r\n",
    "# Allows jupyter notebook to be imported\r\n",
    "import jupyter_import\r\n",
    "\r\n",
    "# Suppress Warnings\r\n",
    "import warnings\r\n",
    "warnings.filterwarnings('ignore')"
   ],
   "outputs": [],
   "metadata": {}
  },
  {
   "cell_type": "markdown",
   "source": [
    "# User Interface"
   ],
   "metadata": {}
  },
  {
   "cell_type": "code",
   "execution_count": 87,
   "source": [
    "from interface.main import Main"
   ],
   "outputs": [],
   "metadata": {}
  },
  {
   "cell_type": "markdown",
   "source": [
    "# Preprocessing"
   ],
   "metadata": {}
  },
  {
   "cell_type": "markdown",
   "source": [
    "# Imports"
   ],
   "metadata": {}
  },
  {
   "cell_type": "code",
   "execution_count": 88,
   "source": [
    "import csv\r\n",
    "import numpy as np\r\n",
    "import pandas as pd\r\n",
    "from scipy.io import arff\r\n",
    "from sklearn.model_selection import train_test_split\r\n",
    "from sklearn import metrics\r\n",
    "import math\r\n",
    "\r\n",
    "# sys.path.append('interface')\r\n",
    "\r\n",
    "# Allows jupyter notebook to be imported\r\n",
    "import jupyter_import\r\n",
    "\r\n",
    "# Suppress Warnings\r\n",
    "import warnings\r\n",
    "warnings.filterwarnings('ignore')"
   ],
   "outputs": [],
   "metadata": {}
  },
  {
   "cell_type": "markdown",
   "source": [
    "# User Interface"
   ],
   "metadata": {}
  },
  {
   "cell_type": "code",
   "execution_count": 89,
   "source": [
    "from interface import *\r\n",
    "from interface.home import Home"
   ],
   "outputs": [],
   "metadata": {}
  },
  {
   "cell_type": "markdown",
   "source": [
    "# Preprocessing"
   ],
   "metadata": {}
  },
  {
   "cell_type": "code",
   "execution_count": 90,
   "source": [
    "from data_preproc.Preprocess import preprocess, Normalize"
   ],
   "outputs": [],
   "metadata": {}
  },
  {
   "cell_type": "markdown",
   "source": [
    "# Feature Selection"
   ],
   "metadata": {}
  },
  {
   "cell_type": "code",
   "execution_count": 91,
   "source": [
    "from data_preproc.CFS import cfs_algo\r\n",
    "from data_preproc.RFE import rfe_algo\r\n",
    "from data_preproc.RR import ridge_algo"
   ],
   "outputs": [],
   "metadata": {}
  },
  {
   "cell_type": "markdown",
   "source": [
    "# Algorithms"
   ],
   "metadata": {}
  },
  {
   "cell_type": "markdown",
   "source": [
    "## Base Predictors"
   ],
   "metadata": {}
  },
  {
   "cell_type": "code",
   "execution_count": 92,
   "source": [
    "from pred_mdls.base.Complement_Naive_Bayes import complement_naive_bayes_model\r\n",
    "from pred_mdls.base.Decision_Tree import decision_tree_model\r\n",
    "from pred_mdls.base.Logistic_Regression import logistic_regression_model\r\n",
    "from pred_mdls.base.Multi_Layer_Perceptron import multi_layer_perceptron_model\r\n",
    "from pred_mdls.base.Naive_Bayes import naive_bayes_model"
   ],
   "outputs": [],
   "metadata": {}
  },
  {
   "cell_type": "markdown",
   "source": [
    "## Ensemble Predictors"
   ],
   "metadata": {}
  },
  {
   "cell_type": "code",
   "execution_count": 93,
   "source": [
    "from pred_mdls.ensemble.Random_Forest import random_forest_model\r\n",
    "from pred_mdls.ensemble.Rotation_Forest import rotation_forest_model\r\n",
    "from pred_mdls.ensemble.Voting import voting_model"
   ],
   "outputs": [],
   "metadata": {
    "scrolled": true
   }
  },
  {
   "cell_type": "markdown",
   "source": [
    "# Evaluation Metrics"
   ],
   "metadata": {}
  },
  {
   "cell_type": "code",
   "execution_count": 94,
   "source": [
    "from pf_eval.AUC_ROC import auc_roc_model\r\n",
    "from pf_eval.F1_Score import f1_model\r\n",
    "from pf_eval.CSV import write_results\r\n",
    "from pf_eval.Confusion_Matrix import confusion_matrix_model"
   ],
   "outputs": [],
   "metadata": {}
  },
  {
   "cell_type": "markdown",
   "source": [
    "# Additional Functions"
   ],
   "metadata": {}
  },
  {
   "cell_type": "code",
   "execution_count": 95,
   "source": [
    "def data_conversion(data):\r\n",
    "    for i in range(len(data)):\r\n",
    "        if data[i] == b'N' or data[i] == b'false' or data[i] == b'no':\r\n",
    "            data[i] = 0\r\n",
    "        else:\r\n",
    "            data[i] = 1\r\n",
    "    return data\r\n",
    "\r\n",
    "def read_data(filename):\r\n",
    "    data = arff.loadarff(filename)\r\n",
    "    loaddata = pd.DataFrame(data[0])\r\n",
    "    return loaddata\r\n",
    "\r\n",
    "def process_data(loaddata,features):\r\n",
    "    # Features are selected based on CFS\r\n",
    "    software_metrics = np.array(loaddata[features])\r\n",
    "    labels = np.array(loaddata['Defective'])\r\n",
    "    return software_metrics,labels\r\n",
    "\r\n",
    "def train_data(software_metrics,labels):\r\n",
    "    X_train, X_test, y_train, y_test = train_test_split(software_metrics, labels, test_size = 0.1)\r\n",
    "    y_train = y_train.astype('str')\r\n",
    "    y_test = y_test.astype('str')\r\n",
    "    return X_train, X_test, y_train, y_test\r\n",
    "\r\n",
    "def evaluate_data(model,model_name,X_test,y_test):\r\n",
    "    auc_score = auc_roc_model(model,X_test,y_test)\r\n",
    "    f1_score = f1_model(model,X_test,y_test)\r\n",
    "    fpr,fnr = confusion_matrix_model(model,X_test,y_test)\r\n",
    "    return auc_score,f1_score,fpr,fnr\r\n",
    "\r\n",
    "def translate(result):\r\n",
    "    count = 1\r\n",
    "    res = []\r\n",
    "    while count <= 3:\r\n",
    "        for i in range(len(result[0])):\r\n",
    "            res.append([result[0][i], result[1][((i+1)*count)-1],result[2][((i+1)*count)-1]])\r\n",
    "        count += 1\r\n",
    "    return res"
   ],
   "outputs": [],
   "metadata": {}
  },
  {
   "cell_type": "markdown",
   "source": [
    "# Result writers"
   ],
   "metadata": {}
  },
  {
   "cell_type": "code",
   "execution_count": 96,
   "source": [
    "def main_writer(header,result):\r\n",
    "    #Writes the output of a single dataset for main function\r\n",
    "    filters = ['No filter','CFS','RFE']\r\n",
    "    with open('pred_results.csv','w',encoding='UTF8', newline='') as file:\r\n",
    "        res = csv.writer(file)\r\n",
    "        for i in range(len(filters)):\r\n",
    "            res.writerow('')\r\n",
    "            res.writerow([filters[i]])\r\n",
    "            res.writerow(header)\r\n",
    "            res.writerow([result[0][0]] + result[0][1][i*8:i*8+8])\r\n",
    "            res.writerow([result[1][0]] + result[1][1][i*8:i*8+8])\r\n",
    "    \r\n",
    "def run(datasets, savename, repository):\r\n",
    "    #Writes the output of multiple datasets for the main function\r\n",
    "    header = ['Model name','Complement Naive Bayes','Decision Tree','Logistic regression',\r\n",
    "                        'Multi Layer Perceptron','Naive Bayes','Random Forest','Rotation Forest','Voting']\r\n",
    "    filters = ['(All)','(CFS)','(RFE)']\r\n",
    "    with open(savename,'w',encoding='UTF8', newline='') as file:\r\n",
    "        results = []\r\n",
    "        for ds in datasets:\r\n",
    "            if repository == 'NASA':\r\n",
    "                results.append(main('datasets/NASA/' + ds + '.txt')[0])\r\n",
    "            else:\r\n",
    "                results.append(main('datasets/PROMISE/' + ds + '.txt')[0])\r\n",
    "        res = csv.writer(file)\r\n",
    "        for k in range(len(results[0])):\r\n",
    "            res.writerow([results[0][k][0]])\r\n",
    "            res.writerow(header)\r\n",
    "            for j in range(len(results)):\r\n",
    "                for i in range(len(filters)):\r\n",
    "                    res.writerow([datasets[j]+filters[i]] + results[j][k][1][i*8:i*8+8])\r\n",
    "            if k != len(results[0])-1:\r\n",
    "                res.writerow('')\r\n",
    "        #res.writerow([results[0][0][0]])\r\n",
    "        #res.writerow(header)        \r\n",
    "        #for j in range(len(results)):\r\n",
    "            #for i in range(len(filters)):\r\n",
    "                #res.writerow([datasets[j]+filters[i]] + results[j][0][1][i*8:i*8+8])\r\n",
    "        #res.writerow('')\r\n",
    "        #res.writerow([results[0][1][0]])\r\n",
    "        #res.writerow(header)\r\n",
    "        #for j in range(len(results)):\r\n",
    "            #for i in range(len(filters)):\r\n",
    "                #res.writerow([datasets[j]+filters[i]] + results[j][1][1][i*8:i*8+8])\r\n",
    "        #res.writerow('')\r\n",
    "        #res.writerow([results[0][2][0]])\r\n",
    "        #res.writerow(header)\r\n",
    "        #for j in range(len(results)):\r\n",
    "            #for i in range(len(filters)):\r\n",
    "                #res.writerow([datasets[j]+filters[i]] + results[j][2][1][i*8:i*8+8])\r\n",
    "        #res.writerow('')\r\n",
    "        #res.writerow([results[0][3][0]])\r\n",
    "        #res.writerow(header)\r\n",
    "        #for j in range(len(results)):\r\n",
    "            #for i in range(len(filters)):\r\n",
    "                #res.writerow([datasets[j]+filters[i]] + results[j][3][1][i*8:i*8+8])"
   ],
   "outputs": [],
   "metadata": {}
  },
  {
   "cell_type": "markdown",
   "source": [
    "# Main"
   ],
   "metadata": {}
  },
  {
   "cell_type": "code",
   "execution_count": 98,
   "source": [
    "def main_run(filename):\r\n",
    "    # Read the file\r\n",
    "    loaddata = read_data(filename)\r\n",
    "    loaddata = Normalize(loaddata)\r\n",
    "    SM = np.array(loaddata.iloc[:,:-1]) #Software metrics\r\n",
    "    L = data_conversion(np.array(loaddata.iloc[:,-1])).astype(int) #Labels\r\n",
    "    data = [SM,L]\r\n",
    "    model_name = ['Complement Naive Bayes','Decision Tree','Logistic regression',\r\n",
    "                    'Multi Layer Perceptron','Naive Bayes','Random Forest','Rotation Forest','Voting'] #Models used\r\n",
    "    \r\n",
    "    # ===== Feature Selection ====== #\r\n",
    "\r\n",
    "    # ==== CFS ==== #\r\n",
    "    cfs, cfs_selections = cfs_algo(data,10)\r\n",
    "    # ============= #\r\n",
    "\r\n",
    "    # ===== RFE ======== #\r\n",
    "    rfe, rfe_selections = rfe_algo(data,10)\r\n",
    "    # ================== #\r\n",
    "    \r\n",
    "    # ========= Preprocessing ============= #\r\n",
    "    pp = preprocess(loaddata)\r\n",
    "    pp_cfs = preprocess(loaddata, cfs_selections)\r\n",
    "    pp_rfe = preprocess(loaddata, rfe_selections)\r\n",
    "\r\n",
    "    pp_arr = [pp,pp_cfs,pp_rfe]\r\n",
    "    pp_name = ['No filters','CFS Feature Selection','RFE Feature Selection']\r\n",
    "    # ====================================== #\r\n",
    "\r\n",
    "    result = []\r\n",
    "    arr_size = len(model_name)*len(pp_name) #Result array size\r\n",
    "    auc_arr = [0]*arr_size\r\n",
    "    f1_arr = [0]*arr_size\r\n",
    "    fpr_arr = [0]*arr_size\r\n",
    "    fnr_arr = [0]*arr_size\r\n",
    "    header = []\r\n",
    "    folds = 5\r\n",
    "    for j,pp in enumerate(pp_arr):\r\n",
    "        for i in range(folds):\r\n",
    "            data = [pp[i][0],pp[i][2]]\r\n",
    "\r\n",
    "            # ======== Model Creation =========== #\r\n",
    "            # Base Predictors\r\n",
    "            cnb = complement_naive_bayes_model(data)\r\n",
    "            dt = decision_tree_model(data)\r\n",
    "            lr = logistic_regression_model(data)\r\n",
    "            mlp = multi_layer_perceptron_model(data)\r\n",
    "            nb = naive_bayes_model(data)\r\n",
    "\r\n",
    "            args = [1000]\r\n",
    "            # Ensemble Predictors\r\n",
    "            rf = random_forest_model(data,args)\r\n",
    "            rof = rotation_forest_model(data,args)\r\n",
    "            vt = voting_model(data,args)\r\n",
    "            # ==================================== #\r\n",
    "\r\n",
    "            models = [cnb,dt,lr,mlp,nb,rf,rof,vt] \r\n",
    "            for k in range(len(models)):\r\n",
    "                auc_score,f1_score,fpr,fnr = evaluate_data(models[k],model_name[k],pp[i][1],pp[i][3])\r\n",
    "                if math.isnan(auc_score):\r\n",
    "                    print(model_name[k], auc_score)\r\n",
    "                    auc_score = 0\r\n",
    "                auc_arr[(j*8)+k] += auc_score\r\n",
    "                f1_arr[(j*8)+k] += f1_score\r\n",
    "                fpr_arr[(j*8)+k] += fpr\r\n",
    "                fnr_arr[(j*8)+k] += fnr\r\n",
    "    for i in range(len(models)*3):\r\n",
    "        auc_arr[i] /= folds\r\n",
    "        auc_arr[i] = round(auc_arr[i],3)\r\n",
    "        f1_arr[i] /= folds\r\n",
    "        f1_arr[i] = round(f1_arr[i],3)\r\n",
    "        fpr_arr[i] /= folds\r\n",
    "        fpr_arr[i] = round(fpr_arr[i],3)\r\n",
    "        fnr_arr[i] /= folds\r\n",
    "        fnr_arr[i] = round(fnr_arr[i],3)\r\n",
    "    header.append('Model Name')\r\n",
    "    header += model_name\r\n",
    "    result.append(('AUC', auc_arr))\r\n",
    "    result.append(('F1 Score', f1_arr))\r\n",
    "    result.append(('False Positive Rate', fpr_arr))\r\n",
    "    result.append(('False Negative Rate', fnr_arr))\r\n",
    "    #Print filename upon completion\r\n",
    "    print(filename)\r\n",
    "    return result, header     \r\n",
    "            \r\n",
    "if __name__=='__main__':\r\n",
    "    # N_filenames = ['CM1.arff','JM1.arff','KC1.arff','KC3.arff',\r\n",
    "    #                'KC4.arff','MC1.arff','MC2.arff','MW1.arff',\r\n",
    "    #                'PC1.arff','PC2.arff','PC3.arff','PC4.arff','PC5.arff']\r\n",
    "    # P_filenames = ['cm1.arff','jm1.arff','kc1.arff','kc2.arff','pc1.arff']\r\n",
    "    # run(N_filenames,'NASA.csv','NASA')\r\n",
    "    # run(P_filenames,'PROMISE.csv','PROMISE')\r\n",
    "    root = Tk()\r\n",
    "    main_root = Main(root)\r\n",
    "    print(main_root.get_results())\r\n",
    "    root.title('Prediction software')\r\n",
    "    root.mainloop()"
   ],
   "outputs": [
    {
     "output_type": "stream",
     "name": "stdout",
     "text": [
      "0 0\n",
      "<bound method Main.get_results of <interface.main.Main object at 0x0000022138B575E0>>\n"
     ]
    }
   ],
   "metadata": {}
  },
  {
   "cell_type": "code",
   "execution_count": null,
   "source": [],
   "outputs": [],
   "metadata": {}
  }
 ],
 "metadata": {
  "interpreter": {
   "hash": "6d46af94c2bbce495f1e668725902fa517c90b1782bcfe2fce0dd9868df553d3"
  },
  "kernelspec": {
   "name": "python3",
   "display_name": "Python 3.8.8 64-bit ('base': conda)"
  },
  "language_info": {
   "codemirror_mode": {
    "name": "ipython",
    "version": 3
   },
   "file_extension": ".py",
   "mimetype": "text/x-python",
   "name": "python",
   "nbconvert_exporter": "python",
   "pygments_lexer": "ipython3",
   "version": "3.8.8"
  }
 },
 "nbformat": 4,
 "nbformat_minor": 2
}