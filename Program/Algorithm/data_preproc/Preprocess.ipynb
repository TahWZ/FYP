{
 "cells": [
  {
   "cell_type": "markdown",
   "source": [
    "# Preprocessing\n",
    "## 1. Techniques\n",
    "Below contains functions to perform a series of preprocessing techniques on a given dataset."
   ],
   "metadata": {}
  },
  {
   "cell_type": "code",
   "execution_count": 3,
   "source": [
    "#!pip install imblearn\r\n",
    "from collections import Counter\r\n",
    "from scipy.io import arff\r\n",
    "from sklearn.model_selection import train_test_split as ts\r\n",
    "from sklearn.model_selection import KFold\r\n",
    "from imblearn.under_sampling import InstanceHardnessThreshold\r\n",
    "import numpy as np\r\n",
    "import pandas as pd\r\n",
    "\r\n",
    "def Normalize(data):\r\n",
    "    i_size = len(data) #The initial size of the data\r\n",
    "    #Remove missing values\r\n",
    "    r_data = data.dropna()\r\n",
    "    r_size = len(r_data) #The data size after removing missing values\r\n",
    "    if r_size/i_size > 0.8: #To ensure no false data removal was performed\r\n",
    "        data = r_data\r\n",
    "    #Remove outliers\r\n",
    "    Q1 = data.quantile(0.25)\r\n",
    "    Q3 = data.quantile(0.75)\r\n",
    "    IQR = Q3 - Q1\r\n",
    "    result = data[~((data < (Q1 - 1.5 * IQR)) | (data > (Q3 + 1.5 * IQR))).any(axis=1)]\r\n",
    "    return result\r\n",
    "\r\n",
    "def K_fold(data,f=10):\r\n",
    "    kf = KFold(n_splits=10)\r\n",
    "    tt_splits = kf.split(data)\r\n",
    "    return tt_splits\r\n",
    "\r\n",
    "def IHT(data):   \r\n",
    "    gauss_iht = InstanceHardnessThreshold()\r\n",
    "    underX, underY = gauss_iht.fit_resample(data[0],data[1])\r\n",
    "    return underX, underY"
   ],
   "outputs": [],
   "metadata": {}
  },
  {
   "cell_type": "markdown",
   "source": [
    "## 2. Additional functions\n",
    "Below are additional functions included to help manipulate the dataset, improving its usefulness"
   ],
   "metadata": {}
  },
  {
   "cell_type": "code",
   "execution_count": 4,
   "source": [
    "def data_conversion(data):\r\n",
    "    for i in range(len(data)):\r\n",
    "        if data[i] == b'N':\r\n",
    "            data[i] = 0\r\n",
    "        else:\r\n",
    "            data[i] = 1\r\n",
    "    return data"
   ],
   "outputs": [],
   "metadata": {}
  },
  {
   "cell_type": "markdown",
   "source": [
    "## 3. Main\n",
    "Below contains the main algorithm which performs all the techniques on a given dataset.\n",
    "#### It returns the preprocessed dataset with the following format:\n",
    "An array with each row containing:\n",
    "[Training metrics, Test metrics, Training labels, test labels]"
   ],
   "metadata": {}
  },
  {
   "cell_type": "code",
   "execution_count": 9,
   "source": [
    "def preprocess(data, fs = []):\r\n",
    "    # raw = arff.loadarff(data)\r\n",
    "    # data = pd.DataFrame(raw[0])\r\n",
    "    # #Normalization\r\n",
    "    # data = Normalize(data)\r\n",
    "    #Pandas DF to NumPy array\r\n",
    "    SM = np.array(data.iloc[:,:-1]) #Software metrics\r\n",
    "    if fs != []:\r\n",
    "        SM = SM[:,fs]\r\n",
    "    L = data_conversion(np.array(data.iloc[:,-1])).astype(int) #Labels\r\n",
    "    #K-fold\r\n",
    "    tt_splits = K_fold(SM)\r\n",
    "    #IHT\r\n",
    "    result = []\r\n",
    "    for train, test in tt_splits:\r\n",
    "        SM_under, L_under = IHT([SM[train],L[train]])\r\n",
    "        result.append([SM_under, SM[test], L_under, L[test]])\r\n",
    "    return result\r\n",
    "\r\n",
    "#File\r\n",
    "if __name__=='__main__':\r\n",
    "    result = preprocess('KC4.arff.txt')\r\n",
    "    # for i in range(4):\r\n",
    "    #     for j in range(4):\r\n",
    "    #         print(f'{i} {j}: {result[i][j].shape}')"
   ],
   "outputs": [
    {
     "output_type": "stream",
     "name": "stdout",
     "text": [
      "0 0: (54, 40)\n",
      "0 1: (8, 40)\n",
      "0 2: (54,)\n",
      "0 3: (8,)\n",
      "1 0: (52, 40)\n",
      "1 1: (8, 40)\n",
      "1 2: (52,)\n",
      "1 3: (8,)\n",
      "2 0: (60, 40)\n",
      "2 1: (8, 40)\n",
      "2 2: (60,)\n",
      "2 3: (8,)\n",
      "3 0: (48, 40)\n",
      "3 1: (8, 40)\n",
      "3 2: (48,)\n",
      "3 3: (8,)\n"
     ]
    }
   ],
   "metadata": {}
  },
  {
   "cell_type": "code",
   "execution_count": null,
   "source": [],
   "outputs": [],
   "metadata": {}
  },
  {
   "cell_type": "code",
   "execution_count": null,
   "source": [],
   "outputs": [],
   "metadata": {}
  }
 ],
 "metadata": {
  "kernelspec": {
   "name": "python3",
   "display_name": "Python 3.7.3 64-bit ('base': conda)"
  },
  "language_info": {
   "codemirror_mode": {
    "name": "ipython",
    "version": 3
   },
   "file_extension": ".py",
   "mimetype": "text/x-python",
   "name": "python",
   "nbconvert_exporter": "python",
   "pygments_lexer": "ipython3",
   "version": "3.7.3"
  },
  "interpreter": {
   "hash": "ea9cb6ab4d914a35d8e6d0a69a1d89f0d94b47e6dbf4bfc8b7ae98e3408380a4"
  }
 },
 "nbformat": 4,
 "nbformat_minor": 2
}