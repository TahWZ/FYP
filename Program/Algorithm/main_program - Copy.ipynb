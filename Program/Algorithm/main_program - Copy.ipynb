{
 "cells": [
  {
   "cell_type": "markdown",
   "source": [
    "# Imports"
   ],
   "metadata": {}
  },
  {
   "cell_type": "code",
   "execution_count": 1,
   "source": [
    "import numpy as np\r\n",
    "import pandas as pd\r\n",
    "from scipy.io import arff\r\n",
    "from sklearn.model_selection import train_test_split\r\n",
    "from sklearn import metrics\r\n",
    "\r\n",
    "# Suppress Warnings\r\n",
    "import warnings\r\n",
    "warnings.filterwarnings('ignore')"
   ],
   "outputs": [],
   "metadata": {}
  },
  {
   "cell_type": "markdown",
   "source": [
    "# Preprocessing"
   ],
   "metadata": {}
  },
  {
   "cell_type": "code",
   "execution_count": 2,
   "source": [
    "#========== IMPORTS =============#\r\n",
    "# Allows jupyter notebook to be imported\r\n",
    "import jupyter_import\r\n",
    "from data_preproc.Preprocess import preprocess, Normalize\r\n",
    "#================================#"
   ],
   "outputs": [
    {
     "output_type": "stream",
     "name": "stdout",
     "text": [
      "importing Jupyter notebook from e:\\FIT3162 Computer Science Project 2\\Program\\Algorithm\\data_preproc\\Preprocess.ipynb\n"
     ]
    }
   ],
   "metadata": {}
  },
  {
   "cell_type": "markdown",
   "source": [
    "# Feature Selection"
   ],
   "metadata": {}
  },
  {
   "cell_type": "code",
   "execution_count": 3,
   "source": [
    "from data_preproc.CFS import cfs_algo\r\n",
    "from data_preproc.RFE import rfe_algo\r\n",
    "from data_preproc.RR import ridge_algo"
   ],
   "outputs": [
    {
     "output_type": "stream",
     "name": "stdout",
     "text": [
      "importing Jupyter notebook from e:\\FIT3162 Computer Science Project 2\\Program\\Algorithm\\data_preproc\\CFS.ipynb\n",
      "importing Jupyter notebook from e:\\FIT3162 Computer Science Project 2\\Program\\Algorithm\\data_preproc\\RFE.ipynb\n",
      "importing Jupyter notebook from e:\\FIT3162 Computer Science Project 2\\Program\\Algorithm\\data_preproc\\RR.ipynb\n"
     ]
    }
   ],
   "metadata": {}
  },
  {
   "cell_type": "markdown",
   "source": [
    "# Algorithms"
   ],
   "metadata": {}
  },
  {
   "cell_type": "markdown",
   "source": [
    "## Base Predictors"
   ],
   "metadata": {}
  },
  {
   "cell_type": "code",
   "execution_count": 4,
   "source": [
    "from pred_mdls.base.Complement_Naive_Bayes import complement_naive_bayes_model\r\n",
    "from pred_mdls.base.Decision_Tree import decision_tree_model\r\n",
    "from pred_mdls.base.Logistic_Regression import logistic_regression_model\r\n",
    "from pred_mdls.base.Multi_Layer_Perceptron import multi_layer_perceptron_model\r\n",
    "from pred_mdls.base.Naive_Bayes import naive_bayes_model"
   ],
   "outputs": [
    {
     "output_type": "stream",
     "name": "stdout",
     "text": [
      "importing Jupyter notebook from e:\\FIT3162 Computer Science Project 2\\Program\\Algorithm\\pred_mdls\\base\\Complement_Naive_Bayes.ipynb\n",
      "importing Jupyter notebook from e:\\FIT3162 Computer Science Project 2\\Program\\Algorithm\\pred_mdls\\base\\Decision_Tree.ipynb\n",
      "importing Jupyter notebook from e:\\FIT3162 Computer Science Project 2\\Program\\Algorithm\\pred_mdls\\base\\Logistic_Regression.ipynb\n",
      "importing Jupyter notebook from e:\\FIT3162 Computer Science Project 2\\Program\\Algorithm\\pred_mdls\\base\\Multi_Layer_Perceptron.ipynb\n",
      "importing Jupyter notebook from e:\\FIT3162 Computer Science Project 2\\Program\\Algorithm\\pred_mdls\\base\\Naive_Bayes.ipynb\n"
     ]
    }
   ],
   "metadata": {}
  },
  {
   "cell_type": "markdown",
   "source": [
    "## Ensemble Predictors"
   ],
   "metadata": {}
  },
  {
   "cell_type": "code",
   "execution_count": 5,
   "source": [
    "from pred_mdls.ensemble.Random_Forest import random_forest_model\r\n",
    "from pred_mdls.ensemble.Rotation_Forest import rotation_forest_model\r\n",
    "from pred_mdls.ensemble.Voting import voting_model"
   ],
   "outputs": [
    {
     "output_type": "stream",
     "name": "stdout",
     "text": [
      "importing Jupyter notebook from e:\\FIT3162 Computer Science Project 2\\Program\\Algorithm\\pred_mdls\\ensemble\\Random_Forest.ipynb\n",
      "importing Jupyter notebook from e:\\FIT3162 Computer Science Project 2\\Program\\Algorithm\\pred_mdls\\ensemble\\Rotation_Forest.ipynb\n",
      "importing Jupyter notebook from e:\\FIT3162 Computer Science Project 2\\Program\\Algorithm\\pred_mdls\\ensemble\\Voting.ipynb\n"
     ]
    }
   ],
   "metadata": {}
  },
  {
   "cell_type": "markdown",
   "source": [
    "# Evaluation Metrics"
   ],
   "metadata": {}
  },
  {
   "cell_type": "code",
   "execution_count": 6,
   "source": [
    "from pf_eval.AUC_ROC import auc_roc_model\r\n",
    "from pf_eval.F1_Score import f1_model"
   ],
   "outputs": [
    {
     "output_type": "stream",
     "name": "stdout",
     "text": [
      "importing Jupyter notebook from e:\\FIT3162 Computer Science Project 2\\Program\\Algorithm\\pf_eval\\AUC_ROC.ipynb\n",
      "importing Jupyter notebook from e:\\FIT3162 Computer Science Project 2\\Program\\Algorithm\\pf_eval\\F1_Score.ipynb\n"
     ]
    }
   ],
   "metadata": {}
  },
  {
   "cell_type": "code",
   "execution_count": 8,
   "source": [
    "def data_conversion(data):\r\n",
    "    for i in range(len(data)):\r\n",
    "        if data[i] == b'N':\r\n",
    "            data[i] = 0\r\n",
    "        else:\r\n",
    "            data[i] = 1\r\n",
    "    return data\r\n",
    "\r\n",
    "def read_data(filename):\r\n",
    "    data = arff.loadarff(filename)\r\n",
    "    loaddata = pd.DataFrame(data[0])\r\n",
    "    return loaddata\r\n",
    "\r\n",
    "def process_data(loaddata,features):\r\n",
    "    # Features are selected based on CFS\r\n",
    "    software_metrics = np.array(loaddata[features])\r\n",
    "    labels = np.array(loaddata['Defective'])\r\n",
    "    return software_metrics,labels\r\n",
    "\r\n",
    "def train_data(software_metrics,labels):\r\n",
    "    X_train, X_test, y_train, y_test = train_test_split(software_metrics, labels, test_size = 0.1)\r\n",
    "    y_train = y_train.astype('str')\r\n",
    "    y_test = y_test.astype('str')\r\n",
    "    return X_train, X_test, y_train, y_test\r\n",
    "\r\n",
    "def evaluate_data(model,model_name,X_test,y_test):\r\n",
    "    predictions = model.predict(X_test)\r\n",
    "    auc_score = auc_roc_model(model,X_test,y_test)\r\n",
    "    f1_score = f1_model(model,X_test,y_test)\r\n",
    "    print(f\"Model Name: {model_name}\")\r\n",
    "    print(f'Accuracy: {round(metrics.accuracy_score(y_test, predictions)*100,2)}%')\r\n",
    "    print(f'AUC Score: {round(auc_score,2)}')\r\n",
    "    print(f'F1-score: {round(f1_score,2)}')\r\n",
    "\r\n",
    "def main(filename):\r\n",
    "    # Read the file\r\n",
    "    loaddata = read_data(filename)\r\n",
    "    loaddata = Normalize(loaddata)\r\n",
    "    #software_metrics = loaddata.iloc[:,:-1] #Software metrics\r\n",
    "    #labels = loaddata.iloc[:,-1] #Labels\r\n",
    "    SM = np.array(loaddata.iloc[:,:-1]) #Software metrics\r\n",
    "    L = data_conversion(np.array(loaddata.iloc[:,-1])).astype(int) #Labels\r\n",
    "    data = [SM,L]\r\n",
    "       \r\n",
    "    # ===== Feature Selection ====== #\r\n",
    "\r\n",
    "    # ==== CFS ==== #\r\n",
    "    cfs, cfs_selections = cfs_algo(data,10)\r\n",
    "    # ============= #\r\n",
    "\r\n",
    "    # ===== RFE ======== #\r\n",
    "    rfe, rfe_selections = rfe_algo(data,10)\r\n",
    "    # ================== #\r\n",
    "    \r\n",
    "    # ========= Preprocessing ============= #\r\n",
    "    pp = preprocess(loaddata)\r\n",
    "    pp_cfs = preprocess(loaddata, cfs_selections)\r\n",
    "    pp_rfe = preprocess(loaddata, rfe_selections)\r\n",
    "\r\n",
    "    pp_arr = [pp,pp_cfs,pp_rfe]\r\n",
    "    pp_name = ['No filters','CFS Feature Selection','RFE Feature Selection']\r\n",
    "    args = [1000]\r\n",
    "    # ====================================== #\r\n",
    "\r\n",
    "    for i,pp in enumerate(pp_arr):\r\n",
    "        print(pp_name[i])\r\n",
    "        data = [pp[0][0],pp[0][2]]\r\n",
    "    \r\n",
    "        # ======== Model Creation =========== #\r\n",
    "        # Base Predictors\r\n",
    "        cnb = complement_naive_bayes_model(data,args)\r\n",
    "        dt = decision_tree_model(data,args)\r\n",
    "        lr = logistic_regression_model(data,args)\r\n",
    "        mlp = multi_layer_perceptron_model(data,args)\r\n",
    "        nb = naive_bayes_model(data,args)\r\n",
    "\r\n",
    "        # Ensemble Predictors\r\n",
    "        rf = random_forest_model(data,args)\r\n",
    "        rof = rotation_forest_model(data,args)\r\n",
    "        vt = voting_model(data,args)\r\n",
    "        # ==================================== #\r\n",
    "\r\n",
    "        models = [cnb,dt,lr,mlp,nb,rf,rof,vt] \r\n",
    "        model_name = ['Complement Naive Bayes','Decision Tree','Logistic regression',\r\n",
    "                        'Multi Layer Perceptron','Naive Bayes','Random Forest','Rotation Forest','Voting']\r\n",
    "        for i in range(len(models)):\r\n",
    "            print('*'*50)\r\n",
    "            evaluate_data(models[i],model_name[i],pp[0][1],pp[0][3])\r\n",
    "        print('='*100)\r\n",
    "\r\n",
    "if __name__=='__main__':\r\n",
    "    filename = 'datasets/KC4.arff.txt'\r\n",
    "    main(filename)"
   ],
   "outputs": [
    {
     "output_type": "stream",
     "name": "stdout",
     "text": [
      "No filters\n",
      "**************************************************\n",
      "Model Name: Complement Naive Bayes\n",
      "Accuracy: 87.5%\n",
      "AUC Score: 1.0\n",
      "F1-score: 88.89\n",
      "**************************************************\n",
      "Model Name: Decision Tree\n",
      "Accuracy: 87.5%\n",
      "AUC Score: 0.88\n",
      "F1-score: 88.89\n",
      "**************************************************\n",
      "Model Name: Logistic regression\n",
      "Accuracy: 75.0%\n",
      "AUC Score: 0.75\n",
      "F1-score: 75.0\n",
      "**************************************************\n",
      "Model Name: Multi Layer Perceptron\n",
      "Accuracy: 87.5%\n",
      "AUC Score: 0.84\n",
      "F1-score: 88.89\n",
      "**************************************************\n",
      "Model Name: Naive Bayes\n",
      "Accuracy: 75.0%\n",
      "AUC Score: 0.88\n",
      "F1-score: 75.0\n",
      "**************************************************\n",
      "Model Name: Random Forest\n",
      "Accuracy: 87.5%\n",
      "AUC Score: 0.94\n",
      "F1-score: 88.89\n",
      "**************************************************\n",
      "Model Name: Rotation Forest\n",
      "Accuracy: 75.0%\n",
      "AUC Score: 0.88\n",
      "F1-score: 80.0\n",
      "**************************************************\n"
     ]
    },
    {
     "output_type": "error",
     "ename": "AttributeError",
     "evalue": "predict_proba is not available when voting='hard'",
     "traceback": [
      "\u001b[1;31m---------------------------------------------------------------------------\u001b[0m",
      "\u001b[1;31mAttributeError\u001b[0m                            Traceback (most recent call last)",
      "\u001b[1;32m<ipython-input-8-b9030d4df14e>\u001b[0m in \u001b[0;36m<module>\u001b[1;34m\u001b[0m\n\u001b[0;32m     93\u001b[0m \u001b[1;32mif\u001b[0m \u001b[0m__name__\u001b[0m\u001b[1;33m==\u001b[0m\u001b[1;34m'__main__'\u001b[0m\u001b[1;33m:\u001b[0m\u001b[1;33m\u001b[0m\u001b[1;33m\u001b[0m\u001b[0m\n\u001b[0;32m     94\u001b[0m     \u001b[0mfilename\u001b[0m \u001b[1;33m=\u001b[0m \u001b[1;34m'datasets/KC4.arff.txt'\u001b[0m\u001b[1;33m\u001b[0m\u001b[1;33m\u001b[0m\u001b[0m\n\u001b[1;32m---> 95\u001b[1;33m     \u001b[0mmain\u001b[0m\u001b[1;33m(\u001b[0m\u001b[0mfilename\u001b[0m\u001b[1;33m)\u001b[0m\u001b[1;33m\u001b[0m\u001b[1;33m\u001b[0m\u001b[0m\n\u001b[0m",
      "\u001b[1;32m<ipython-input-8-b9030d4df14e>\u001b[0m in \u001b[0;36mmain\u001b[1;34m(filename)\u001b[0m\n\u001b[0;32m     88\u001b[0m         \u001b[1;32mfor\u001b[0m \u001b[0mi\u001b[0m \u001b[1;32min\u001b[0m \u001b[0mrange\u001b[0m\u001b[1;33m(\u001b[0m\u001b[0mlen\u001b[0m\u001b[1;33m(\u001b[0m\u001b[0mmodels\u001b[0m\u001b[1;33m)\u001b[0m\u001b[1;33m)\u001b[0m\u001b[1;33m:\u001b[0m\u001b[1;33m\u001b[0m\u001b[1;33m\u001b[0m\u001b[0m\n\u001b[0;32m     89\u001b[0m             \u001b[0mprint\u001b[0m\u001b[1;33m(\u001b[0m\u001b[1;34m'*'\u001b[0m\u001b[1;33m*\u001b[0m\u001b[1;36m50\u001b[0m\u001b[1;33m)\u001b[0m\u001b[1;33m\u001b[0m\u001b[1;33m\u001b[0m\u001b[0m\n\u001b[1;32m---> 90\u001b[1;33m             \u001b[0mevaluate_data\u001b[0m\u001b[1;33m(\u001b[0m\u001b[0mmodels\u001b[0m\u001b[1;33m[\u001b[0m\u001b[0mi\u001b[0m\u001b[1;33m]\u001b[0m\u001b[1;33m,\u001b[0m\u001b[0mmodel_name\u001b[0m\u001b[1;33m[\u001b[0m\u001b[0mi\u001b[0m\u001b[1;33m]\u001b[0m\u001b[1;33m,\u001b[0m\u001b[0mpp\u001b[0m\u001b[1;33m[\u001b[0m\u001b[1;36m0\u001b[0m\u001b[1;33m]\u001b[0m\u001b[1;33m[\u001b[0m\u001b[1;36m1\u001b[0m\u001b[1;33m]\u001b[0m\u001b[1;33m,\u001b[0m\u001b[0mpp\u001b[0m\u001b[1;33m[\u001b[0m\u001b[1;36m0\u001b[0m\u001b[1;33m]\u001b[0m\u001b[1;33m[\u001b[0m\u001b[1;36m3\u001b[0m\u001b[1;33m]\u001b[0m\u001b[1;33m)\u001b[0m\u001b[1;33m\u001b[0m\u001b[1;33m\u001b[0m\u001b[0m\n\u001b[0m\u001b[0;32m     91\u001b[0m         \u001b[0mprint\u001b[0m\u001b[1;33m(\u001b[0m\u001b[1;34m'='\u001b[0m\u001b[1;33m*\u001b[0m\u001b[1;36m100\u001b[0m\u001b[1;33m)\u001b[0m\u001b[1;33m\u001b[0m\u001b[1;33m\u001b[0m\u001b[0m\n\u001b[0;32m     92\u001b[0m \u001b[1;33m\u001b[0m\u001b[0m\n",
      "\u001b[1;32m<ipython-input-8-b9030d4df14e>\u001b[0m in \u001b[0;36mevaluate_data\u001b[1;34m(model, model_name, X_test, y_test)\u001b[0m\n\u001b[0;32m     26\u001b[0m \u001b[1;32mdef\u001b[0m \u001b[0mevaluate_data\u001b[0m\u001b[1;33m(\u001b[0m\u001b[0mmodel\u001b[0m\u001b[1;33m,\u001b[0m\u001b[0mmodel_name\u001b[0m\u001b[1;33m,\u001b[0m\u001b[0mX_test\u001b[0m\u001b[1;33m,\u001b[0m\u001b[0my_test\u001b[0m\u001b[1;33m)\u001b[0m\u001b[1;33m:\u001b[0m\u001b[1;33m\u001b[0m\u001b[1;33m\u001b[0m\u001b[0m\n\u001b[0;32m     27\u001b[0m     \u001b[0mpredictions\u001b[0m \u001b[1;33m=\u001b[0m \u001b[0mmodel\u001b[0m\u001b[1;33m.\u001b[0m\u001b[0mpredict\u001b[0m\u001b[1;33m(\u001b[0m\u001b[0mX_test\u001b[0m\u001b[1;33m)\u001b[0m\u001b[1;33m\u001b[0m\u001b[1;33m\u001b[0m\u001b[0m\n\u001b[1;32m---> 28\u001b[1;33m     \u001b[0mauc_score\u001b[0m \u001b[1;33m=\u001b[0m \u001b[0mauc_roc_model\u001b[0m\u001b[1;33m(\u001b[0m\u001b[0mmodel\u001b[0m\u001b[1;33m,\u001b[0m\u001b[0mX_test\u001b[0m\u001b[1;33m,\u001b[0m\u001b[0my_test\u001b[0m\u001b[1;33m)\u001b[0m\u001b[1;33m\u001b[0m\u001b[1;33m\u001b[0m\u001b[0m\n\u001b[0m\u001b[0;32m     29\u001b[0m     \u001b[0mf1_score\u001b[0m \u001b[1;33m=\u001b[0m \u001b[0mf1_model\u001b[0m\u001b[1;33m(\u001b[0m\u001b[0mmodel\u001b[0m\u001b[1;33m,\u001b[0m\u001b[0mX_test\u001b[0m\u001b[1;33m,\u001b[0m\u001b[0my_test\u001b[0m\u001b[1;33m)\u001b[0m\u001b[1;33m\u001b[0m\u001b[1;33m\u001b[0m\u001b[0m\n\u001b[0;32m     30\u001b[0m     \u001b[0mprint\u001b[0m\u001b[1;33m(\u001b[0m\u001b[1;34mf\"Model Name: {model_name}\"\u001b[0m\u001b[1;33m)\u001b[0m\u001b[1;33m\u001b[0m\u001b[1;33m\u001b[0m\u001b[0m\n",
      "\u001b[1;32me:\\FIT3162 Computer Science Project 2\\Program\\Algorithm\\pf_eval\\AUC_ROC.ipynb\u001b[0m in \u001b[0;36mauc_roc_model\u001b[1;34m(model, X_test, y_test)\u001b[0m\n",
      "\u001b[1;32mE:\\Ananconda3\\lib\\site-packages\\sklearn\\ensemble\\_voting.py\u001b[0m in \u001b[0;36mpredict_proba\u001b[1;34m(self)\u001b[0m\n\u001b[0;32m    347\u001b[0m         \u001b[1;32mif\u001b[0m \u001b[0mself\u001b[0m\u001b[1;33m.\u001b[0m\u001b[0mvoting\u001b[0m \u001b[1;33m==\u001b[0m \u001b[1;34m'hard'\u001b[0m\u001b[1;33m:\u001b[0m\u001b[1;33m\u001b[0m\u001b[1;33m\u001b[0m\u001b[0m\n\u001b[0;32m    348\u001b[0m             raise AttributeError(\"predict_proba is not available when\"\n\u001b[1;32m--> 349\u001b[1;33m                                  \" voting=%r\" % self.voting)\n\u001b[0m\u001b[0;32m    350\u001b[0m         \u001b[1;32mreturn\u001b[0m \u001b[0mself\u001b[0m\u001b[1;33m.\u001b[0m\u001b[0m_predict_proba\u001b[0m\u001b[1;33m\u001b[0m\u001b[1;33m\u001b[0m\u001b[0m\n\u001b[0;32m    351\u001b[0m \u001b[1;33m\u001b[0m\u001b[0m\n",
      "\u001b[1;31mAttributeError\u001b[0m: predict_proba is not available when voting='hard'"
     ]
    }
   ],
   "metadata": {}
  },
  {
   "cell_type": "code",
   "execution_count": null,
   "source": [],
   "outputs": [],
   "metadata": {}
  }
 ],
 "metadata": {
  "interpreter": {
   "hash": "ea9cb6ab4d914a35d8e6d0a69a1d89f0d94b47e6dbf4bfc8b7ae98e3408380a4"
  },
  "kernelspec": {
   "name": "python3",
   "display_name": "Python 3.7.3 64-bit ('base': conda)"
  },
  "language_info": {
   "codemirror_mode": {
    "name": "ipython",
    "version": 3
   },
   "file_extension": ".py",
   "mimetype": "text/x-python",
   "name": "python",
   "nbconvert_exporter": "python",
   "pygments_lexer": "ipython3",
   "version": "3.8.5"
  }
 },
 "nbformat": 4,
 "nbformat_minor": 2
}