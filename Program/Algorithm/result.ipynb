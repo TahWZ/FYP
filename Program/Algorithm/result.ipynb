{
 "cells": [
  {
   "cell_type": "markdown",
   "metadata": {},
   "source": [
    "# Results\n",
    "Takes the output from main_program and create plots using matplotlib."
   ]
  },
  {
   "cell_type": "markdown",
   "metadata": {},
   "source": [
    "## Imports"
   ]
  },
  {
   "cell_type": "code",
   "execution_count": 1,
   "metadata": {},
   "outputs": [],
   "source": [
    "import csv\n",
    "import numpy as np\n",
    "import matplotlib.pyplot as plt\n",
    "plt.style.use('seaborn-white')"
   ]
  },
  {
   "cell_type": "markdown",
   "metadata": {},
   "source": [
    "## Reader functions"
   ]
  },
  {
   "cell_type": "code",
   "execution_count": 53,
   "metadata": {},
   "outputs": [],
   "source": [
    "def csv_reader(filename):\n",
    "    res = [] #Result (A matrix containing the data from the csv file)\n",
    "    with open(filename) as csv_file:\n",
    "        csv_reader = csv.reader(csv_file, delimiter=',')\n",
    "        row_type = 'title'\n",
    "        current = [] #The current evaluation score being read\n",
    "        row_names = [] #The value of the first column in each row\n",
    "        data = [] #The data values\n",
    "        for row in csv_reader:\n",
    "            if row_type == 'title':\n",
    "                #Title name\n",
    "                current.append(row[0])\n",
    "                row_type = 'header'\n",
    "            elif row_type == 'header':\n",
    "                #Column names\n",
    "                current.append(row[1:])\n",
    "                row_type = None\n",
    "            elif row == []:\n",
    "                #End of current\n",
    "                current.extend([row_names] + [data])\n",
    "                res.append(current)\n",
    "                row_names, data, current = [],[],[]\n",
    "                row_type = 'title'\n",
    "            else:\n",
    "                data_row = []\n",
    "                for i, val in enumerate(row):\n",
    "                    if i == 0:\n",
    "                        row_names.append(val)\n",
    "                    else:\n",
    "                        data_row.append(float(val))\n",
    "                data.append(data_row)\n",
    "        current.extend([row_names] + [data])\n",
    "        res.append(current)\n",
    "        row_names, data, current = [],[],[]\n",
    "        row_type = 'title'\n",
    "    return res\n",
    "\n",
    "def select_md(res, selections = [True]*8):\n",
    "    #Do not tranpose data before using this function\n",
    "    assert len(selections) == 8, \"Invalid selection size\"\n",
    "    for i,r in enumerate(res):\n",
    "        fil_data = []\n",
    "        for j, data_row in enumerate(r[3]):\n",
    "            fil_npdata = np.array(data_row)[selections]\n",
    "            print(fil_npdata)\n",
    "            fil_data.append(fil_npdata.tolist())\n",
    "        res[i][3] = fil_data\n",
    "    return res\n",
    "\n",
    "def select_fs(res, fs_select=0, fs_count=3):\n",
    "    #Do not tranpose data before using this function\n",
    "    assert fs_select < fs_count, \"Invalid fs_select\"\n",
    "    for i,r in enumerate(res):\n",
    "        fs_colnames = []\n",
    "        for j, ncol in enumerate(r[2]):\n",
    "            if j%fs_count==fs_select:\n",
    "                fs_colnames.append(ncol)\n",
    "        fs_data = []\n",
    "        for j, data_row in enumerate(r[3]):\n",
    "            if j%fs_count==fs_select:\n",
    "                fs_data.append(data_row)\n",
    "        res[i][2], res[i][3] = fs_colnames, fs_data\n",
    "    return res\n",
    "\n",
    "def tp_res(res):\n",
    "    #Transpose the data\n",
    "    for i,r in enumerate(res):\n",
    "        s_data = np.array(r[3])\n",
    "        res[i][3] = s_data.transpose().tolist()\n",
    "    return res"
   ]
  },
  {
   "cell_type": "code",
   "execution_count": 55,
   "metadata": {},
   "outputs": [
    {
     "name": "stdout",
     "output_type": "stream",
     "text": [
      "[0.725 0.751 0.715 0.717 0.787]\n",
      "[0.531 0.578 0.653 0.65  0.63 ]\n",
      "[0.534 0.569 0.654 0.641 0.642]\n",
      "[0.627 0.561 0.627 0.7   0.668]\n",
      "[0.734 0.759 0.768 0.782 0.742]\n",
      "[0.262 0.836 0.912 0.501 0.871]\n",
      "[0.875 0.746 0.898 0.927 0.741]\n",
      "[0.483 0.439 0.511 0.271 0.61 ]\n",
      "[0.742 0.715 0.86  0.372 0.818]\n",
      "[0.662 0.671 0.84  0.235 0.871]\n",
      "[0.779 0.737 0.842 0.746 0.812]\n",
      "[0.759 0.898 0.888 0.894 0.873]\n",
      "[0.652 0.631 0.68  0.662 0.694]\n",
      "[0.34  0.385 0.328 0.345 0.342]\n",
      "[0.264 0.302 0.327 0.321 0.307]\n",
      "[0.351 0.369 0.404 0.403 0.363]\n",
      "[0.234 0.176 0.217 0.184 0.203]\n",
      "[0.64  0.728 0.664 0.69  0.595]\n",
      "[0.006 0.274 0.    0.    0.113]\n",
      "[0.632 0.665 0.762 0.806 0.56 ]\n",
      "[0.076 0.    0.136 0.    0.031]\n",
      "[0.192 0.22  0.253 0.042 0.202]\n",
      "[0.088 0.111 0.095 0.    0.152]\n",
      "[0.276 0.281 0.316 0.253 0.27 ]\n",
      "[0.319 0.537 0.507 0.52  0.43 ]\n",
      "[0.431 0.459 0.455 0.462 0.461]\n",
      "[0.438 0.35  0.374 0.382 0.422]\n",
      "[0.298 0.582 0.498 0.5   0.364]\n",
      "[0.272 0.582 0.402 0.392 0.3  ]\n",
      "[0.39  0.578 0.4   0.49  0.77 ]\n",
      "[0.546 0.382 0.322 0.416 0.322]\n",
      "[0.254 0.028 0.008 0.028 0.096]\n",
      "[0.426 0.378 0.226 0.148 0.448]\n",
      "[0.298 0.126 0.122 0.066 0.24 ]\n",
      "[0.338 0.254 0.24  0.046 0.34 ]\n",
      "[0.278 0.058 0.07  0.034 0.176]\n",
      "[0.364 0.362 0.322 0.272 0.428]\n",
      "[0.428 0.204 0.214 0.21  0.316]\n",
      "[0.428 0.56  0.476 0.538 0.426]\n",
      "[0.15 0.15 0.25 0.2  0.15]\n",
      "[0.606 0.264 0.276 0.292 0.46 ]\n",
      "[0.57  0.282 0.364 0.374 0.528]\n",
      "[0.3 0.3 0.3 0.3 0. ]\n",
      "[0.128 0.1   0.266 0.136 0.362]\n",
      "[0.9 0.3 1.  1.  0.4]\n",
      "[0.1   0.132 0.1   0.1   0.2  ]\n",
      "[0.6 1.  0.6 1.  0.8]\n",
      "[0.248 0.316 0.2   0.866 0.182]\n",
      "[0.4 0.6 0.6 1.  0.2]\n",
      "[0.162 0.164 0.122 0.262 0.08 ]\n",
      "[0.112 0.    0.046 0.03  0.   ]\n",
      "[0.356 0.178 0.262 0.196 0.302]\n",
      "[[0.725, 0.751, 0.715, 0.717, 0.787], [0.531, 0.578, 0.653, 0.65, 0.63], [0.534, 0.569, 0.654, 0.641, 0.642], [0.627, 0.561, 0.627, 0.7, 0.668], [0.734, 0.759, 0.768, 0.782, 0.742], [0.262, 0.836, 0.912, 0.501, 0.871], [0.875, 0.746, 0.898, 0.927, 0.741], [0.483, 0.439, 0.511, 0.271, 0.61], [0.742, 0.715, 0.86, 0.372, 0.818], [0.662, 0.671, 0.84, 0.235, 0.871], [0.779, 0.737, 0.842, 0.746, 0.812], [0.759, 0.898, 0.888, 0.894, 0.873], [0.652, 0.631, 0.68, 0.662, 0.694]]\n"
     ]
    }
   ],
   "source": [
    "#Tester\n",
    "test1 = True\n",
    "#test1 = False\n",
    "if __name__=='__main__' and test1:\n",
    "    NASA = csv_reader('NASA.csv')\n",
    "    #print(NASA[0][3])\n",
    "    NASA = select_fs(NASA,1)\n",
    "    NASA = select_md(NASA,[True]*5+[False]*3)\n",
    "    #print(len(NASA))\n",
    "    #NASA = tp_res(NASA)\n",
    "    print(NASA[0][3])"
   ]
  },
  {
   "cell_type": "markdown",
   "metadata": {},
   "source": [
    "## Plot functions"
   ]
  },
  {
   "cell_type": "code",
   "execution_count": 40,
   "metadata": {},
   "outputs": [],
   "source": [
    "def quick_plot(ax, fontsize=12):\n",
    "    ax.set_xlabel('x-label', fontsize=fontsize)\n",
    "    ax.set_ylabel('y-label', fontsize=fontsize)\n",
    "    ax.set_title('Title', fontsize=fontsize*2)\n",
    "    plt.show()"
   ]
  },
  {
   "cell_type": "markdown",
   "metadata": {},
   "source": [
    "## Plot"
   ]
  },
  {
   "cell_type": "code",
   "execution_count": 42,
   "metadata": {},
   "outputs": [
    {
     "data": {
      "image/png": "[encoded data removed]",
      "text/plain": [
       "<Figure size 432x288 with 1 Axes>"
      ]
     },
     "metadata": {
      "needs_background": "light"
     },
     "output_type": "display_data"
    }
   ],
   "source": [
    "plt.close('all')\n",
    "NASA = csv_reader('NASA.csv')[0]\n",
    "#NASA = tp_res(NASA)\n",
    "title, col_names, row_names, data = NASA\n",
    "X = np.arange(len(data[0]))\n",
    "fig = plt.figure()\n",
    "ax = fig.add_axes([0,0,1,1])\n",
    "for i, row in enumerate(data):\n",
    "    #for i in range(len(data[0])):\n",
    "    ax.bar(X + i*(0.1), row, color = 'b', width = 0.1)\n",
    "\n",
    "quick_plot(ax, fontsize = 14)"
   ]
  },
  {
   "cell_type": "code",
   "execution_count": null,
   "metadata": {},
   "outputs": [],
   "source": [
    "data = [[30, 25, 50, 20],\n",
    "[40, 23, 51, 17],\n",
    "[35, 22, 45, 19]]\n",
    "X = np.arange(4)\n",
    "fig = plt.figure()\n",
    "ax = fig.add_axes([0,0,1,1])\n",
    "ax.bar(X + 0.00, data[0], color = 'b', width = 0.1)\n",
    "ax.bar(X + 0.25, data[1], color = 'g', width = 0.1)\n",
    "ax.bar(X + 0.50, data[2], color = 'r', width = 0.1)"
   ]
  },
  {
   "cell_type": "code",
   "execution_count": null,
   "metadata": {},
   "outputs": [],
   "source": []
  }
 ],
 "metadata": {
  "kernelspec": {
   "display_name": "Python 3",
   "language": "python",
   "name": "python3"
  },
  "language_info": {
   "codemirror_mode": {
    "name": "ipython",
    "version": 3
   },
   "file_extension": ".py",
   "mimetype": "text/x-python",
   "name": "python",
   "nbconvert_exporter": "python",
   "pygments_lexer": "ipython3",
   "version": "3.7.3"
  }
 },
 "nbformat": 4,
 "nbformat_minor": 2
}
