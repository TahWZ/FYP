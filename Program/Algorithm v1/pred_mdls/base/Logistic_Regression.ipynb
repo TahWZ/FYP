{
 "cells": [
  {
   "cell_type": "code",
   "execution_count": 1,
   "source": [
    "#==== Imports ====#\r\n",
    "import numpy as np\r\n",
    "import pandas as pd\r\n",
    "from scipy.io import arff\r\n",
    "from sklearn.model_selection import train_test_split\r\n",
    "from sklearn import metrics\r\n",
    "from sklearn.linear_model import LogisticRegression\r\n",
    "#=================#\r\n",
    "\r\n",
    "#==== Functions ====#\r\n",
    "def logistic_regression_model(data,args=None):\r\n",
    "    lr = LogisticRegression(solver='lbfgs',max_iter=10000000000)\r\n",
    "    lr.fit(data[0],data[1])\r\n",
    "    return lr\r\n",
    "#===================#"
   ],
   "outputs": [],
   "metadata": {}
  },
  {
   "cell_type": "code",
   "execution_count": 2,
   "source": [
    "#==== Functions ====#\r\n",
    "def read_data(filename):\r\n",
    "    data = arff.loadarff(filename)\r\n",
    "    loaddata = pd.DataFrame(data[0])\r\n",
    "    return loaddata\r\n",
    "\r\n",
    "def process_data(loaddata):\r\n",
    "    software_metrics = np.array(loaddata[['LOC_BLANK','BRANCH_COUNT','CALL_PAIRS','LOC_CODE_AND_COMMENT']])\r\n",
    "    labels = np.array(loaddata['Defective'])\r\n",
    "    print(software_metrics)\r\n",
    "    print(labels)\r\n",
    "    return software_metrics,labels\r\n",
    "\r\n",
    "def train_data(software_metrics,labels):\r\n",
    "    X_train, X_test, y_train, y_test = train_test_split(software_metrics, labels, test_size = 0.1)\r\n",
    "    y_train = y_train.astype('str')\r\n",
    "    y_test = y_test.astype('str')\r\n",
    "    print(X_train)\r\n",
    "    print(y_test)\r\n",
    "    return X_train, X_test, y_train, y_test\r\n",
    "\r\n",
    "def model_data(X_train,y_train,model):\r\n",
    "    model = model.fit(X_train, y_train)\r\n",
    "    return model\r\n",
    "\r\n",
    "def evaluate_data(model,model_name,X_test,y_test):\r\n",
    "    predictions = model.predict(X_test)\r\n",
    "    print(f\"Model Name: {model_name}\")\r\n",
    "    print(f'Accuracy: {round(metrics.accuracy_score(y_test, predictions)*100,2)}%')\r\n",
    "\r\n",
    "def main(filename,model,model_name):\r\n",
    "    loaddata = read_data(filename)\r\n",
    "    software_metrics,labels = process_data(loaddata)\r\n",
    "    X_train, X_test, y_train, y_test = train_data(software_metrics,labels)\r\n",
    "    model = model_data(X_train, y_train, model)\r\n",
    "    evaluate_data(model,model_name,X_test,y_test)\r\n",
    "#===================#"
   ],
   "outputs": [],
   "metadata": {
    "tags": []
   }
  },
  {
   "cell_type": "code",
   "execution_count": 3,
   "source": [
    "#==== Main Algorithm ====#\r\n",
    "if __name__=='__main__':\r\n",
    "    # Change filename here\r\n",
    "    filename = 'CM1.arff.txt'\r\n",
    "\r\n",
    "    # Change model here\r\n",
    "    model = LogisticRegression(solver='lbfgs',max_iter=10000000000)\r\n",
    "\r\n",
    "    # Change model name here\r\n",
    "    model_name = \"Logisitc Regression\"\r\n",
    "\r\n",
    "    main(filename,model,model_name)\r\n",
    "#=========================#"
   ],
   "outputs": [
    {
     "output_type": "stream",
     "name": "stdout",
     "text": [
      "[[ 2.  3.  0.  0.]\n",
      " [ 3.  3.  0.  2.]\n",
      " [38. 35.  4.  5.]\n",
      " ...\n",
      " [ 3.  3.  1.  1.]\n",
      " [ 6.  9.  3. 10.]\n",
      " [ 1.  3.  4.  0.]]\n",
      "[b'N' b'N' b'N' b'Y' b'N' b'N' b'N' b'Y' b'N' b'N' b'Y' b'N' b'N' b'N'\n",
      " b'N' b'N' b'N' b'N' b'N' b'N' b'N' b'Y' b'Y' b'N' b'N' b'Y' b'N' b'N'\n",
      " b'N' b'N' b'N' b'Y' b'Y' b'N' b'N' b'N' b'N' b'Y' b'N' b'Y' b'N' b'N'\n",
      " b'N' b'N' b'N' b'Y' b'N' b'N' b'N' b'N' b'N' b'N' b'N' b'N' b'N' b'N'\n",
      " b'N' b'N' b'N' b'N' b'N' b'Y' b'N' b'N' b'N' b'N' b'N' b'N' b'N' b'Y'\n",
      " b'N' b'Y' b'N' b'N' b'N' b'N' b'N' b'N' b'N' b'N' b'N' b'N' b'N' b'N'\n",
      " b'N' b'N' b'N' b'N' b'N' b'N' b'N' b'Y' b'N' b'N' b'N' b'N' b'N' b'N'\n",
      " b'N' b'N' b'N' b'N' b'N' b'N' b'N' b'Y' b'N' b'N' b'N' b'N' b'N' b'N'\n",
      " b'Y' b'N' b'N' b'Y' b'N' b'N' b'N' b'N' b'N' b'N' b'N' b'Y' b'N' b'N'\n",
      " b'N' b'Y' b'N' b'N' b'N' b'N' b'N' b'N' b'N' b'N' b'N' b'N' b'N' b'Y'\n",
      " b'Y' b'N' b'N' b'N' b'N' b'N' b'N' b'N' b'N' b'N' b'N' b'Y' b'N' b'N'\n",
      " b'N' b'N' b'N' b'N' b'Y' b'N' b'N' b'N' b'N' b'N' b'N' b'N' b'N' b'Y'\n",
      " b'N' b'N' b'N' b'N' b'N' b'N' b'N' b'N' b'N' b'N' b'N' b'Y' b'N' b'N'\n",
      " b'N' b'N' b'N' b'N' b'N' b'N' b'N' b'N' b'N' b'N' b'Y' b'N' b'N' b'N'\n",
      " b'N' b'N' b'N' b'N' b'N' b'N' b'N' b'Y' b'N' b'N' b'N' b'Y' b'N' b'N'\n",
      " b'N' b'N' b'N' b'N' b'N' b'N' b'N' b'N' b'N' b'N' b'N' b'N' b'N' b'N'\n",
      " b'N' b'Y' b'N' b'N' b'N' b'N' b'N' b'N' b'N' b'Y' b'N' b'N' b'N' b'N'\n",
      " b'Y' b'N' b'N' b'N' b'N' b'N' b'N' b'N' b'N' b'N' b'N' b'Y' b'N' b'N'\n",
      " b'N' b'Y' b'N' b'N' b'N' b'N' b'N' b'N' b'N' b'N' b'N' b'N' b'N' b'N'\n",
      " b'N' b'N' b'N' b'N' b'N' b'N' b'N' b'N' b'N' b'N' b'N' b'N' b'N' b'N'\n",
      " b'N' b'N' b'Y' b'N' b'N' b'N' b'N' b'N' b'N' b'N' b'N' b'Y' b'N' b'Y'\n",
      " b'Y' b'N' b'N' b'N' b'N' b'N' b'N' b'N' b'Y' b'N' b'N' b'Y' b'N' b'N'\n",
      " b'N' b'Y' b'N' b'N' b'N' b'N' b'N' b'N' b'N' b'N' b'N' b'N' b'Y' b'N'\n",
      " b'N' b'N' b'N' b'N' b'N']\n",
      "Model Name: Logisitc Regression\n",
      "Accuracy: 87.88%\n"
     ]
    }
   ],
   "metadata": {}
  },
  {
   "cell_type": "code",
   "execution_count": null,
   "source": [],
   "outputs": [],
   "metadata": {}
  }
 ],
 "metadata": {
  "interpreter": {
   "hash": "6d46af94c2bbce495f1e668725902fa517c90b1782bcfe2fce0dd9868df553d3"
  },
  "kernelspec": {
   "name": "python3",
   "display_name": "Python 3.8.8 64-bit ('base': conda)"
  },
  "language_info": {
   "codemirror_mode": {
    "name": "ipython",
    "version": 3
   },
   "file_extension": ".py",
   "mimetype": "text/x-python",
   "name": "python",
   "nbconvert_exporter": "python",
   "pygments_lexer": "ipython3",
   "version": "3.8.8"
  }
 },
 "nbformat": 4,
 "nbformat_minor": 2
}