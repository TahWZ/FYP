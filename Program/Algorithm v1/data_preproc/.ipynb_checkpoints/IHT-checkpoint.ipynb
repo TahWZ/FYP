{
 "cells": [
  {
   "cell_type": "code",
   "execution_count": 37,
   "metadata": {},
   "outputs": [],
   "source": [
    "#==== Imports ====#\n",
    "from collections import Counter\n",
    "from scipy.io import arff\n",
    "from sklearn.model_selection import train_test_split as ts\n",
    "from imblearn.under_sampling import InstanceHardnessThreshold\n",
    "import pandas as pd\n",
    "import numpy as np\n",
    "#=================#\n",
    "\n",
    "#==== Functions ====#\n",
    "def iht(data):   \n",
    "    under_iht = InstanceHardnessThreshold()\n",
    "    underX, underY = under_iht.fit_resample(data[0],data[1])\n",
    "    return underX, underY\n",
    "\n",
    "def data_conversion(data_column):\n",
    "    for i in range(len(data_column)):\n",
    "        if data_column[i] == b'N':\n",
    "            data_column[i] = 0\n",
    "        else:\n",
    "            data_column[i] = 1\n",
    "    return data_column\n",
    "#===================#"
   ]
  },
  {
   "cell_type": "code",
   "execution_count": 44,
   "metadata": {},
   "outputs": [
    {
     "name": "stdout",
     "output_type": "stream",
     "text": [
      "Original dataset shape Counter({0: 60, 1: 52})\n",
      "112\n",
      "Resampled dataset shape Counter({0: 52, 1: 52})\n",
      "104\n"
     ]
    }
   ],
   "source": [
    "#==== Main Algorithm ====#\n",
    "#File\n",
    "filename = 'KC4.arff.txt'\n",
    "data = arff.loadarff(filename)\n",
    "loaddata = pd.DataFrame(data[0])\n",
    "\n",
    "#Software metrics and decisions\n",
    "SM = np.array(loaddata[['LOC_BLANK','BRANCH_COUNT','CALL_PAIRS','LOC_CODE_AND_COMMENT']]) #Software metrics\n",
    "L = data_conversion(np.array(loaddata['Defective'])) #label\n",
    "SM_train, SM_test, L_train, L_test = ts(SM,L,test_size = 0.1)\n",
    "L_train=L_train.astype(int)\n",
    "\n",
    "#Resampling of data\n",
    "data = [SM_train,L_train]\n",
    "print('Original dataset shape %s' % Counter(data[1]))\n",
    "print(len(data[0]))\n",
    "SM_under, L_under = iht(data)\n",
    "print('Resampled dataset shape %s' % Counter(L_under)) \n",
    "print(len(SM_under))\n",
    "#=========================#"
   ]
  },
  {
   "cell_type": "code",
   "execution_count": null,
   "metadata": {},
   "outputs": [],
   "source": []
  }
 ],
 "metadata": {
  "kernelspec": {
   "display_name": "Python 3",
   "language": "python",
   "name": "python3"
  },
  "language_info": {
   "codemirror_mode": {
    "name": "ipython",
    "version": 3
   },
   "file_extension": ".py",
   "mimetype": "text/x-python",
   "name": "python",
   "nbconvert_exporter": "python",
   "pygments_lexer": "ipython3",
   "version": "3.8.5"
  }
 },
 "nbformat": 4,
 "nbformat_minor": 4
}
