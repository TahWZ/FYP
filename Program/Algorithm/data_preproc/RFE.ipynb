{
 "cells": [
  {
   "cell_type": "code",
   "execution_count": 7,
   "source": [
    "#==== Imports ====#\r\n",
    "from sklearn.feature_selection import RFE\r\n",
    "from sklearn.linear_model import LogisticRegression\r\n",
    "from sklearn.model_selection import train_test_split as ts\r\n",
    "from scipy.io import arff\r\n",
    "import pandas as pd\r\n",
    "import numpy as np\r\n",
    "from sklearn.pipeline import make_pipeline\r\n",
    "from sklearn.preprocessing import StandardScaler\r\n",
    "#=================#\r\n",
    "\r\n",
    "#==== Functions ====#\r\n",
    "def data_conversion(data_column):\r\n",
    "    for i in range(len(data_column)):\r\n",
    "        if data_column[i] == b'N':\r\n",
    "            data_column[i] = 0\r\n",
    "        else:\r\n",
    "            data_column[i] = 1\r\n",
    "    return data_column\r\n",
    "\r\n",
    "def rfe_algo(data):\r\n",
    "    model = LogisticRegression(solver='lbfgs',max_iter=10000000000) \r\n",
    "    pipe = make_pipeline(StandardScaler(), RFE(model, 3))\r\n",
    "    rfe = pipe.fit(data[0], data[1])\r\n",
    "    return rfe\r\n",
    "#===================#"
   ],
   "outputs": [],
   "metadata": {}
  },
  {
   "cell_type": "code",
   "execution_count": 4,
   "source": [
    "#==== Main Algorithm ====#\r\n",
    "#File\r\n",
    "filename = 'KC4.arff.txt'\r\n",
    "data = arff.loadarff(filename)\r\n",
    "loaddata = pd.DataFrame(data[0])\r\n",
    "\r\n",
    "#Software metrics and decisions\r\n",
    "SM = np.array(loaddata[['LOC_BLANK','BRANCH_COUNT','CALL_PAIRS','LOC_CODE_AND_COMMENT']]) #Software metrics\r\n",
    "L = data_conversion(np.array(loaddata['Defective'])) #label\r\n",
    "SM_train, SM_test, L_train, L_test = ts(SM,L,test_size = 0.1)\r\n",
    "L_train=L_train.astype(int)\r\n",
    "\r\n",
    "# Standard Scalar\r\n",
    "scalar = StandardScaler().fit(SM_train)\r\n",
    "SM_scaled = scalar.transform(SM_train)\r\n",
    "\r\n",
    "#Algorithm Tests\r\n",
    "data = [SM_scaled,L_train]\r\n",
    "test = rfe_algo(data)\r\n",
    "print(\"Num Features: %s\" % (test.n_features_))\r\n",
    "print(\"Selected Features: %s\" % (test.support_))\r\n",
    "print(\"Feature Ranking: %s\" % (test.ranking_))\r\n",
    "#=========================#"
   ],
   "outputs": [
    {
     "output_type": "stream",
     "name": "stdout",
     "text": [
      "Num Features: 3\n",
      "Selected Features: [False  True  True  True]\n",
      "Feature Ranking: [2 1 1 1]\n"
     ]
    },
    {
     "output_type": "stream",
     "name": "stderr",
     "text": [
      "E:\\Ananconda3\\lib\\site-packages\\sklearn\\utils\\validation.py:72: FutureWarning: Pass n_features_to_select=3 as keyword args. From version 1.0 (renaming of 0.25) passing these as positional arguments will result in an error\n",
      "  \"will result in an error\", FutureWarning)\n"
     ]
    }
   ],
   "metadata": {}
  },
  {
   "cell_type": "code",
   "execution_count": null,
   "source": [],
   "outputs": [],
   "metadata": {}
  }
 ],
 "metadata": {
  "kernelspec": {
   "name": "python3",
   "display_name": "Python 3.7.3 64-bit ('base': conda)"
  },
  "language_info": {
   "codemirror_mode": {
    "name": "ipython",
    "version": 3
   },
   "file_extension": ".py",
   "mimetype": "text/x-python",
   "name": "python",
   "nbconvert_exporter": "python",
   "pygments_lexer": "ipython3",
   "version": "3.7.3"
  },
  "interpreter": {
   "hash": "ea9cb6ab4d914a35d8e6d0a69a1d89f0d94b47e6dbf4bfc8b7ae98e3408380a4"
  }
 },
 "nbformat": 4,
 "nbformat_minor": 2
}