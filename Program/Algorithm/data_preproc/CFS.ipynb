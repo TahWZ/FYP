{
 "cells": [
  {
   "cell_type": "code",
   "execution_count": 10,
   "metadata": {},
   "outputs": [],
   "source": [
    "#==== Imports ====#\n",
    "from scipy.io import arff\n",
    "import numpy as np\n",
    "import pandas as pd\n",
    "from sklearn.feature_selection import SelectKBest\n",
    "from sklearn.feature_selection import f_classif\n",
    "#=================#\n",
    "\n",
    "#==== Functions ====#\n",
    "def cfs_algo(data, n_k=10):\n",
    "    cfs = SelectKBest(score_func=f_classif, k=n_k)\n",
    "    cfs.fit(data[0],data[1])\n",
    "    supports = cfs.get_support(True)\n",
    "    selections = []\n",
    "    for i in range(len(data[0][0])):\n",
    "        if i in supports:\n",
    "            selections.append(True)\n",
    "        else:\n",
    "            selections.append(False)\n",
    "    return cfs, selections\n",
    "\n",
    "def data_conversion(data):\n",
    "    for i in range(len(data)):\n",
    "        if data[i] == b'N':\n",
    "            data[i] = 0\n",
    "        else:\n",
    "            data[i] = 1\n",
    "    return data\n",
    "#===================#"
   ]
  },
  {
   "cell_type": "code",
   "execution_count": 11,
   "metadata": {
    "scrolled": true
   },
   "outputs": [
    {
     "name": "stdout",
     "output_type": "stream",
     "text": [
      "SM: (125, 40)\n",
      "L: (125,)\n",
      "(SelectKBest(), [False, True, True, False, False, False, True, True, False, False, True, True, True, False, False, False, False, False, False, False, False, False, False, False, False, False, False, True, False, False, True, True, False, False, False, False, False, False, False, False])\n"
     ]
    },
    {
     "name": "stderr",
     "output_type": "stream",
     "text": [
      "C:\\Users\\user\\anaconda3\\lib\\site-packages\\sklearn\\feature_selection\\_univariate_selection.py:114: UserWarning: Features [ 0  3  4  5  8  9 15 16 17 18 19 20 21 22 23 24 25 26 28 29 32 33 34 35\n",
      " 37 38] are constant.\n",
      "  warnings.warn(\"Features %s are constant.\" % constant_features_idx,\n",
      "C:\\Users\\user\\anaconda3\\lib\\site-packages\\sklearn\\feature_selection\\_univariate_selection.py:116: RuntimeWarning: invalid value encountered in true_divide\n",
      "  f = msb / msw\n",
      "C:\\Users\\user\\anaconda3\\lib\\site-packages\\sklearn\\feature_selection\\_univariate_selection.py:114: UserWarning: Features [ 0  3  4  5  8  9 15 16 17 18 19 20 21 22 23 24 25 26 28 29 32 33 34 35\n",
      " 37 38] are constant.\n",
      "  warnings.warn(\"Features %s are constant.\" % constant_features_idx,\n",
      "C:\\Users\\user\\anaconda3\\lib\\site-packages\\sklearn\\feature_selection\\_univariate_selection.py:116: RuntimeWarning: invalid value encountered in true_divide\n",
      "  f = msb / msw\n"
     ]
    }
   ],
   "source": [
    "#==== Main Algorithm ====#\n",
    "if __name__=='__main__':\n",
    "    raw = arff.loadarff('KC4.arff.txt')\n",
    "    data = pd.DataFrame(raw[0])\n",
    "    fs = SelectKBest(score_func=f_classif, k=5)\n",
    "    SM = np.array(data.iloc[:,:-1]) #Software metrics\n",
    "    L = data_conversion(np.array(data.iloc[:,-1])).astype(int) #Labels\n",
    "    fit = fs.fit(SM,L)\n",
    "    np.set_printoptions(precision=3, suppress = True)\n",
    "    features = fit.transform(SM)\n",
    "    #print(SM)\n",
    "    print(cfs_algo([SM,L]))\n",
    "#=========================#"
   ]
  },
  {
   "cell_type": "code",
   "execution_count": 12,
   "metadata": {},
   "outputs": [],
   "source": [
    "#==== Temporary Tests ====#\n",
    "#print(fit.get_support(True))\n",
    "#print(fit.scores_)\n",
    "#print(features[0:5,:])\n",
    "#=========================#"
   ]
  }
 ],
 "metadata": {
  "interpreter": {
   "hash": "6d46af94c2bbce495f1e668725902fa517c90b1782bcfe2fce0dd9868df553d3"
  },
  "kernelspec": {
   "display_name": "Python 3",
   "language": "python",
   "name": "python3"
  },
  "language_info": {
   "codemirror_mode": {
    "name": "ipython",
    "version": 3
   },
   "file_extension": ".py",
   "mimetype": "text/x-python",
   "name": "python",
   "nbconvert_exporter": "python",
   "pygments_lexer": "ipython3",
   "version": "3.7.3"
  }
 },
 "nbformat": 4,
 "nbformat_minor": 2
}
