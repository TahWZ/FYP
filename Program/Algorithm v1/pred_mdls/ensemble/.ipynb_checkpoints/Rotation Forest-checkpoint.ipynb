{
 "cells": [
  {
   "cell_type": "code",
   "execution_count": 1,
   "metadata": {},
   "outputs": [],
   "source": [
    "#==== Imports ====#\n",
    "from sklearn import metrics\n",
    "from rotation_forest import RotationForestClassifier as RFC\n",
    "from scipy.io import arff\n",
    "from sklearn.model_selection import train_test_split as ts\n",
    "import pandas as pd\n",
    "import numpy as np\n",
    "#=================#\n",
    "\n",
    "#==== Functions ====#\n",
    "def rotate_forest(data, args):\n",
    "    forest = RFC()\n",
    "    forest.fit(data[0],data[1])\n",
    "    return forest\n",
    "#===================#"
   ]
  },
  {
   "cell_type": "code",
   "execution_count": 2,
   "metadata": {},
   "outputs": [],
   "source": [
    "#==== Main Algorithm ====#\n",
    "#File\n",
    "filename = 'CM1.arff.txt'\n",
    "data = arff.loadarff(filename)\n",
    "loaddata = pd.DataFrame(data[0])\n",
    "\n",
    "#Software metrics and decisions\n",
    "SM = np.array(loaddata[['LOC_BLANK','BRANCH_COUNT','CALL_PAIRS','LOC_CODE_AND_COMMENT']]) #Software metrics\n",
    "L = np.array(loaddata['Defective']) #label\n",
    "SM_train, SM_test, L_train, L_test = ts(SM,L,test_size = 0.1)\n",
    "L_train=L_train.astype('str')\n",
    "L_test=L_test.astype('str')\n",
    "\n",
    "#Modeling\n",
    "data = [SM_train,L_train]\n",
    "args = [1000]\n",
    "rotation = rotate_forest(data, args)\n",
    "predictions = rotation.predict(SM_test)\n",
    "print(\"Accuracy:\",metrics.accuracy_score(L_test, predictions))\n",
    "#=========================#"
   ]
  }
 ],
 "metadata": {
  "kernelspec": {
   "display_name": "Python 3",
   "language": "python",
   "name": "python3"
  },
  "language_info": {
   "codemirror_mode": {
    "name": "ipython",
    "version": 3
   },
   "file_extension": ".py",
   "mimetype": "text/x-python",
   "name": "python",
   "nbconvert_exporter": "python",
   "pygments_lexer": "ipython3",
   "version": "3.8.5"
  }
 },
 "nbformat": 4,
 "nbformat_minor": 4
}
