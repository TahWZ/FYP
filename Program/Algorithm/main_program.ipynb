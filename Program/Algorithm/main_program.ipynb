{
 "cells": [
  {
   "cell_type": "markdown",
   "metadata": {},
   "source": [
    "# Imports"
   ]
  },
  {
   "cell_type": "code",
   "execution_count": 11,
   "metadata": {},
   "outputs": [],
   "source": [
    "import csv\n",
    "import numpy as np\n",
    "import pandas as pd\n",
    "from scipy.io import arff\n",
    "from sklearn.model_selection import train_test_split\n",
    "from sklearn import metrics\n",
    "\n",
    "# Suppress Warnings\n",
    "import warnings\n",
    "warnings.filterwarnings('ignore')"
   ]
  },
  {
   "cell_type": "markdown",
   "metadata": {},
   "source": [
    "# Preprocessing"
   ]
  },
  {
   "cell_type": "code",
   "execution_count": 2,
   "metadata": {},
   "outputs": [
    {
     "name": "stdout",
     "output_type": "stream",
     "text": [
      "importing Jupyter notebook from D:\\FYP i guess\\I need to do Naive Bayes\\Program\\Algorithm\\data_preproc\\Preprocess.ipynb\n"
     ]
    }
   ],
   "source": [
    "#========== IMPORTS =============#\n",
    "# Allows jupyter notebook to be imported\n",
    "import jupyter_import\n",
    "from data_preproc.Preprocess import preprocess, Normalize\n",
    "#================================#"
   ]
  },
  {
   "cell_type": "markdown",
   "metadata": {},
   "source": [
    "# Feature Selection"
   ]
  },
  {
   "cell_type": "code",
   "execution_count": 3,
   "metadata": {},
   "outputs": [
    {
     "name": "stdout",
     "output_type": "stream",
     "text": [
      "importing Jupyter notebook from D:\\FYP i guess\\I need to do Naive Bayes\\Program\\Algorithm\\data_preproc\\CFS.ipynb\n",
      "importing Jupyter notebook from D:\\FYP i guess\\I need to do Naive Bayes\\Program\\Algorithm\\data_preproc\\RFE.ipynb\n",
      "importing Jupyter notebook from D:\\FYP i guess\\I need to do Naive Bayes\\Program\\Algorithm\\data_preproc\\RR.ipynb\n"
     ]
    }
   ],
   "source": [
    "from data_preproc.CFS import cfs_algo\n",
    "from data_preproc.RFE import rfe_algo\n",
    "from data_preproc.RR import ridge_algo"
   ]
  },
  {
   "cell_type": "markdown",
   "metadata": {},
   "source": [
    "# Algorithms"
   ]
  },
  {
   "cell_type": "markdown",
   "metadata": {},
   "source": [
    "## Base Predictors"
   ]
  },
  {
   "cell_type": "code",
   "execution_count": 4,
   "metadata": {},
   "outputs": [
    {
     "name": "stdout",
     "output_type": "stream",
     "text": [
      "importing Jupyter notebook from D:\\FYP i guess\\I need to do Naive Bayes\\Program\\Algorithm\\pred_mdls\\base\\Complement_Naive_Bayes.ipynb\n",
      "importing Jupyter notebook from D:\\FYP i guess\\I need to do Naive Bayes\\Program\\Algorithm\\pred_mdls\\base\\Decision_Tree.ipynb\n",
      "importing Jupyter notebook from D:\\FYP i guess\\I need to do Naive Bayes\\Program\\Algorithm\\pred_mdls\\base\\Logistic_Regression.ipynb\n",
      "importing Jupyter notebook from D:\\FYP i guess\\I need to do Naive Bayes\\Program\\Algorithm\\pred_mdls\\base\\Multi_Layer_Perceptron.ipynb\n",
      "importing Jupyter notebook from D:\\FYP i guess\\I need to do Naive Bayes\\Program\\Algorithm\\pred_mdls\\base\\Naive_Bayes.ipynb\n"
     ]
    }
   ],
   "source": [
    "from pred_mdls.base.Complement_Naive_Bayes import complement_naive_bayes_model\n",
    "from pred_mdls.base.Decision_Tree import decision_tree_model\n",
    "from pred_mdls.base.Logistic_Regression import logistic_regression_model\n",
    "from pred_mdls.base.Multi_Layer_Perceptron import multi_layer_perceptron_model\n",
    "from pred_mdls.base.Naive_Bayes import naive_bayes_model"
   ]
  },
  {
   "cell_type": "markdown",
   "metadata": {},
   "source": [
    "## Ensemble Predictors"
   ]
  },
  {
   "cell_type": "code",
   "execution_count": 5,
   "metadata": {},
   "outputs": [
    {
     "name": "stdout",
     "output_type": "stream",
     "text": [
      "importing Jupyter notebook from D:\\FYP i guess\\I need to do Naive Bayes\\Program\\Algorithm\\pred_mdls\\ensemble\\Random_Forest.ipynb\n",
      "importing Jupyter notebook from D:\\FYP i guess\\I need to do Naive Bayes\\Program\\Algorithm\\pred_mdls\\ensemble\\Rotation_Forest.ipynb\n",
      "importing Jupyter notebook from D:\\FYP i guess\\I need to do Naive Bayes\\Program\\Algorithm\\pred_mdls\\ensemble\\Voting.ipynb\n"
     ]
    }
   ],
   "source": [
    "from pred_mdls.ensemble.Random_Forest import random_forest_model\n",
    "from pred_mdls.ensemble.Rotation_Forest import rotation_forest_model\n",
    "from pred_mdls.ensemble.Voting import voting_model"
   ]
  },
  {
   "cell_type": "markdown",
   "metadata": {},
   "source": [
    "# Evaluation Metrics"
   ]
  },
  {
   "cell_type": "code",
   "execution_count": 6,
   "metadata": {},
   "outputs": [
    {
     "name": "stdout",
     "output_type": "stream",
     "text": [
      "importing Jupyter notebook from D:\\FYP i guess\\I need to do Naive Bayes\\Program\\Algorithm\\pf_eval\\AUC_ROC.ipynb\n",
      "importing Jupyter notebook from D:\\FYP i guess\\I need to do Naive Bayes\\Program\\Algorithm\\pf_eval\\F1_Score.ipynb\n",
      "importing Jupyter notebook from D:\\FYP i guess\\I need to do Naive Bayes\\Program\\Algorithm\\pf_eval\\CSV.ipynb\n"
     ]
    }
   ],
   "source": [
    "from pf_eval.AUC_ROC import auc_roc_model\n",
    "from pf_eval.F1_Score import f1_model\n",
    "from pf_eval.CSV import write_results"
   ]
  },
  {
   "cell_type": "code",
   "execution_count": 12,
   "metadata": {},
   "outputs": [
    {
     "name": "stdout",
     "output_type": "stream",
     "text": [
      "No filters\n",
      "CFS Feature Selection\n",
      "RFE Feature Selection\n",
      "['Model Name', 'Complement Naive Bayes', 'Decision Tree', 'Logistic regression', 'Multi Layer Perceptron', 'Naive Bayes', 'Random Forest', 'Rotation Forest', 'Voting']\n",
      "[('AUC', [1.0, 0.88, 0.81, 0.84, 0.94, 0.94, 0.84, 0.88, 1.0, 0.75, 1.0, 0.88, 0.84, 1.0, 0.88, 0.94, 1.0, 0.75, 0.75, 0.84, 0.88, 0.88, 0.88, 0.75]), ('F1 Score', [88.89, 88.89, 88.89, 88.89, 75.0, 88.89, 88.89, 88.89, 88.89, 80.0, 80.0, 80.0, 88.89, 88.89, 88.89, 88.89, 88.89, 80.0, 75.0, 88.89, 57.14, 88.89, 80.0, 75.0])]\n"
     ]
    }
   ],
   "source": [
    "def data_conversion(data):\n",
    "    for i in range(len(data)):\n",
    "        if data[i] == b'N':\n",
    "            data[i] = 0\n",
    "        else:\n",
    "            data[i] = 1\n",
    "    return data\n",
    "\n",
    "def read_data(filename):\n",
    "    data = arff.loadarff(filename)\n",
    "    loaddata = pd.DataFrame(data[0])\n",
    "    return loaddata\n",
    "\n",
    "def process_data(loaddata,features):\n",
    "    # Features are selected based on CFS\n",
    "    software_metrics = np.array(loaddata[features])\n",
    "    labels = np.array(loaddata['Defective'])\n",
    "    return software_metrics,labels\n",
    "\n",
    "def train_data(software_metrics,labels):\n",
    "    X_train, X_test, y_train, y_test = train_test_split(software_metrics, labels, test_size = 0.1)\n",
    "    y_train = y_train.astype('str')\n",
    "    y_test = y_test.astype('str')\n",
    "    return X_train, X_test, y_train, y_test\n",
    "\n",
    "def evaluate_data(model,model_name,X_test,y_test):\n",
    "    predictions = model.predict(X_test)\n",
    "    auc_score = round(auc_roc_model(model,X_test,y_test),2)\n",
    "    f1_score = round(f1_model(model,X_test,y_test),2)\n",
    "    #print(f\"Model Name: {model_name}\")\n",
    "    #print(f'Accuracy: {round(metrics.accuracy_score(y_test, predictions)*100,2)}%')\n",
    "    #print(f'AUC Score: {auc_score}')\n",
    "    #print(f'F1-score: {f1_score}')\n",
    "    return auc_score,f1_score\n",
    "\n",
    "def translate(result):\n",
    "    count = 1\n",
    "    res = []\n",
    "    while count <= 3:\n",
    "        for i in range(len(result[0])):\n",
    "            res.append([result[0][i], result[1][((i+1)*count)-1],result[2][((i+1)*count)-1]])\n",
    "        count += 1\n",
    "    return res\n",
    "\n",
    "def write_results(header,result):\n",
    "    filters = ['No filter','CFS','RFE']\n",
    "    #header = ['Dataset', 'Algo 1', 'Algo 2','Algo 3']\n",
    "    #dummy = [['CM1','95%','92%','87%'], ['KC1','Trying','To','Test'],['KC4','90%','80%','70%']]\n",
    "    with open('pred_results.csv','w',encoding='UTF8', newline='') as file:\n",
    "        res = csv.writer(file)\n",
    "        for i in range(len(filters)):\n",
    "            res.writerow('')\n",
    "            res.writerow([filters[i]])\n",
    "            res.writerow(header)\n",
    "            res.writerow([result[0][0]] + result[0][1][i*8:i*8+8])\n",
    "            res.writerow([result[1][0]] + result[1][1][i*8:i*8+8])\n",
    "    \n",
    "\n",
    "def main(filename):\n",
    "    # Read the file\n",
    "    loaddata = read_data(filename)\n",
    "    loaddata = Normalize(loaddata)\n",
    "    #software_metrics = loaddata.iloc[:,:-1] #Software metrics\n",
    "    #labels = loaddata.iloc[:,-1] #Labels\n",
    "    SM = np.array(loaddata.iloc[:,:-1]) #Software metrics\n",
    "    L = data_conversion(np.array(loaddata.iloc[:,-1])).astype(int) #Labels\n",
    "    data = [SM,L]\n",
    "       \n",
    "    # ===== Feature Selection ====== #\n",
    "\n",
    "    # ==== CFS ==== #\n",
    "    cfs, cfs_selections = cfs_algo(data,10)\n",
    "    # ============= #\n",
    "\n",
    "    # ===== RFE ======== #\n",
    "    rfe, rfe_selections = rfe_algo(data,10)\n",
    "    # ================== #\n",
    "    \n",
    "    # ========= Preprocessing ============= #\n",
    "    pp = preprocess(loaddata)\n",
    "    pp_cfs = preprocess(loaddata, cfs_selections)\n",
    "    pp_rfe = preprocess(loaddata, rfe_selections)\n",
    "\n",
    "    pp_arr = [pp,pp_cfs,pp_rfe]\n",
    "    pp_name = ['No filters','CFS Feature Selection','RFE Feature Selection']\n",
    "    args = [1000]\n",
    "    # ====================================== #\n",
    "\n",
    "    result = []\n",
    "    auc_arr = []\n",
    "    f1_arr = []\n",
    "    header = []\n",
    "\n",
    "    for i,pp in enumerate(pp_arr):\n",
    "        print(pp_name[i])\n",
    "        data = [pp[0][0],pp[0][2]]\n",
    "    \n",
    "        # ======== Model Creation =========== #\n",
    "        # Base Predictors\n",
    "        cnb = complement_naive_bayes_model(data,args)\n",
    "        dt = decision_tree_model(data,args)\n",
    "        lr = logistic_regression_model(data,args)\n",
    "        mlp = multi_layer_perceptron_model(data,args)\n",
    "        nb = naive_bayes_model(data,args)\n",
    "\n",
    "        # Ensemble Predictors\n",
    "        rf = random_forest_model(data,args)\n",
    "        rof = rotation_forest_model(data,args)\n",
    "        vt = voting_model(data,args)\n",
    "        # ==================================== #\n",
    "\n",
    "        models = [cnb,dt,lr,mlp,nb,rf,rof,vt] \n",
    "        model_name = ['Complement Naive Bayes','Decision Tree','Logistic regression',\n",
    "                        'Multi Layer Perceptron','Naive Bayes','Random Forest','Rotation Forest','Voting']\n",
    "        for i in range(len(models)):\n",
    "            #print('*'*50)\n",
    "            auc_score,f1_score = evaluate_data(models[i],model_name[i],pp[0][1],pp[0][3])\n",
    "            auc_arr.append(auc_score)\n",
    "            f1_arr.append(f1_score)\n",
    "        #print('='*100)\n",
    "    header.append('Model Name')\n",
    "    header += model_name\n",
    "    #result.append(model_name)\n",
    "    result.append(('AUC', auc_arr))\n",
    "    result.append(('F1 Score', f1_arr))\n",
    "    return result, header     \n",
    "            \n",
    "if __name__=='__main__':\n",
    "    filename = 'datasets/KC4.arff.txt'\n",
    "    result, header = main(filename)\n",
    "    output = write_results(header,result)\n",
    "\n",
    "    print(header)\n",
    "    print(result)"
   ]
  },
  {
   "cell_type": "code",
   "execution_count": null,
   "metadata": {},
   "outputs": [],
   "source": []
  }
 ],
 "metadata": {
  "interpreter": {
   "hash": "ea9cb6ab4d914a35d8e6d0a69a1d89f0d94b47e6dbf4bfc8b7ae98e3408380a4"
  },
  "kernelspec": {
   "display_name": "Python 3",
   "language": "python",
   "name": "python3"
  },
  "language_info": {
   "codemirror_mode": {
    "name": "ipython",
    "version": 3
   },
   "file_extension": ".py",
   "mimetype": "text/x-python",
   "name": "python",
   "nbconvert_exporter": "python",
   "pygments_lexer": "ipython3",
   "version": "3.8.5"
  }
 },
 "nbformat": 4,
 "nbformat_minor": 2
}
