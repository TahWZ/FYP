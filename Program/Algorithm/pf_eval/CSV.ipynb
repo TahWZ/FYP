{
 "cells": [
  {
   "cell_type": "code",
   "execution_count": 14,
   "metadata": {},
   "outputs": [],
   "source": [
    "#==== Imports ====#\n",
    "import csv\n",
    "#=================#"
   ]
  },
  {
   "cell_type": "code",
   "execution_count": 18,
   "metadata": {},
   "outputs": [],
   "source": [
    "#==== Functions ====#\n",
    "def write_results(header,result):\n",
    "    filters = ['No filter','CFS','RFE']\n",
    "    #header = ['Dataset', 'Algo 1', 'Algo 2','Algo 3']\n",
    "    #dummy = [['CM1','95%','92%','87%'], ['KC1','Trying','To','Test'],['KC4','90%','80%','70%']]\n",
    "    with open('pred_results.csv','w',encoding='UTF8', newline='') as file:\n",
    "        res = csv.writer(file)\n",
    "        for i in range(len(filters)):\n",
    "            res.writerow('')\n",
    "            res.writerow([filters[i]])\n",
    "            res.writerow(header)\n",
    "            res.writerow([result[0][0]] + result[0][1][i*8:i*8+8])\n",
    "            res.writerow([result[1][0]] + result[1][1][i*8:i*8+8])\n",
    "#===================#"
   ]
  },
  {
   "cell_type": "code",
   "execution_count": 19,
   "metadata": {},
   "outputs": [],
   "source": [
    "result = [('AUC', [1.0, 0.75, 0.75, 0.78, 0.88, 0.94, 0.84, 0.88, 1.0, 0.75, 1.0, 0.88, 0.84, 1.0, 0.88, 0.94, 1.0, 0.88, 1.0, 0.88, 0.84, 0.94, 0.88, 0.94]), ('F1 Score', [88.89, 75.0, 75.0, 75.0, 57.14, 88.89, 75.0, 88.89, 88.89, 80.0, 80.0, 88.89, 88.89, 88.89, 80.0, 88.89, 88.89, 88.89, 80.0, 88.89, 88.89, 88.89, 88.89, 88.89])]\n",
    "header = ['Model Name', 'Complement Naive Bayes', 'Decision Tree', 'Logistic regression', 'Multi Layer Perceptron', 'Naive Bayes', 'Random Forest', 'Rotation Forest', 'Voting']\n",
    "test = write_results(header,result)"
   ]
  },
  {
   "cell_type": "code",
   "execution_count": null,
   "metadata": {},
   "outputs": [],
   "source": []
  }
 ],
 "metadata": {
  "kernelspec": {
   "display_name": "Python 3",
   "language": "python",
   "name": "python3"
  },
  "language_info": {
   "codemirror_mode": {
    "name": "ipython",
    "version": 3
   },
   "file_extension": ".py",
   "mimetype": "text/x-python",
   "name": "python",
   "nbconvert_exporter": "python",
   "pygments_lexer": "ipython3",
   "version": "3.8.5"
  }
 },
 "nbformat": 4,
 "nbformat_minor": 4
}
