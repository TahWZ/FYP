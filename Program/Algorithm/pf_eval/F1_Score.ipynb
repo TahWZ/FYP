{
 "metadata": {
  "language_info": {
   "codemirror_mode": {
    "name": "ipython",
    "version": 3
   },
   "file_extension": ".py",
   "mimetype": "text/x-python",
   "name": "python",
   "nbconvert_exporter": "python",
   "pygments_lexer": "ipython3",
   "version": "3.7.3"
  },
  "orig_nbformat": 4,
  "kernelspec": {
   "name": "python3",
   "display_name": "Python 3.7.3 64-bit ('base': conda)"
  },
  "interpreter": {
   "hash": "ea9cb6ab4d914a35d8e6d0a69a1d89f0d94b47e6dbf4bfc8b7ae98e3408380a4"
  }
 },
 "nbformat": 4,
 "nbformat_minor": 2,
 "cells": [
  {
   "source": [
    "# Imports"
   ],
   "cell_type": "markdown",
   "metadata": {}
  },
  {
   "cell_type": "code",
   "execution_count": 14,
   "metadata": {},
   "outputs": [],
   "source": [
    "import numpy as np\n",
    "import pandas as pd\n",
    "from scipy.io import arff"
   ]
  },
  {
   "source": [
    "## Reading data"
   ],
   "cell_type": "markdown",
   "metadata": {}
  },
  {
   "cell_type": "code",
   "execution_count": 15,
   "metadata": {},
   "outputs": [
    {
     "output_type": "execute_result",
     "data": {
      "text/plain": [
       "   LOC_BLANK  BRANCH_COUNT  CALL_PAIRS  LOC_CODE_AND_COMMENT  LOC_COMMENTS  \\\n",
       "0        2.0           3.0         0.0                   0.0           8.0   \n",
       "1        3.0           3.0         0.0                   2.0           2.0   \n",
       "2       38.0          35.0         4.0                   5.0          70.0   \n",
       "3        1.0           7.0         5.0                   0.0          12.0   \n",
       "4        9.0          15.0         4.0                  14.0          22.0   \n",
       "\n",
       "   CONDITION_COUNT  CYCLOMATIC_COMPLEXITY  CYCLOMATIC_DENSITY  DECISION_COUNT  \\\n",
       "0              4.0                    2.0                0.22             2.0   \n",
       "1              4.0                    2.0                0.15             2.0   \n",
       "2             58.0                   18.0                0.17            24.0   \n",
       "3             12.0                    4.0                0.10             6.0   \n",
       "4             28.0                    8.0                0.20            14.0   \n",
       "\n",
       "   DECISION_DENSITY  ...  NODE_COUNT  NORMALIZED_CYLOMATIC_COMPLEXITY  \\\n",
       "0              2.00  ...         6.0                             0.22   \n",
       "1              2.00  ...         5.0                             0.11   \n",
       "2              2.42  ...        51.0                             0.08   \n",
       "3              2.00  ...        18.0                             0.06   \n",
       "4              2.00  ...        24.0                             0.11   \n",
       "\n",
       "   NUM_OPERANDS  NUM_OPERATORS  NUM_UNIQUE_OPERANDS  NUM_UNIQUE_OPERATORS  \\\n",
       "0           5.0           10.0                  4.0                   7.0   \n",
       "1          10.0           22.0                  5.0                  12.0   \n",
       "2         150.0          222.0                 58.0                  32.0   \n",
       "3          50.0           79.0                 36.0                  19.0   \n",
       "4          29.0           64.0                 19.0                  18.0   \n",
       "\n",
       "   NUMBER_OF_LINES  PERCENT_COMMENTS  LOC_TOTAL  Defective  \n",
       "0              9.0             47.06        9.0       b'N'  \n",
       "1             19.0             26.67       13.0       b'N'  \n",
       "2            218.0             41.90      109.0       b'N'  \n",
       "3             68.0             22.64       41.0       b'Y'  \n",
       "4             73.0             57.14       41.0       b'N'  \n",
       "\n",
       "[5 rows x 38 columns]"
      ],
      "text/html": "<div>\n<style scoped>\n    .dataframe tbody tr th:only-of-type {\n        vertical-align: middle;\n    }\n\n    .dataframe tbody tr th {\n        vertical-align: top;\n    }\n\n    .dataframe thead th {\n        text-align: right;\n    }\n</style>\n<table border=\"1\" class=\"dataframe\">\n  <thead>\n    <tr style=\"text-align: right;\">\n      <th></th>\n      <th>LOC_BLANK</th>\n      <th>BRANCH_COUNT</th>\n      <th>CALL_PAIRS</th>\n      <th>LOC_CODE_AND_COMMENT</th>\n      <th>LOC_COMMENTS</th>\n      <th>CONDITION_COUNT</th>\n      <th>CYCLOMATIC_COMPLEXITY</th>\n      <th>CYCLOMATIC_DENSITY</th>\n      <th>DECISION_COUNT</th>\n      <th>DECISION_DENSITY</th>\n      <th>...</th>\n      <th>NODE_COUNT</th>\n      <th>NORMALIZED_CYLOMATIC_COMPLEXITY</th>\n      <th>NUM_OPERANDS</th>\n      <th>NUM_OPERATORS</th>\n      <th>NUM_UNIQUE_OPERANDS</th>\n      <th>NUM_UNIQUE_OPERATORS</th>\n      <th>NUMBER_OF_LINES</th>\n      <th>PERCENT_COMMENTS</th>\n      <th>LOC_TOTAL</th>\n      <th>Defective</th>\n    </tr>\n  </thead>\n  <tbody>\n    <tr>\n      <th>0</th>\n      <td>2.0</td>\n      <td>3.0</td>\n      <td>0.0</td>\n      <td>0.0</td>\n      <td>8.0</td>\n      <td>4.0</td>\n      <td>2.0</td>\n      <td>0.22</td>\n      <td>2.0</td>\n      <td>2.00</td>\n      <td>...</td>\n      <td>6.0</td>\n      <td>0.22</td>\n      <td>5.0</td>\n      <td>10.0</td>\n      <td>4.0</td>\n      <td>7.0</td>\n      <td>9.0</td>\n      <td>47.06</td>\n      <td>9.0</td>\n      <td>b'N'</td>\n    </tr>\n    <tr>\n      <th>1</th>\n      <td>3.0</td>\n      <td>3.0</td>\n      <td>0.0</td>\n      <td>2.0</td>\n      <td>2.0</td>\n      <td>4.0</td>\n      <td>2.0</td>\n      <td>0.15</td>\n      <td>2.0</td>\n      <td>2.00</td>\n      <td>...</td>\n      <td>5.0</td>\n      <td>0.11</td>\n      <td>10.0</td>\n      <td>22.0</td>\n      <td>5.0</td>\n      <td>12.0</td>\n      <td>19.0</td>\n      <td>26.67</td>\n      <td>13.0</td>\n      <td>b'N'</td>\n    </tr>\n    <tr>\n      <th>2</th>\n      <td>38.0</td>\n      <td>35.0</td>\n      <td>4.0</td>\n      <td>5.0</td>\n      <td>70.0</td>\n      <td>58.0</td>\n      <td>18.0</td>\n      <td>0.17</td>\n      <td>24.0</td>\n      <td>2.42</td>\n      <td>...</td>\n      <td>51.0</td>\n      <td>0.08</td>\n      <td>150.0</td>\n      <td>222.0</td>\n      <td>58.0</td>\n      <td>32.0</td>\n      <td>218.0</td>\n      <td>41.90</td>\n      <td>109.0</td>\n      <td>b'N'</td>\n    </tr>\n    <tr>\n      <th>3</th>\n      <td>1.0</td>\n      <td>7.0</td>\n      <td>5.0</td>\n      <td>0.0</td>\n      <td>12.0</td>\n      <td>12.0</td>\n      <td>4.0</td>\n      <td>0.10</td>\n      <td>6.0</td>\n      <td>2.00</td>\n      <td>...</td>\n      <td>18.0</td>\n      <td>0.06</td>\n      <td>50.0</td>\n      <td>79.0</td>\n      <td>36.0</td>\n      <td>19.0</td>\n      <td>68.0</td>\n      <td>22.64</td>\n      <td>41.0</td>\n      <td>b'Y'</td>\n    </tr>\n    <tr>\n      <th>4</th>\n      <td>9.0</td>\n      <td>15.0</td>\n      <td>4.0</td>\n      <td>14.0</td>\n      <td>22.0</td>\n      <td>28.0</td>\n      <td>8.0</td>\n      <td>0.20</td>\n      <td>14.0</td>\n      <td>2.00</td>\n      <td>...</td>\n      <td>24.0</td>\n      <td>0.11</td>\n      <td>29.0</td>\n      <td>64.0</td>\n      <td>19.0</td>\n      <td>18.0</td>\n      <td>73.0</td>\n      <td>57.14</td>\n      <td>41.0</td>\n      <td>b'N'</td>\n    </tr>\n  </tbody>\n</table>\n<p>5 rows × 38 columns</p>\n</div>"
     },
     "metadata": {},
     "execution_count": 15
    }
   ],
   "source": [
    "# Change filename here\n",
    "filename = 'CM1.arff.txt'\n",
    "\n",
    "data = arff.loadarff(filename)\n",
    "loaddata = pd.DataFrame(data[0])\n",
    "loaddata.head()"
   ]
  },
  {
   "source": [
    "## Acquire X and Y values"
   ],
   "cell_type": "markdown",
   "metadata": {}
  },
  {
   "cell_type": "code",
   "execution_count": 16,
   "metadata": {},
   "outputs": [],
   "source": [
    "software_metrics = np.array(loaddata[['LOC_BLANK','BRANCH_COUNT','CALL_PAIRS','LOC_CODE_AND_COMMENT']])\n",
    "labels = np.array(loaddata['Defective'])"
   ]
  },
  {
   "source": [
    "## Train test Split"
   ],
   "cell_type": "markdown",
   "metadata": {}
  },
  {
   "cell_type": "code",
   "execution_count": 30,
   "metadata": {},
   "outputs": [],
   "source": [
    "from sklearn.model_selection import train_test_split\n",
    "X_train, X_test, y_train, y_test = train_test_split(software_metrics, labels, test_size = 0.1)\n",
    "y_train = y_train.astype(str)\n",
    "y_test = y_test.astype(str)"
   ]
  },
  {
   "source": [
    "## Selecting a Model (Logistic Regression)"
   ],
   "cell_type": "markdown",
   "metadata": {}
  },
  {
   "cell_type": "code",
   "execution_count": 31,
   "metadata": {},
   "outputs": [
    {
     "output_type": "execute_result",
     "data": {
      "text/plain": [
       "LogisticRegression(C=1.0, class_weight=None, dual=False, fit_intercept=True,\n",
       "                   intercept_scaling=1, l1_ratio=None, max_iter=100,\n",
       "                   multi_class='warn', n_jobs=None, penalty='l2',\n",
       "                   random_state=None, solver='lbfgs', tol=0.0001, verbose=0,\n",
       "                   warm_start=False)"
      ]
     },
     "metadata": {},
     "execution_count": 31
    }
   ],
   "source": [
    "from sklearn.linear_model import LogisticRegression\n",
    "\n",
    "logreg = LogisticRegression(solver='lbfgs')\n",
    "logreg.fit(X_train, y_train)"
   ]
  },
  {
   "cell_type": "code",
   "execution_count": 32,
   "metadata": {},
   "outputs": [
    {
     "output_type": "execute_result",
     "data": {
      "text/plain": [
       "array(['N', 'N', 'N', 'N', 'N', 'N', 'N', 'N', 'N', 'N', 'N', 'N', 'Y',\n",
       "       'N', 'N', 'N', 'N', 'N', 'N', 'N', 'N', 'N', 'N', 'N', 'N', 'N',\n",
       "       'N', 'N', 'N', 'N', 'N', 'N', 'N'], dtype='<U1')"
      ]
     },
     "metadata": {},
     "execution_count": 32
    }
   ],
   "source": [
    "predictions = logreg.predict(X_test)\n",
    "predictions"
   ]
  },
  {
   "cell_type": "code",
   "execution_count": 33,
   "metadata": {},
   "outputs": [
    {
     "output_type": "execute_result",
     "data": {
      "text/plain": [
       "                      Predicted Non-Defective  Predicted Defective\n",
       "Actual Non-Defective                       28                    0\n",
       "Actual Defective                            4                    1"
      ],
      "text/html": "<div>\n<style scoped>\n    .dataframe tbody tr th:only-of-type {\n        vertical-align: middle;\n    }\n\n    .dataframe tbody tr th {\n        vertical-align: top;\n    }\n\n    .dataframe thead th {\n        text-align: right;\n    }\n</style>\n<table border=\"1\" class=\"dataframe\">\n  <thead>\n    <tr style=\"text-align: right;\">\n      <th></th>\n      <th>Predicted Non-Defective</th>\n      <th>Predicted Defective</th>\n    </tr>\n  </thead>\n  <tbody>\n    <tr>\n      <th>Actual Non-Defective</th>\n      <td>28</td>\n      <td>0</td>\n    </tr>\n    <tr>\n      <th>Actual Defective</th>\n      <td>4</td>\n      <td>1</td>\n    </tr>\n  </tbody>\n</table>\n</div>"
     },
     "metadata": {},
     "execution_count": 33
    }
   ],
   "source": [
    "from sklearn.metrics import confusion_matrix\n",
    "\n",
    "pd.DataFrame(confusion_matrix(y_test, predictions), columns=['Predicted Non-Defective', \"Predicted Defective\"], index=['Actual Non-Defective', 'Actual Defective'])"
   ]
  },
  {
   "cell_type": "code",
   "execution_count": 34,
   "metadata": {},
   "outputs": [
    {
     "output_type": "stream",
     "name": "stdout",
     "text": [
      "True Positives: 1\nFalse Positives: 0\nTrue Negatives: 28\nFalse Negatives: 4\n"
     ]
    }
   ],
   "source": [
    "tn, fp, fn, tp = confusion_matrix(y_test, predictions).ravel()\n",
    "print(f'True Positives: {tp}')\n",
    "print(f'False Positives: {fp}')\n",
    "print(f'True Negatives: {tn}')\n",
    "print(f'False Negatives: {fn}')"
   ]
  },
  {
   "source": [
    "## Calculating Precision (True Positive)/(True Positive + False Positive)"
   ],
   "cell_type": "markdown",
   "metadata": {}
  },
  {
   "cell_type": "code",
   "execution_count": 35,
   "metadata": {},
   "outputs": [
    {
     "output_type": "stream",
     "name": "stdout",
     "text": [
      "Precision: 100.0\n"
     ]
    }
   ],
   "source": [
    "precision = (tp*100)/(tp+fp)\n",
    "print(f'Precision: {precision}')"
   ]
  },
  {
   "source": [
    "## Calculating Recall (True Positve)/(True Positive + False Negative)"
   ],
   "cell_type": "markdown",
   "metadata": {}
  },
  {
   "cell_type": "code",
   "execution_count": 36,
   "metadata": {},
   "outputs": [
    {
     "output_type": "stream",
     "name": "stdout",
     "text": [
      "Recall: 20.0\n"
     ]
    }
   ],
   "source": [
    "recall = (tp*100)/(tp+fn)\n",
    "print(f'Recall: {recall}')"
   ]
  },
  {
   "source": [
    "## Calculating F1-score"
   ],
   "cell_type": "markdown",
   "metadata": {}
  },
  {
   "cell_type": "code",
   "execution_count": 37,
   "metadata": {},
   "outputs": [
    {
     "output_type": "stream",
     "name": "stdout",
     "text": [
      "F1-score: 33.333333333333336\n"
     ]
    }
   ],
   "source": [
    "f1_score = (2*precision*recall)/(precision+recall)\n",
    "print(f'F1-score: {f1_score}')"
   ]
  },
  {
   "cell_type": "code",
   "execution_count": null,
   "metadata": {},
   "outputs": [],
   "source": []
  }
 ]
}