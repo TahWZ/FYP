{
 "cells": [
  {
   "cell_type": "code",
   "execution_count": 7,
   "source": [
    "#==== Imports ====#\r\n",
    "from scipy.io import arff\r\n",
    "import numpy as np\r\n",
    "import pandas as pd\r\n",
    "from sklearn.feature_selection import SelectKBest\r\n",
    "from sklearn.feature_selection import f_classif\r\n",
    "#=================#\r\n",
    "\r\n",
    "#==== Functions ====#\r\n",
    "def cfs_algo(data, n_k=10):\r\n",
    "    cfs = SelectKBest(score_func=f_classif, k=n_k)\r\n",
    "    cfs.fit(data[0],data[1])\r\n",
    "    supports = cfs.get_support(True)\r\n",
    "    selections = []\r\n",
    "    for i in range(len(data[0][0])):\r\n",
    "        if i in supports:\r\n",
    "            selections.append(True)\r\n",
    "        else:\r\n",
    "            selections.append(False)\r\n",
    "    return cfs, selections\r\n",
    "\r\n",
    "def data_conversion(data):\r\n",
    "    for i in range(len(data)):\r\n",
    "        if data[i] == b'N':\r\n",
    "            data[i] = 0\r\n",
    "        else:\r\n",
    "            data[i] = 1\r\n",
    "    return data\r\n",
    "#===================#"
   ],
   "outputs": [],
   "metadata": {}
  },
  {
   "cell_type": "code",
   "execution_count": 8,
   "source": [
    "#==== Main Algorithm ====#\r\n",
    "if __name__=='__main__':\r\n",
    "    raw = arff.loadarff('KC4.arff.txt')\r\n",
    "    data = pd.DataFrame(raw[0])\r\n",
    "    fs = SelectKBest(score_func=f_classif, k=5)\r\n",
    "    SM = np.array(data.iloc[:,:-1]) #Software metrics\r\n",
    "    L = data_conversion(np.array(data.iloc[:,-1])).astype(int) #Labels\r\n",
    "    print(f'SM: {SM.shape}')\r\n",
    "    print(f'L: {L.shape}')\r\n",
    "    fit = fs.fit(SM,L)\r\n",
    "    np.set_printoptions(precision=3, suppress = True)\r\n",
    "    features = fit.transform(SM)\r\n",
    "    #print(SM)\r\n",
    "    print(cfs_algo([SM,L]))\r\n",
    "#=========================#"
   ],
   "outputs": [
    {
     "output_type": "stream",
     "name": "stdout",
     "text": [
      "SM: [[  0.   7.   5. ...   1.   0. 100.]\n",
      " [  0. 125.  11. ...   1.   0. 489.]\n",
      " [  0.  23.   2. ...   1.   0.  62.]\n",
      " ...\n",
      " [  0.   3.   9. ...   1.   0.  59.]\n",
      " [  0.   1.   1. ...   1.   0. 204.]\n",
      " [  0.  11.   9. ...   1.   0.  76.]]\n",
      "L: [0 1 1 1 0 1 1 0 1 1 0 0 0 0 1 1 1 0 1 1 1 0 0 1 1 0 1 1 1 0 1 0 1 0 1 0 0\n",
      " 1 0 0 0 1 1 0 1 0 0 1 0 0 1 0 1 0 1 1 1 0 1 1 0 1 1 0 1 1 0 0 0 1 0 0 1 1\n",
      " 0 1 0 0 0 0 0 1 0 0 0 0 1 1 0 0 0 1 1 0 0 1 1 0 0 1 0 0 1 1 0 0 1 1 1 1 1\n",
      " 0 0 0 0 0 1 0 1 1 0 1 0 0 1]\n",
      "(SelectKBest(), [False, True, True, False, False, False, True, True, False, False, True, True, True, False, False, False, False, False, False, False, False, False, False, False, False, False, False, True, False, False, True, True, False, False, False, False, False, False, False, False])\n"
     ]
    },
    {
     "output_type": "stream",
     "name": "stderr",
     "text": [
      "C:\\Users\\user\\anaconda3\\lib\\site-packages\\sklearn\\feature_selection\\_univariate_selection.py:114: UserWarning: Features [ 0  3  4  5  8  9 15 16 17 18 19 20 21 22 23 24 25 26 28 29 32 33 34 35\n",
      " 37 38] are constant.\n",
      "  warnings.warn(\"Features %s are constant.\" % constant_features_idx,\n",
      "C:\\Users\\user\\anaconda3\\lib\\site-packages\\sklearn\\feature_selection\\_univariate_selection.py:116: RuntimeWarning: invalid value encountered in true_divide\n",
      "  f = msb / msw\n",
      "C:\\Users\\user\\anaconda3\\lib\\site-packages\\sklearn\\feature_selection\\_univariate_selection.py:114: UserWarning: Features [ 0  3  4  5  8  9 15 16 17 18 19 20 21 22 23 24 25 26 28 29 32 33 34 35\n",
      " 37 38] are constant.\n",
      "  warnings.warn(\"Features %s are constant.\" % constant_features_idx,\n",
      "C:\\Users\\user\\anaconda3\\lib\\site-packages\\sklearn\\feature_selection\\_univariate_selection.py:116: RuntimeWarning: invalid value encountered in true_divide\n",
      "  f = msb / msw\n"
     ]
    }
   ],
   "metadata": {
    "scrolled": true
   }
  },
  {
   "cell_type": "code",
   "execution_count": 9,
   "source": [
    "#==== Temporary Tests ====#\r\n",
    "#print(fit.get_support(True))\r\n",
    "#print(fit.scores_)\r\n",
    "#print(features[0:5,:])\r\n",
    "#=========================#"
   ],
   "outputs": [],
   "metadata": {}
  }
 ],
 "metadata": {
  "interpreter": {
   "hash": "6d46af94c2bbce495f1e668725902fa517c90b1782bcfe2fce0dd9868df553d3"
  },
  "kernelspec": {
   "name": "python3",
   "display_name": "Python 3.8.8 64-bit ('base': conda)"
  },
  "language_info": {
   "codemirror_mode": {
    "name": "ipython",
    "version": 3
   },
   "file_extension": ".py",
   "mimetype": "text/x-python",
   "name": "python",
   "nbconvert_exporter": "python",
   "pygments_lexer": "ipython3",
   "version": "3.8.8"
  }
 },
 "nbformat": 4,
 "nbformat_minor": 2
}