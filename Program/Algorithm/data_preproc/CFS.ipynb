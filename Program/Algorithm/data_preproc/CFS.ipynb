{
 "cells": [
  {
   "cell_type": "code",
   "execution_count": 2,
   "metadata": {},
   "outputs": [],
   "source": [
    "#==== Imports ====#\n",
    "from scipy.io import arff\n",
    "import numpy as np\n",
    "import pandas as pd\n",
    "from sklearn.feature_selection import SelectKBest\n",
    "from sklearn.feature_selection import f_classif\n",
    "#=================#\n",
    "\n",
    "#==== Functions ====#\n",
    "def cfs_algo(data):\n",
    "    cfs = SelectKBest(score_func=f_classif, k=5)\n",
    "    cfs.fit(data[0],data[1])\n",
    "    return cfs\n",
    "\n",
    "def data_conversion(data):\n",
    "    for i in range(len(data)):\n",
    "        if data[i] == b'N':\n",
    "            data[i] = 0\n",
    "        else:\n",
    "            data[i] = 1\n",
    "    return data\n",
    "#===================#"
   ]
  },
  {
   "cell_type": "code",
   "execution_count": 3,
   "metadata": {
    "scrolled": true
   },
   "outputs": [
    {
     "name": "stderr",
     "output_type": "stream",
     "text": [
      "D:\\Anaconda\\lib\\site-packages\\sklearn\\feature_selection\\_univariate_selection.py:115: UserWarning: Features [ 0  3  4  5  8  9 15 16 17 18 19 20 21 22 23 24 25 26 28 29 32 33 34 35\n",
      " 37 38] are constant.\n",
      "  UserWarning)\n",
      "D:\\Anaconda\\lib\\site-packages\\sklearn\\feature_selection\\_univariate_selection.py:116: RuntimeWarning: invalid value encountered in true_divide\n",
      "  f = msb / msw\n"
     ]
    }
   ],
   "source": [
    "#==== Main Algorithm ====#\n",
    "if __name__=='__main__':\n",
    "    raw = arff.loadarff('KC4.arff.txt')\n",
    "    data = pd.DataFrame(raw[0])\n",
    "    fs = SelectKBest(score_func=f_classif, k=5)\n",
    "    SM = np.array(data.iloc[:,:-1]) #Software metrics\n",
    "    L = data_conversion(np.array(data.iloc[:,-1])).astype(int) #Labels\n",
    "    fit = fs.fit(SM,L)\n",
    "    np.set_printoptions(precision=3, suppress = True)\n",
    "    features = fit.transform(SM)\n",
    "#=========================#"
   ]
  },
  {
   "cell_type": "code",
   "execution_count": 7,
   "metadata": {},
   "outputs": [],
   "source": [
    "#==== Temporary Tests ====#\n",
    "#print(fit.get_support(True))\n",
    "#print(fit.scores_)\n",
    "#print(features[0:5,:])\n",
    "#=========================#"
   ]
  },
  {
   "cell_type": "code",
   "execution_count": null,
   "metadata": {},
   "outputs": [],
   "source": []
  }
 ],
 "metadata": {
  "interpreter": {
   "hash": "ea9cb6ab4d914a35d8e6d0a69a1d89f0d94b47e6dbf4bfc8b7ae98e3408380a4"
  },
  "kernelspec": {
   "display_name": "Python 3",
   "language": "python",
   "name": "python3"
  },
  "language_info": {
   "codemirror_mode": {
    "name": "ipython",
    "version": 3
   },
   "file_extension": ".py",
   "mimetype": "text/x-python",
   "name": "python",
   "nbconvert_exporter": "python",
   "pygments_lexer": "ipython3",
   "version": "3.7.3"
  }
 },
 "nbformat": 4,
 "nbformat_minor": 2
}
