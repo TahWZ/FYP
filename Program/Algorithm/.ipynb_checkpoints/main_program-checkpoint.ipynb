{
 "cells": [
  {
   "cell_type": "markdown",
   "metadata": {},
   "source": [
    "# Imports"
   ]
  },
  {
   "cell_type": "code",
   "execution_count": 5,
   "metadata": {},
   "outputs": [],
   "source": [
    "import numpy as np\n",
    "import pandas as pd\n",
    "from scipy.io import arff\n",
    "from sklearn.model_selection import train_test_split\n",
    "from sklearn import metrics"
   ]
  },
  {
   "cell_type": "markdown",
   "metadata": {},
   "source": [
    "# Preprocessing"
   ]
  },
  {
   "cell_type": "code",
   "execution_count": 6,
   "metadata": {},
   "outputs": [
    {
     "name": "stdout",
     "output_type": "stream",
     "text": [
      "importing Jupyter notebook from E:\\FIT3162 Computer Science Project 2\\Program\\Algorithm\\data_preproc\\Preprocess.ipynb\n"
     ]
    }
   ],
   "source": [
    "#========== IMPORTS =============#\n",
    "# Allows jupyter notebook to be imported\n",
    "import jupyter_import\n",
    "from data_preproc.Preprocess import preprocess, Normalize\n",
    "#================================#"
   ]
  },
  {
   "cell_type": "markdown",
   "metadata": {},
   "source": [
    "# Feature Selection"
   ]
  },
  {
   "cell_type": "code",
   "execution_count": 7,
   "metadata": {},
   "outputs": [
    {
     "name": "stdout",
     "output_type": "stream",
     "text": [
      "importing Jupyter notebook from E:\\FIT3162 Computer Science Project 2\\Program\\Algorithm\\data_preproc\\CFS.ipynb\n",
      "importing Jupyter notebook from E:\\FIT3162 Computer Science Project 2\\Program\\Algorithm\\data_preproc\\RFE.ipynb\n",
      "importing Jupyter notebook from E:\\FIT3162 Computer Science Project 2\\Program\\Algorithm\\data_preproc\\RR.ipynb\n"
     ]
    }
   ],
   "source": [
    "from data_preproc.CFS import cfs_algo\n",
    "from data_preproc.RFE import rfe_algo\n",
    "from data_preproc.RR import ridge_algo"
   ]
  },
  {
   "cell_type": "markdown",
   "metadata": {},
   "source": [
    "# Algorithms"
   ]
  },
  {
   "cell_type": "markdown",
   "metadata": {},
   "source": [
    "## Base Predictors"
   ]
  },
  {
   "cell_type": "code",
   "execution_count": 8,
   "metadata": {},
   "outputs": [
    {
     "name": "stdout",
     "output_type": "stream",
     "text": [
      "importing Jupyter notebook from E:\\FIT3162 Computer Science Project 2\\Program\\Algorithm\\pred_mdls\\base\\Complement_Naive_Bayes.ipynb\n",
      "importing Jupyter notebook from E:\\FIT3162 Computer Science Project 2\\Program\\Algorithm\\pred_mdls\\base\\Decision_Tree.ipynb\n",
      "importing Jupyter notebook from E:\\FIT3162 Computer Science Project 2\\Program\\Algorithm\\pred_mdls\\base\\Logistic_Regression.ipynb\n",
      "importing Jupyter notebook from E:\\FIT3162 Computer Science Project 2\\Program\\Algorithm\\pred_mdls\\base\\Multi_Layer_Perceptron.ipynb\n",
      "importing Jupyter notebook from E:\\FIT3162 Computer Science Project 2\\Program\\Algorithm\\pred_mdls\\base\\Naive_Bayes.ipynb\n"
     ]
    }
   ],
   "source": [
    "from pred_mdls.base.Complement_Naive_Bayes import complement_naive_bayes_model\n",
    "from pred_mdls.base.Decision_Tree import decision_tree_model\n",
    "from pred_mdls.base.Logistic_Regression import logistic_regression_model\n",
    "from pred_mdls.base.Multi_Layer_Perceptron import multi_layer_perceptron_model\n",
    "from pred_mdls.base.Naive_Bayes import naive_bayes_model"
   ]
  },
  {
   "cell_type": "markdown",
   "metadata": {},
   "source": [
    "## Ensemble Predictors"
   ]
  },
  {
   "cell_type": "code",
   "execution_count": 9,
   "metadata": {},
   "outputs": [
    {
     "name": "stdout",
     "output_type": "stream",
     "text": [
      "importing Jupyter notebook from E:\\FIT3162 Computer Science Project 2\\Program\\Algorithm\\pred_mdls\\ensemble\\Random_Forest.ipynb\n",
      "importing Jupyter notebook from E:\\FIT3162 Computer Science Project 2\\Program\\Algorithm\\pred_mdls\\ensemble\\Rotation_Forest.ipynb\n",
      "importing Jupyter notebook from E:\\FIT3162 Computer Science Project 2\\Program\\Algorithm\\pred_mdls\\ensemble\\Voting.ipynb\n"
     ]
    }
   ],
   "source": [
    "from pred_mdls.ensemble.Random_Forest import random_forest_model\n",
    "from pred_mdls.ensemble.Rotation_Forest import rotation_forest_model\n",
    "from pred_mdls.ensemble.Voting import voting_model"
   ]
  },
  {
   "cell_type": "code",
   "execution_count": 17,
   "metadata": {},
   "outputs": [
    {
     "name": "stderr",
     "output_type": "stream",
     "text": [
      "E:\\Ananconda3\\lib\\site-packages\\sklearn\\feature_selection\\_univariate_selection.py:115: UserWarning: Features [ 0  3  4  5  7  8  9 13 14 15 16 17 18 19 20 21 22 23 24 25 26 28 29 32\n",
      " 33 34 35 37 38] are constant.\n",
      "  UserWarning)\n",
      "E:\\Ananconda3\\lib\\site-packages\\sklearn\\feature_selection\\_univariate_selection.py:116: RuntimeWarning: invalid value encountered in true_divide\n",
      "  f = msb / msw\n",
      "E:\\Ananconda3\\lib\\site-packages\\sklearn\\utils\\validation.py:72: FutureWarning: Pass n_features_to_select=10 as keyword args. From version 1.0 (renaming of 0.25) passing these as positional arguments will result in an error\n",
      "  \"will result in an error\", FutureWarning)\n"
     ]
    },
    {
     "name": "stdout",
     "output_type": "stream",
     "text": [
      "40\n",
      "10\n",
      "10\n",
      "[array([[  0.,   1.,   1., ...,   1.,   0., 294.],\n",
      "       [  0.,   1.,   1., ...,   1.,   0.,  16.],\n",
      "       [  0.,   1.,   1., ...,   1.,   0.,  24.],\n",
      "       ...,\n",
      "       [  0.,   9.,  10., ...,   1.,   0.,  66.],\n",
      "       [  0.,   1.,   2., ...,   1.,   0.,  41.],\n",
      "       [  0.,  11.,   9., ...,   1.,   0.,  76.]]), array([[0.00e+00, 1.00e+00, 1.00e+00, 0.00e+00, 0.00e+00, 0.00e+00,\n",
      "        1.00e+00, 0.00e+00, 0.00e+00, 0.00e+00, 1.00e+00, 1.00e+00,\n",
      "        6.00e+00, 1.00e+00, 0.00e+00, 0.00e+00, 0.00e+00, 0.00e+00,\n",
      "        0.00e+00, 0.00e+00, 0.00e+00, 0.00e+00, 0.00e+00, 0.00e+00,\n",
      "        0.00e+00, 0.00e+00, 0.00e+00, 1.00e+00, 0.00e+00, 0.00e+00,\n",
      "        7.00e+00, 0.00e+00, 0.00e+00, 0.00e+00, 0.00e+00, 0.00e+00,\n",
      "        2.69e+02, 1.00e+00, 0.00e+00, 2.69e+02],\n",
      "       [0.00e+00, 3.00e+00, 1.50e+01, 0.00e+00, 0.00e+00, 0.00e+00,\n",
      "        2.00e+00, 0.00e+00, 0.00e+00, 0.00e+00, 2.00e+00, 1.00e+00,\n",
      "        3.30e+01, 1.00e+00, 0.00e+00, 0.00e+00, 0.00e+00, 0.00e+00,\n",
      "        0.00e+00, 0.00e+00, 0.00e+00, 0.00e+00, 0.00e+00, 0.00e+00,\n",
      "        0.00e+00, 0.00e+00, 0.00e+00, 5.00e-01, 0.00e+00, 0.00e+00,\n",
      "        3.30e+01, 1.00e-02, 0.00e+00, 0.00e+00, 0.00e+00, 0.00e+00,\n",
      "        1.81e+02, 1.00e+00, 0.00e+00, 1.81e+02],\n",
      "       [0.00e+00, 1.00e+00, 3.00e+00, 0.00e+00, 0.00e+00, 0.00e+00,\n",
      "        1.00e+00, 0.00e+00, 0.00e+00, 0.00e+00, 1.00e+00, 1.00e+00,\n",
      "        1.10e+01, 1.00e+00, 0.00e+00, 0.00e+00, 0.00e+00, 0.00e+00,\n",
      "        0.00e+00, 0.00e+00, 0.00e+00, 0.00e+00, 0.00e+00, 0.00e+00,\n",
      "        0.00e+00, 0.00e+00, 0.00e+00, 1.00e+00, 0.00e+00, 0.00e+00,\n",
      "        1.20e+01, 6.00e-02, 0.00e+00, 0.00e+00, 0.00e+00, 0.00e+00,\n",
      "        1.80e+01, 1.00e+00, 0.00e+00, 1.80e+01],\n",
      "       [0.00e+00, 5.00e+00, 1.00e+01, 0.00e+00, 0.00e+00, 0.00e+00,\n",
      "        3.00e+00, 0.00e+00, 0.00e+00, 0.00e+00, 3.00e+00, 1.00e+00,\n",
      "        5.00e+01, 1.00e+00, 0.00e+00, 0.00e+00, 0.00e+00, 0.00e+00,\n",
      "        0.00e+00, 0.00e+00, 0.00e+00, 0.00e+00, 0.00e+00, 0.00e+00,\n",
      "        0.00e+00, 0.00e+00, 0.00e+00, 3.30e-01, 0.00e+00, 0.00e+00,\n",
      "        4.90e+01, 4.00e-02, 0.00e+00, 0.00e+00, 0.00e+00, 0.00e+00,\n",
      "        7.70e+01, 1.00e+00, 0.00e+00, 7.70e+01],\n",
      "       [0.00e+00, 3.00e+00, 2.00e+00, 0.00e+00, 0.00e+00, 0.00e+00,\n",
      "        2.00e+00, 0.00e+00, 0.00e+00, 0.00e+00, 2.00e+00, 1.00e+00,\n",
      "        5.10e+01, 1.00e+00, 0.00e+00, 0.00e+00, 0.00e+00, 0.00e+00,\n",
      "        0.00e+00, 0.00e+00, 0.00e+00, 0.00e+00, 0.00e+00, 0.00e+00,\n",
      "        0.00e+00, 0.00e+00, 0.00e+00, 5.00e-01, 0.00e+00, 0.00e+00,\n",
      "        5.10e+01, 3.00e-02, 0.00e+00, 0.00e+00, 0.00e+00, 0.00e+00,\n",
      "        6.60e+01, 1.00e+00, 0.00e+00, 6.60e+01],\n",
      "       [0.00e+00, 3.00e+00, 5.00e+00, 0.00e+00, 0.00e+00, 0.00e+00,\n",
      "        2.00e+00, 0.00e+00, 0.00e+00, 0.00e+00, 2.00e+00, 1.00e+00,\n",
      "        3.00e+01, 1.00e+00, 0.00e+00, 0.00e+00, 0.00e+00, 0.00e+00,\n",
      "        0.00e+00, 0.00e+00, 0.00e+00, 0.00e+00, 0.00e+00, 0.00e+00,\n",
      "        0.00e+00, 0.00e+00, 0.00e+00, 5.00e-01, 0.00e+00, 0.00e+00,\n",
      "        3.00e+01, 4.00e-02, 0.00e+00, 0.00e+00, 0.00e+00, 0.00e+00,\n",
      "        4.70e+01, 1.00e+00, 0.00e+00, 4.70e+01],\n",
      "       [0.00e+00, 1.00e+00, 1.00e+00, 0.00e+00, 0.00e+00, 0.00e+00,\n",
      "        1.00e+00, 0.00e+00, 0.00e+00, 0.00e+00, 1.00e+00, 1.00e+00,\n",
      "        6.00e+00, 1.00e+00, 0.00e+00, 0.00e+00, 0.00e+00, 0.00e+00,\n",
      "        0.00e+00, 0.00e+00, 0.00e+00, 0.00e+00, 0.00e+00, 0.00e+00,\n",
      "        0.00e+00, 0.00e+00, 0.00e+00, 1.00e+00, 0.00e+00, 0.00e+00,\n",
      "        7.00e+00, 1.00e-02, 0.00e+00, 0.00e+00, 0.00e+00, 0.00e+00,\n",
      "        1.64e+02, 1.00e+00, 0.00e+00, 1.64e+02],\n",
      "       [0.00e+00, 1.50e+01, 1.40e+01, 0.00e+00, 0.00e+00, 0.00e+00,\n",
      "        8.00e+00, 0.00e+00, 0.00e+00, 0.00e+00, 7.00e+00, 8.80e-01,\n",
      "        1.19e+02, 1.00e+00, 0.00e+00, 0.00e+00, 0.00e+00, 0.00e+00,\n",
      "        0.00e+00, 0.00e+00, 0.00e+00, 0.00e+00, 0.00e+00, 0.00e+00,\n",
      "        0.00e+00, 0.00e+00, 0.00e+00, 1.30e-01, 0.00e+00, 0.00e+00,\n",
      "        1.13e+02, 6.00e-02, 0.00e+00, 0.00e+00, 0.00e+00, 0.00e+00,\n",
      "        1.38e+02, 1.00e+00, 0.00e+00, 1.38e+02]]), array([0, 0, 0, 0, 0, 0, 0, 0, 0, 0, 0, 0, 0, 0, 0, 0, 0, 0, 0, 0, 0, 0,\n",
      "       0, 0, 0, 0, 0, 1, 1, 1, 1, 1, 1, 1, 1, 1, 1, 1, 1, 1, 1, 1, 1, 1,\n",
      "       1, 1, 1, 1, 1, 1, 1, 1, 1, 1]), array([0, 0, 0, 1, 1, 1, 0, 1])]\n"
     ]
    }
   ],
   "source": [
    "def data_conversion(data):\n",
    "    for i in range(len(data)):\n",
    "        if data[i] == b'N':\n",
    "            data[i] = 0\n",
    "        else:\n",
    "            data[i] = 1\n",
    "    return data\n",
    "\n",
    "def read_data(filename):\n",
    "    data = arff.loadarff(filename)\n",
    "    loaddata = pd.DataFrame(data[0])\n",
    "    return loaddata\n",
    "\n",
    "def process_data(loaddata,features):\n",
    "    # Features are selected based on CFS\n",
    "    software_metrics = np.array(loaddata[features])\n",
    "    labels = np.array(loaddata['Defective'])\n",
    "    return software_metrics,labels\n",
    "\n",
    "def train_data(software_metrics,labels):\n",
    "    X_train, X_test, y_train, y_test = train_test_split(software_metrics, labels, test_size = 0.1)\n",
    "    y_train = y_train.astype('str')\n",
    "    y_test = y_test.astype('str')\n",
    "    return X_train, X_test, y_train, y_test\n",
    "\n",
    "#def feature_selection(fs,X):\n",
    "#    dfscores = pd.DataFrame(fs.scores_)\n",
    "#    dfcolumns = pd.DataFrame(X.columns)\n",
    "#    feature_scores = pd.concat([dfcolumns,dfscores.fillna(0)],axis=1)\n",
    "#    feature_scores.columns = ['Feature','Score']\n",
    "#    best_ten_features = feature_scores.nlargest(10,'Score')\n",
    "#    return best_ten_features\n",
    "\n",
    "# def feature_selection_algo(X,Y):\n",
    "#     array = []\n",
    "#     data = [X,Y]\n",
    "#     cfs = cfs_algo(data)\n",
    "#     ridge = ridge_algo(data)\n",
    "#     print(f'Ridge score: {ridge.get_support()}')\n",
    "    # rfe = rfe_algo(data)\n",
    "    # print(f'RFE score: {rfe.score}')\n",
    "\n",
    "def main(filename):\n",
    "    # Read the file\n",
    "    loaddata = read_data(filename)\n",
    "    loaddata = Normalize(loaddata)\n",
    "    #software_metrics = loaddata.iloc[:,:-1] #Software metrics\n",
    "    #labels = loaddata.iloc[:,-1] #Labels\n",
    "    SM = np.array(loaddata.iloc[:,:-1]) #Software metrics\n",
    "    L = data_conversion(np.array(loaddata.iloc[:,-1])).astype(int) #Labels\n",
    "    data = [SM,L]\n",
    "    \n",
    "    \n",
    "    # ===== Feature Selection ====== #\n",
    "\n",
    "    # ==== CFS ==== #\n",
    "    cfs, cfs_selections = cfs_algo(data,10)\n",
    "    #cfs_best_ten_features = feature_selection(cfs,software_metrics)\n",
    "    #print(cfs_best_ten_features)\n",
    "    # ============= #\n",
    "\n",
    "    # ===== Ridge ===== #\n",
    "    #software_metrics = np.array(loaddata.iloc[:,:-1]) #Software metrics\n",
    "    #labels = data_conversion(np.array(loaddata.iloc[:,-1])) #label \n",
    "\n",
    "    #X_train, X_test, y_train, y_test = train_data(software_metrics,labels)\n",
    "\n",
    "    #data = [X_train,y_train]\n",
    "    #ridge = ridge_algo(data)\n",
    "    # print(ridge.intercept_)\n",
    "    # print(ridge.score(software_metrics,labels))\n",
    "    # features = best_ten_features['Feature'].values\n",
    "    # ===================== #\n",
    "\n",
    "    # ===== RFE ======== #\n",
    "    rfe, rfe_selections = rfe_algo(data,10)\n",
    "    #print(rfe.support_)\n",
    "\n",
    "    # software_metrics,labels = process_data(loaddata,features)\n",
    "\n",
    "    # X_train, X_test, y_train, y_test = train_data(software_metrics,labels)\n",
    "\n",
    "    # Preprocessing\n",
    "    pp_all = preprocess(loaddata)\n",
    "    pp_CFS = preprocess(loaddata, cfs_selections)\n",
    "    pp_RFE = preprocess(loaddata, rfe_selections)\n",
    "    \n",
    "    print(len(pp_all[0][0][0]))\n",
    "    print(len(pp_CFS[0][0][0]))\n",
    "    print(len(pp_RFE[0][0][0]))\n",
    "    \n",
    "    data_all = [pp_all[0],pp_all[2]]\n",
    "    args = [1000]\n",
    "\n",
    "    cns = complement_naive_bayes_model(data_all,args)\n",
    "\n",
    "    # Algorithms\n",
    "    # return preprocessed_data\n",
    "\n",
    "if __name__=='__main__':\n",
    "    filename = 'datasets/KC4.arff.txt'\n",
    "    main(filename)"
   ]
  },
  {
   "cell_type": "code",
   "execution_count": null,
   "metadata": {},
   "outputs": [],
   "source": []
  },
  {
   "cell_type": "code",
   "execution_count": null,
   "metadata": {},
   "outputs": [],
   "source": []
  }
 ],
 "metadata": {
  "interpreter": {
   "hash": "ea9cb6ab4d914a35d8e6d0a69a1d89f0d94b47e6dbf4bfc8b7ae98e3408380a4"
  },
  "kernelspec": {
   "display_name": "Python 3",
   "language": "python",
   "name": "python3"
  },
  "language_info": {
   "codemirror_mode": {
    "name": "ipython",
    "version": 3
   },
   "file_extension": ".py",
   "mimetype": "text/x-python",
   "name": "python",
   "nbconvert_exporter": "python",
   "pygments_lexer": "ipython3",
   "version": "3.7.3"
  }
 },
 "nbformat": 4,
 "nbformat_minor": 2
}
