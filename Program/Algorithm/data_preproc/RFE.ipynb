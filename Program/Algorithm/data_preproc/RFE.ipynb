{
 "cells": [
  {
   "cell_type": "code",
   "execution_count": 1,
   "source": [
    "#==== Imports ====#\r\n",
    "from sklearn.feature_selection import RFE\r\n",
    "from sklearn.linear_model import LogisticRegression\r\n",
    "from sklearn.model_selection import train_test_split as ts\r\n",
    "from scipy.io import arff\r\n",
    "import pandas as pd\r\n",
    "import numpy as np\r\n",
    "#=================#\r\n",
    "\r\n",
    "#==== Functions ====#\r\n",
    "def data_conversion(data_column):\r\n",
    "    for i in range(len(data_column)):\r\n",
    "        if data_column[i] == b'N':\r\n",
    "            data_column[i] = 0\r\n",
    "        else:\r\n",
    "            data_column[i] = 1\r\n",
    "    return data_column\r\n",
    "\r\n",
    "def rfe_algo(data, n_k=10):\r\n",
    "    model = LogisticRegression(max_iter=10000000000) \r\n",
    "    model = RFE(model, n_k)\r\n",
    "    rfe = model.fit(data[0], data[1])\r\n",
    "    selections = rfe.support_\r\n",
    "    return rfe, selections\r\n",
    "#===================#"
   ],
   "outputs": [],
   "metadata": {}
  },
  {
   "cell_type": "code",
   "execution_count": 2,
   "source": [
    "#==== Main Algorithm ====#\r\n",
    "if __name__=='__main__':\r\n",
    "    #File\r\n",
    "    filename = 'CM1.arff.txt'\r\n",
    "    data = arff.loadarff(filename)\r\n",
    "    loaddata = pd.DataFrame(data[0])\r\n",
    "\r\n",
    "    #Software metrics and decisions\r\n",
    "    SM = np.array(loaddata[['LOC_BLANK','BRANCH_COUNT','CALL_PAIRS','LOC_CODE_AND_COMMENT']]) #Software metrics\r\n",
    "    L = data_conversion(np.array(loaddata['Defective'])) #label\r\n",
    "    print(f'SM: {SM.shape}')\r\n",
    "    print(f'L: {L.shape}')\r\n",
    "    SM_train, SM_test, L_train, L_test = ts(SM,L,test_size = 0.1)\r\n",
    "    L_train=L_train.astype(int)\r\n",
    "\r\n",
    "    #Algorithm Tests\r\n",
    "    data = [SM_train,L_train]\r\n",
    "    print(data)\r\n",
    "    test, selections = rfe_algo(data)\r\n",
    "    #print(\"Num Features: %s\" % (test.n_features_))\r\n",
    "    print(\"Selected Features: %s\" % (selections))\r\n",
    "    #print(\"Feature Ranking: %s\" % (test.ranking_))\r\n",
    "    #=========================#"
   ],
   "outputs": [
    {
     "output_type": "stream",
     "name": "stdout",
     "text": [
      "Selected Features: [ True  True  True  True]\n"
     ]
    },
    {
     "output_type": "stream",
     "name": "stderr",
     "text": [
      "C:\\Users\\user\\AppData\\Roaming\\Python\\Python39\\site-packages\\sklearn\\utils\\validation.py:70: FutureWarning: Pass n_features_to_select=10 as keyword args. From version 1.0 (renaming of 0.25) passing these as positional arguments will result in an error\n",
      "  warnings.warn(f\"Pass {args_msg} as keyword args. From version \"\n"
     ]
    }
   ],
   "metadata": {}
  },
  {
   "cell_type": "code",
   "execution_count": null,
   "source": [],
   "outputs": [],
   "metadata": {}
  }
 ],
 "metadata": {
  "interpreter": {
   "hash": "6d46af94c2bbce495f1e668725902fa517c90b1782bcfe2fce0dd9868df553d3"
  },
  "kernelspec": {
   "name": "python3",
   "display_name": "Python 3.8.8 64-bit ('base': conda)"
  },
  "language_info": {
   "codemirror_mode": {
    "name": "ipython",
    "version": 3
   },
   "file_extension": ".py",
   "mimetype": "text/x-python",
   "name": "python",
   "nbconvert_exporter": "python",
   "pygments_lexer": "ipython3",
   "version": "3.8.8"
  }
 },
 "nbformat": 4,
 "nbformat_minor": 2
}