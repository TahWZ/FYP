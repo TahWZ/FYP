{
 "cells": [
  {
   "cell_type": "code",
   "execution_count": 1,
   "metadata": {},
   "outputs": [],
   "source": [
    "#==== Imports ====#\n",
    "from sklearn import metrics\n",
    "from sklearn.ensemble import RandomForestClassifier\n",
    "from scipy.io import arff\n",
    "from sklearn.model_selection import train_test_split as ts\n",
    "import pandas as pd\n",
    "import numpy as np\n",
    "#=================#\n",
    "\n",
    "#==== Functions ====#\n",
    "def random_forest_model(data, args):\n",
    "    '''\n",
    "    Arguments:\n",
    "    1. Data\n",
    "    2. List of arguments for model (Number of Estimators)\n",
    "    \n",
    "    Output:\n",
    "    2. Model\n",
    "    '''\n",
    "    rf = RandomForestClassifier(n_estimators = args[0])\n",
    "    rf.fit(data[0], data[1])\n",
    "    return rf\n",
    "#===================#"
   ]
  },
  {
   "cell_type": "code",
   "execution_count": 2,
   "metadata": {},
   "outputs": [
    {
     "name": "stdout",
     "output_type": "stream",
     "text": [
      "Accuracy: 0.8431372549019608\n"
     ]
    }
   ],
   "source": [
    "#==== Main Algorithm ====#\n",
    "if __name__=='__main__':\n",
    "    #File\n",
    "    filename = 'CM1.arff.txt'\n",
    "    data = arff.loadarff(filename)\n",
    "    loaddata = pd.DataFrame(data[0])\n",
    "\n",
    "    #Software metrics and decisions\n",
    "    SM = np.array(loaddata[['LOC_BLANK','BRANCH_COUNT','CALL_PAIRS','LOC_CODE_AND_COMMENT']]) #Software metrics\n",
    "    L = np.array(loaddata['Defective']) #label\n",
    "    SM_train, SM_test, L_train, L_test = ts(SM,L,test_size = 0.1)\n",
    "    L_train=L_train.astype('str')\n",
    "    L_test=L_test.astype('str')\n",
    "\n",
    "    #Modeling\n",
    "    data = [SM_train,L_train]\n",
    "    args = [1000]\n",
    "    rf = random_forest_model(data, args)\n",
    "    predictions = rf.predict(SM_test)\n",
    "    print(\"Accuracy:\",metrics.accuracy_score(L_test, predictions))\n",
    "#=========================#"
   ]
  },
  {
   "cell_type": "code",
   "execution_count": null,
   "metadata": {},
   "outputs": [],
   "source": []
  }
 ],
 "metadata": {
  "interpreter": {
   "hash": "ea9cb6ab4d914a35d8e6d0a69a1d89f0d94b47e6dbf4bfc8b7ae98e3408380a4"
  },
  "kernelspec": {
   "display_name": "Python 3",
   "language": "python",
   "name": "python3"
  },
  "language_info": {
   "codemirror_mode": {
    "name": "ipython",
    "version": 3
   },
   "file_extension": ".py",
   "mimetype": "text/x-python",
   "name": "python",
   "nbconvert_exporter": "python",
   "pygments_lexer": "ipython3",
   "version": "3.7.3"
  }
 },
 "nbformat": 4,
 "nbformat_minor": 2
}
