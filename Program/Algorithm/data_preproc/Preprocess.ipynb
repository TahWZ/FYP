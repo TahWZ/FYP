{
 "cells": [
  {
   "cell_type": "markdown",
   "metadata": {},
   "source": [
    "# Preprocessing\n",
    "## 1. Techniques\n",
    "Below contains functions to perform a series of preprocessing techniques on a given dataset."
   ]
  },
  {
   "cell_type": "code",
   "execution_count": 3,
   "metadata": {},
   "outputs": [
    {
     "name": "stdout",
     "output_type": "stream",
     "text": [
      "Collecting imblearn\n",
      "  Using cached imblearn-0.0-py2.py3-none-any.whl (1.9 kB)\n",
      "Collecting imbalanced-learn\n",
      "  Using cached imbalanced_learn-0.8.0-py3-none-any.whl (206 kB)\n",
      "Requirement already satisfied: scikit-learn>=0.24 in c:\\users\\user\\anaconda3\\lib\\site-packages (from imbalanced-learn->imblearn) (0.24.1)\n",
      "Requirement already satisfied: scipy>=0.19.1 in c:\\users\\user\\anaconda3\\lib\\site-packages (from imbalanced-learn->imblearn) (1.6.2)\n",
      "Requirement already satisfied: joblib>=0.11 in c:\\users\\user\\anaconda3\\lib\\site-packages (from imbalanced-learn->imblearn) (1.0.1)\n",
      "Requirement already satisfied: numpy>=1.13.3 in c:\\users\\user\\anaconda3\\lib\\site-packages (from imbalanced-learn->imblearn) (1.20.1)\n",
      "Requirement already satisfied: threadpoolctl>=2.0.0 in c:\\users\\user\\anaconda3\\lib\\site-packages (from scikit-learn>=0.24->imbalanced-learn->imblearn) (2.1.0)\n",
      "Installing collected packages: imbalanced-learn, imblearn\n",
      "Successfully installed imbalanced-learn-0.8.0 imblearn-0.0\n"
     ]
    }
   ],
   "source": [
    "# !pip install imblearn\n",
    "from collections import Counter\n",
    "from scipy.io import arff\n",
    "from sklearn.model_selection import train_test_split as ts\n",
    "from sklearn.model_selection import KFold\n",
    "from sklearn.model_selection import StratifiedKFold\n",
    "from imblearn.under_sampling import InstanceHardnessThreshold\n",
    "import numpy as np\n",
    "import pandas as pd\n",
    "\n",
    "def Normalize(data):\n",
    "    i_size = len(data) #The initial size of the data\n",
    "    #Remove missing values\n",
    "    r_data = data.dropna()\n",
    "    r_size = len(r_data) #The data size after removing missing values\n",
    "    if r_size/i_size > 0.8: #To ensure no false data removal was performed\n",
    "        data = r_data\n",
    "    #Remove outliers\n",
    "    Q1 = data.quantile(0.25)\n",
    "    Q3 = data.quantile(0.75)\n",
    "    IQR = Q3 - Q1\n",
    "    result = data[~((data < (Q1 - 1.5 * IQR)) | (data > (Q3 + 1.5 * IQR))).any(axis=1)]\n",
    "    return result\n",
    "\n",
    "def K_fold(data,f=5):\n",
    "    kf = KFold(n_splits=f)\n",
    "    tt_splits = kf.split(data)\n",
    "    return tt_splits\n",
    "\n",
    "def Stratifid_K_fold(X,y,f=5):\n",
    "    skf = StratifiedKFold(n_splits=f)\n",
    "    tt_splits = skf.split(X,y)\n",
    "    return tt_splits\n",
    "\n",
    "def IHT(data):   \n",
    "    gauss_iht = InstanceHardnessThreshold()\n",
    "    underX, underY = gauss_iht.fit_resample(data[0],data[1])\n",
    "    return underX, underY"
   ]
  },
  {
   "cell_type": "markdown",
   "metadata": {},
   "source": [
    "## 2. Additional functions\n",
    "Below are additional functions included to help manipulate the dataset, improving its usefulness"
   ]
  },
  {
   "cell_type": "code",
   "execution_count": 4,
   "metadata": {},
   "outputs": [],
   "source": [
    "def data_conversion(data):\n",
    "    for i in range(len(data)):\n",
    "        if data[i] == b'N' or data[i] == b'false' or data[i] == b'no':\n",
    "            data[i] = 0\n",
    "        else:\n",
    "            data[i] = 1\n",
    "    return data"
   ]
  },
  {
   "cell_type": "markdown",
   "metadata": {},
   "source": [
    "## 3. Main\n",
    "Below contains the main algorithm which performs all the techniques on a given dataset.\n",
    "#### It returns the preprocessed dataset with the following format:\n",
    "An array with each row containing:\n",
    "[Training metrics, Test metrics, Training labels, test labels]"
   ]
  },
  {
   "cell_type": "code",
   "execution_count": 6,
   "metadata": {},
   "outputs": [
    {
     "name": "stderr",
     "output_type": "stream",
     "text": [
      "<ipython-input-3-04f4bb5b7eda>:21: FutureWarning: Automatic reindexing on DataFrame vs Series comparisons is deprecated and will raise ValueError in a future version.  Do `left, right = left.align(right, axis=1, copy=False)` before e.g. `left == right`\n",
      "  result = data[~((data < (Q1 - 1.5 * IQR)) | (data > (Q3 + 1.5 * IQR))).any(axis=1)]\n",
      "<ipython-input-3-04f4bb5b7eda>:21: FutureWarning: Automatic reindexing on DataFrame vs Series comparisons is deprecated and will raise ValueError in a future version.  Do `left, right = left.align(right, axis=1, copy=False)` before e.g. `left == right`\n",
      "  result = data[~((data < (Q1 - 1.5 * IQR)) | (data > (Q3 + 1.5 * IQR))).any(axis=1)]\n"
     ]
    }
   ],
   "source": [
    "def preprocess(data, k_fold, fs = []):\n",
    "    # raw = arff.loadarff(data)\n",
    "    # data = pd.DataFrame(raw[0])\n",
    "    # #Normalization\n",
    "    # data = Normalize(data)\n",
    "    #Pandas DF to NumPy array\n",
    "    SM = np.array(data.iloc[:,:-1]) #Software metrics\n",
    "    if fs != []:\n",
    "        SM = SM[:,fs]\n",
    "    L = data_conversion(np.array(data.iloc[:,-1])).astype(int) #Labels\n",
    "    #K-fold\n",
    "    # tt_splits = K_fold(SM)\n",
    "\n",
    "    # Stratified K-fold\n",
    "    tt_splits = Stratifid_K_fold(SM,L,k_fold)\n",
    "    \n",
    "    #IHT\n",
    "    result = []\n",
    "    for train, test in tt_splits:\n",
    "        SM_under, L_under = IHT([SM[train],L[train]])\n",
    "        result.append([SM_under, SM[test], L_under, L[test]])\n",
    "    return result\n",
    "\n",
    "#File\n",
    "if __name__=='__main__':\n",
    "    result = preprocess('KC4.arff.txt')\n",
    "    # for i in range(4):\n",
    "    #     for j in range(4):\n",
    "    #         print(f'{i} {j}: {result[i][j].shape}')"
   ]
  },
  {
   "cell_type": "code",
   "execution_count": null,
   "metadata": {},
   "outputs": [],
   "source": []
  }
 ],
 "metadata": {
  "interpreter": {
   "hash": "6d46af94c2bbce495f1e668725902fa517c90b1782bcfe2fce0dd9868df553d3"
  },
  "kernelspec": {
   "display_name": "Python 3",
   "language": "python",
   "name": "python3"
  },
  "language_info": {
   "codemirror_mode": {
    "name": "ipython",
    "version": 3
   },
   "file_extension": ".py",
   "mimetype": "text/x-python",
   "name": "python",
   "nbconvert_exporter": "python",
   "pygments_lexer": "ipython3",
   "version": "3.7.3"
  }
 },
 "nbformat": 4,
 "nbformat_minor": 2
}
