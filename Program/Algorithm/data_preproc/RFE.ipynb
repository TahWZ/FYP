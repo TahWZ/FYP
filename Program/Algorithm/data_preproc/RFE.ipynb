{
 "cells": [
  {
   "cell_type": "code",
   "execution_count": 7,
   "metadata": {},
   "outputs": [],
   "source": [
    "#==== Imports ====#\n",
    "from sklearn.feature_selection import RFE\n",
    "from sklearn.linear_model import LogisticRegression\n",
    "from sklearn.model_selection import train_test_split as ts\n",
    "from scipy.io import arff\n",
    "import pandas as pd\n",
    "import numpy as np\n",
    "from sklearn.pipeline import make_pipeline\n",
    "from sklearn.preprocessing import StandardScaler\n",
    "#=================#\n",
    "\n",
    "#==== Functions ====#\n",
    "def data_conversion(data_column):\n",
    "    for i in range(len(data_column)):\n",
    "        if data_column[i] == b'N':\n",
    "            data_column[i] = 0\n",
    "        else:\n",
    "            data_column[i] = 1\n",
    "    return data_column\n",
    "\n",
    "def rfe_algo(data):\n",
    "    model = LogisticRegression(solver='lbfgs',max_iter=10000000000) \n",
    "    pipe = make_pipeline(StandardScaler(), RFE(model, 3))\n",
    "    rfe = pipe.fit(data[0], data[1])\n",
    "    return rfe\n",
    "#===================#"
   ]
  },
  {
   "cell_type": "code",
   "execution_count": 4,
   "metadata": {},
   "outputs": [
    {
     "name": "stdout",
     "output_type": "stream",
     "text": [
      "Num Features: 3\n",
      "Selected Features: [False  True  True  True]\n",
      "Feature Ranking: [2 1 1 1]\n"
     ]
    },
    {
     "name": "stderr",
     "output_type": "stream",
     "text": [
      "E:\\Ananconda3\\lib\\site-packages\\sklearn\\utils\\validation.py:72: FutureWarning: Pass n_features_to_select=3 as keyword args. From version 1.0 (renaming of 0.25) passing these as positional arguments will result in an error\n",
      "  \"will result in an error\", FutureWarning)\n"
     ]
    }
   ],
   "source": [
    "#==== Main Algorithm ====#\n",
    "if __name__=='__main__':\n",
    "    #File\n",
    "    filename = 'KC4.arff.txt'\n",
    "    data = arff.loadarff(filename)\n",
    "    loaddata = pd.DataFrame(data[0])\n",
    "\n",
    "    #Software metrics and decisions\n",
    "    SM = np.array(loaddata[['LOC_BLANK','BRANCH_COUNT','CALL_PAIRS','LOC_CODE_AND_COMMENT']]) #Software metrics\n",
    "    L = data_conversion(np.array(loaddata['Defective'])) #label\n",
    "    SM_train, SM_test, L_train, L_test = ts(SM,L,test_size = 0.1)\n",
    "    L_train=L_train.astype(int)\n",
    "\n",
    "    # Standard Scalar\n",
    "    scalar = StandardScaler().fit(SM_train)\n",
    "    SM_scaled = scalar.transform(SM_train)\n",
    "\n",
    "    #Algorithm Tests\n",
    "    data = [SM_scaled,L_train]\n",
    "    test = rfe_algo(data)\n",
    "    print(\"Num Features: %s\" % (test.n_features_))\n",
    "    print(\"Selected Features: %s\" % (test.support_))\n",
    "    print(\"Feature Ranking: %s\" % (test.ranking_))\n",
    "    #=========================#"
   ]
  },
  {
   "cell_type": "code",
   "execution_count": null,
   "metadata": {},
   "outputs": [],
   "source": []
  }
 ],
 "metadata": {
  "interpreter": {
   "hash": "ea9cb6ab4d914a35d8e6d0a69a1d89f0d94b47e6dbf4bfc8b7ae98e3408380a4"
  },
  "kernelspec": {
   "display_name": "Python 3",
   "language": "python",
   "name": "python3"
  },
  "language_info": {
   "codemirror_mode": {
    "name": "ipython",
    "version": 3
   },
   "file_extension": ".py",
   "mimetype": "text/x-python",
   "name": "python",
   "nbconvert_exporter": "python",
   "pygments_lexer": "ipython3",
   "version": "3.7.3"
  }
 },
 "nbformat": 4,
 "nbformat_minor": 2
}
