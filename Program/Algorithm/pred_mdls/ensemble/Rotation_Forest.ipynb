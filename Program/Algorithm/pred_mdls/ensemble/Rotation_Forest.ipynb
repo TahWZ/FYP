{
 "cells": [
  {
   "cell_type": "code",
   "execution_count": 1,
   "metadata": {},
   "outputs": [
    {
     "name": "stdout",
     "output_type": "stream",
     "text": [
      "Collecting rotation-forest\n",
      "  Downloading rotation_forest-1.0.tar.gz (6.3 kB)\n",
      "Requirement already satisfied: numpy in c:\\users\\user\\anaconda3\\lib\\site-packages (from rotation-forest) (1.20.1)\n",
      "Requirement already satisfied: scipy in c:\\users\\user\\anaconda3\\lib\\site-packages (from rotation-forest) (1.6.2)\n",
      "Requirement already satisfied: scikit-learn in c:\\users\\user\\anaconda3\\lib\\site-packages (from rotation-forest) (0.24.1)\n",
      "Requirement already satisfied: threadpoolctl>=2.0.0 in c:\\users\\user\\anaconda3\\lib\\site-packages (from scikit-learn->rotation-forest) (2.1.0)\n",
      "Requirement already satisfied: joblib>=0.11 in c:\\users\\user\\anaconda3\\lib\\site-packages (from scikit-learn->rotation-forest) (1.0.1)\n",
      "Building wheels for collected packages: rotation-forest\n",
      "  Building wheel for rotation-forest (setup.py): started\n",
      "  Building wheel for rotation-forest (setup.py): finished with status 'done'\n",
      "  Created wheel for rotation-forest: filename=rotation_forest-1.0-py3-none-any.whl size=7004 sha256=2b8aabe62ea09f4fbfa3f9fc4d01abd3c4c358430ef1c09564dea0234ae77b38\n",
      "  Stored in directory: c:\\users\\user\\appdata\\local\\pip\\cache\\wheels\\3a\\80\\86\\d98f6a560ca461b994fb85211f901491b4b9f967ffce806ce7\n",
      "Successfully built rotation-forest\n",
      "Installing collected packages: rotation-forest\n",
      "Successfully installed rotation-forest-1.0\n"
     ]
    }
   ],
   "source": [
    "#==== Imports ====#\n",
    "# !pip install rotation-forest\n",
    "from sklearn import metrics\n",
    "from rotation_forest import RotationForestClassifier as RFC\n",
    "from scipy.io import arff\n",
    "from sklearn.model_selection import train_test_split as ts\n",
    "import pandas as pd\n",
    "import numpy as np\n",
    "#=================#\n",
    "\n",
    "#==== Functions ====#\n",
    "def rotation_forest_model(data, args=None):\n",
    "    forest = RFC()\n",
    "    forest.fit(data[0],data[1])\n",
    "    return forest\n",
    "#===================#"
   ]
  },
  {
   "cell_type": "code",
   "execution_count": 2,
   "metadata": {},
   "outputs": [
    {
     "name": "stdout",
     "output_type": "stream",
     "text": [
      "Accuracy: 0.8627450980392157\n"
     ]
    }
   ],
   "source": [
    "#==== Main Algorithm ====#\n",
    "if __name__=='__main__':\n",
    "    #File\n",
    "    filename = 'CM1.arff.txt'\n",
    "    data = arff.loadarff(filename)\n",
    "    loaddata = pd.DataFrame(data[0])\n",
    "\n",
    "    #Software metrics and decisions\n",
    "    SM = np.array(loaddata[['LOC_BLANK','BRANCH_COUNT','CALL_PAIRS','LOC_CODE_AND_COMMENT']]) #Software metrics\n",
    "    L = np.array(loaddata['Defective']) #label\n",
    "    SM_train, SM_test, L_train, L_test = ts(SM,L,test_size = 0.1)\n",
    "    L_train=L_train.astype('str')\n",
    "    L_test=L_test.astype('str')\n",
    "\n",
    "    #Modeling\n",
    "    data = [SM_train,L_train]\n",
    "    args = [1000]\n",
    "    rotation = rotation_forest_model(data, args)\n",
    "    predictions = rotation.predict(SM_test)\n",
    "    print(\"Accuracy:\",metrics.accuracy_score(L_test, predictions))\n",
    "#=========================#"
   ]
  },
  {
   "cell_type": "code",
   "execution_count": null,
   "metadata": {},
   "outputs": [],
   "source": []
  }
 ],
 "metadata": {
  "interpreter": {
   "hash": "6d46af94c2bbce495f1e668725902fa517c90b1782bcfe2fce0dd9868df553d3"
  },
  "kernelspec": {
   "display_name": "Python 3",
   "language": "python",
   "name": "python3"
  },
  "language_info": {
   "codemirror_mode": {
    "name": "ipython",
    "version": 3
   },
   "file_extension": ".py",
   "mimetype": "text/x-python",
   "name": "python",
   "nbconvert_exporter": "python",
   "pygments_lexer": "ipython3",
   "version": "3.7.3"
  }
 },
 "nbformat": 4,
 "nbformat_minor": 4
}
