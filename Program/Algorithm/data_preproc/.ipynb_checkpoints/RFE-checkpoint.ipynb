{
 "cells": [
  {
   "cell_type": "code",
   "execution_count": 1,
   "metadata": {},
   "outputs": [],
   "source": [
    "#==== Imports ====#\n",
    "from sklearn.feature_selection import RFE\n",
    "from sklearn.linear_model import LogisticRegression\n",
    "from scipy.io import arff\n",
    "import pandas as pd\n",
    "import numpy as np\n",
    "#=================#\n",
    "\n",
    "#==== Functions ====#\n",
    "def data_conversion(data_column):\n",
    "    for i in range(len(data_column)):\n",
    "        if data_column[i] == b'N':\n",
    "            data_column[i] = 0\n",
    "        else:\n",
    "            data_column[i] = 1\n",
    "    return data_column\n",
    "\n",
    "def rfe_algo(data):\n",
    "    model = LogisticRegression() \n",
    "    rfe = RFE(model, 3)\n",
    "    fit = rfe.fit(data[0], data[1])\n",
    "    return fit\n",
    "#===================#"
   ]
  },
  {
   "cell_type": "code",
   "execution_count": 2,
   "metadata": {},
   "outputs": [
    {
     "ename": "NameError",
     "evalue": "name 'arff' is not defined",
     "output_type": "error",
     "traceback": [
      "\u001b[1;31m---------------------------------------------------------------------------\u001b[0m",
      "\u001b[1;31mNameError\u001b[0m                                 Traceback (most recent call last)",
      "\u001b[1;32m<ipython-input-2-e52fddeb94ab>\u001b[0m in \u001b[0;36m<module>\u001b[1;34m\u001b[0m\n\u001b[0;32m      2\u001b[0m \u001b[1;31m#File\u001b[0m\u001b[1;33m\u001b[0m\u001b[1;33m\u001b[0m\u001b[1;33m\u001b[0m\u001b[0m\n\u001b[0;32m      3\u001b[0m \u001b[0mfilename\u001b[0m \u001b[1;33m=\u001b[0m \u001b[1;34m'KC4.arff.txt'\u001b[0m\u001b[1;33m\u001b[0m\u001b[1;33m\u001b[0m\u001b[0m\n\u001b[1;32m----> 4\u001b[1;33m \u001b[0mdata\u001b[0m \u001b[1;33m=\u001b[0m \u001b[0marff\u001b[0m\u001b[1;33m.\u001b[0m\u001b[0mloadarff\u001b[0m\u001b[1;33m(\u001b[0m\u001b[0mfilename\u001b[0m\u001b[1;33m)\u001b[0m\u001b[1;33m\u001b[0m\u001b[1;33m\u001b[0m\u001b[0m\n\u001b[0m\u001b[0;32m      5\u001b[0m \u001b[0mloaddata\u001b[0m \u001b[1;33m=\u001b[0m \u001b[0mpd\u001b[0m\u001b[1;33m.\u001b[0m\u001b[0mDataFrame\u001b[0m\u001b[1;33m(\u001b[0m\u001b[0mdata\u001b[0m\u001b[1;33m[\u001b[0m\u001b[1;36m0\u001b[0m\u001b[1;33m]\u001b[0m\u001b[1;33m)\u001b[0m\u001b[1;33m\u001b[0m\u001b[1;33m\u001b[0m\u001b[0m\n\u001b[0;32m      6\u001b[0m \u001b[1;33m\u001b[0m\u001b[0m\n",
      "\u001b[1;31mNameError\u001b[0m: name 'arff' is not defined"
     ]
    }
   ],
   "source": [
    "#==== Main Algorithm ====#\n",
    "#File\n",
    "filename = 'KC4.arff.txt'\n",
    "data = arff.loadarff(filename)\n",
    "loaddata = pd.DataFrame(data[0])\n",
    "\n",
    "#Software metrics and decisions\n",
    "SM = np.array(loaddata[['LOC_BLANK','BRANCH_COUNT','CALL_PAIRS','LOC_CODE_AND_COMMENT']]) #Software metrics\n",
    "L = data_conversion(np.array(loaddata['Defective'])) #label\n",
    "SM_train, SM_test, L_train, L_test = ts(SM,L,test_size = 0.1)\n",
    "L_train=L_train.astype(int)\n",
    "\n",
    "#Algorithm Tests\n",
    "data = [SM_train,L_train]\n",
    "test = rfe_algo(data)\n",
    "print(\"Num Features: %s\" % (test.n_features_))\n",
    "print(\"Selected Features: %s\" % (test.support_))\n",
    "print(\"Feature Ranking: %s\" % (test.ranking_))\n",
    "#=========================#"
   ]
  },
  {
   "cell_type": "code",
   "execution_count": null,
   "metadata": {},
   "outputs": [],
   "source": []
  }
 ],
 "metadata": {
  "kernelspec": {
   "display_name": "Python 3",
   "language": "python",
   "name": "python3"
  },
  "language_info": {
   "codemirror_mode": {
    "name": "ipython",
    "version": 3
   },
   "file_extension": ".py",
   "mimetype": "text/x-python",
   "name": "python",
   "nbconvert_exporter": "python",
   "pygments_lexer": "ipython3",
   "version": "3.8.5"
  }
 },
 "nbformat": 4,
 "nbformat_minor": 2
}
