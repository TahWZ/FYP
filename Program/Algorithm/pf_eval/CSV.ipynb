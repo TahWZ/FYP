{
 "cells": [
  {
   "cell_type": "code",
   "execution_count": 1,
   "metadata": {},
   "outputs": [],
   "source": [
    "#==== Imports ====#\n",
    "import csv\n",
    "#=================#"
   ]
  },
  {
   "cell_type": "code",
   "execution_count": 2,
   "metadata": {},
   "outputs": [],
   "source": [
    "#==== Functions ====#\n",
    "def write_results(eval_type, data = None):\n",
    "    evaluation = ['AUC', 'F1']\n",
    "    header = ['Dataset', 'Algo 1', 'Algo 2','Algo 3']\n",
    "    dummy = [['CM1','95%','92%','87%'], ['KC1','Trying','To','Test'],['KC4','90%','80%','70%']]\n",
    "    with open('pred_results.csv','w',encoding='UTF8', newline='') as file:\n",
    "        res = csv.writer(file)\n",
    "        if eval_type in evaluation:\n",
    "            res.writerow([eval_type])\n",
    "        res.writerow(header)\n",
    "        if data is None:\n",
    "            for row in dummy:\n",
    "                res.writerow(row)\n",
    "#===================#"
   ]
  },
  {
   "cell_type": "code",
   "execution_count": 3,
   "metadata": {},
   "outputs": [],
   "source": [
    "#==== Small Test ====#\n",
    "test = write_results('AUC')\n",
    "#====================#"
   ]
  },
  {
   "cell_type": "code",
   "execution_count": null,
   "metadata": {},
   "outputs": [],
   "source": []
  }
 ],
 "metadata": {
  "kernelspec": {
   "display_name": "Python 3",
   "language": "python",
   "name": "python3"
  },
  "language_info": {
   "codemirror_mode": {
    "name": "ipython",
    "version": 3
   },
   "file_extension": ".py",
   "mimetype": "text/x-python",
   "name": "python",
   "nbconvert_exporter": "python",
   "pygments_lexer": "ipython3",
   "version": "3.8.5"
  }
 },
 "nbformat": 4,
 "nbformat_minor": 4
}
