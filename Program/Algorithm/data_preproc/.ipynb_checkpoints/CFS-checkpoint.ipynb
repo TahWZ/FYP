{
 "cells": [
  {
   "cell_type": "code",
   "execution_count": 32,
   "metadata": {},
   "outputs": [
    {
     "name": "stdout",
     "output_type": "stream",
     "text": [
      "[ 2 11 27 30 31]\n",
      "[   nan  7.781 26.414    nan    nan    nan  7.781  1.955    nan    nan\n",
      "  7.162 12.11   8.418  1.05   1.05     nan    nan    nan    nan    nan\n",
      "    nan    nan    nan    nan    nan    nan    nan 37.259    nan    nan\n",
      "  8.493 14.042    nan    nan    nan    nan  0.087    nan    nan  0.087]\n",
      "[[  5.     1.     0.25  91.     0.04]\n",
      " [ 11.     0.89   0.02 401.     0.13]\n",
      " [  2.     0.17   0.08  54.     0.19]\n",
      " [  8.     1.     0.5   37.     0.03]\n",
      " [  1.     1.     1.     7.     0.  ]]\n"
     ]
    },
    {
     "name": "stderr",
     "output_type": "stream",
     "text": [
      "D:\\Anaconda\\lib\\site-packages\\sklearn\\feature_selection\\_univariate_selection.py:115: UserWarning: Features [ 0  3  4  5  8  9 15 16 17 18 19 20 21 22 23 24 25 26 28 29 32 33 34 35\n",
      " 37 38] are constant.\n",
      "  UserWarning)\n",
      "D:\\Anaconda\\lib\\site-packages\\sklearn\\feature_selection\\_univariate_selection.py:116: RuntimeWarning: invalid value encountered in true_divide\n",
      "  f = msb / msw\n"
     ]
    }
   ],
   "source": [
    "from scipy.io import arff\n",
    "import numpy as np\n",
    "import pandas as pd\n",
    "from sklearn.feature_selection import SelectKBest\n",
    "from sklearn.feature_selection import f_classif\n",
    "\n",
    "def data_conversion(data):\n",
    "    for i in range(len(data)):\n",
    "        if data[i] == b'N':\n",
    "            data[i] = 0\n",
    "        else:\n",
    "            data[i] = 1\n",
    "    return data\n",
    "\n",
    "raw = arff.loadarff('KC4.arff.txt')\n",
    "data = pd.DataFrame(raw[0])\n",
    "fs = SelectKBest(score_func=f_classif, k=5)\n",
    "SM = np.array(data.iloc[:,:-1]) #Software metrics\n",
    "L = data_conversion(np.array(data.iloc[:,-1])).astype(int) #Labels\n",
    "fit = fs.fit(SM,L)\n",
    "np.set_printoptions(precision=3, suppress = True)\n",
    "features = fit.transform(SM)\n",
    "print(fit.get_support(True))\n",
    "print(fit.scores_)\n",
    "print(features[0:5,:])"
   ]
  },
  {
   "cell_type": "code",
   "execution_count": null,
   "metadata": {},
   "outputs": [],
   "source": []
  }
 ],
 "metadata": {
  "kernelspec": {
   "display_name": "Python 3",
   "language": "python",
   "name": "python3"
  },
  "language_info": {
   "codemirror_mode": {
    "name": "ipython",
    "version": 3
   },
   "file_extension": ".py",
   "mimetype": "text/x-python",
   "name": "python",
   "nbconvert_exporter": "python",
   "pygments_lexer": "ipython3",
   "version": "3.7.3"
  }
 },
 "nbformat": 4,
 "nbformat_minor": 2
}
