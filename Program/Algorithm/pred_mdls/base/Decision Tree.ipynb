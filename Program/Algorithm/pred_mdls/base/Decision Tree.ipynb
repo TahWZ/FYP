{
 "metadata": {
  "language_info": {
   "codemirror_mode": {
    "name": "ipython",
    "version": 3
   },
   "file_extension": ".py",
   "mimetype": "text/x-python",
   "name": "python",
   "nbconvert_exporter": "python",
   "pygments_lexer": "ipython3",
   "version": "3.7.3"
  },
  "orig_nbformat": 4,
  "kernelspec": {
   "name": "python3",
   "display_name": "Python 3.7.3 64-bit ('base': conda)"
  },
  "interpreter": {
   "hash": "ea9cb6ab4d914a35d8e6d0a69a1d89f0d94b47e6dbf4bfc8b7ae98e3408380a4"
  }
 },
 "nbformat": 4,
 "nbformat_minor": 2,
 "cells": [
  {
   "cell_type": "code",
   "execution_count": 5,
   "metadata": {},
   "outputs": [],
   "source": [
    "# All imports\n",
    "import numpy as np\n",
    "import pandas as pd\n",
    "from scipy.io import arff\n",
    "from sklearn.model_selection import train_test_split\n",
    "from sklearn import metrics\n",
    "from sklearn.tree import DecisionTreeClassifier"
   ]
  },
  {
   "cell_type": "code",
   "execution_count": 12,
   "metadata": {},
   "outputs": [
    {
     "output_type": "stream",
     "name": "stdout",
     "text": [
      "Model Name: Decision_Tree\nAccuracy: 75.76%\n"
     ]
    }
   ],
   "source": [
    "def read_data(filename):\n",
    "    data = arff.loadarff(filename)\n",
    "    loaddata = pd.DataFrame(data[0])\n",
    "    return loaddata\n",
    "\n",
    "def process_data(loaddata):\n",
    "    software_metrics = np.array(loaddata[['LOC_BLANK','BRANCH_COUNT','CALL_PAIRS','LOC_CODE_AND_COMMENT']])\n",
    "    labels = np.array(loaddata['Defective'])\n",
    "    return software_metrics,labels\n",
    "\n",
    "def train_data(software_metrics,labels):\n",
    "    X_train, X_test, y_train, y_test = train_test_split(software_metrics, labels, test_size = 0.1)\n",
    "    y_train = y_train.astype('str')\n",
    "    y_test = y_test.astype('str')\n",
    "    return X_train, X_test, y_train, y_test\n",
    "\n",
    "def model_data(X_train,y_train,model):\n",
    "    model = model.fit(X_train, y_train)\n",
    "    return model\n",
    "\n",
    "def evaluate_data(model,X_test,y_test):\n",
    "    predictions = model.predict(X_test)\n",
    "    print(f'Accuracy: {round(metrics.accuracy_score(y_test, predictions)*100,2)}%')\n",
    "\n",
    "# Change filename here\n",
    "filename = 'CM1.arff.txt'\n",
    "\n",
    "# Change model here\n",
    "model = DecisionTreeClassifier()\n",
    "\n",
    "model_name = \"Decision_Tree\"\n",
    "\n",
    "loaddata = read_data(filename)\n",
    "software_metrics,labels = process_data(loaddata)\n",
    "X_train, X_test, y_train, y_test = train_data(software_metrics,labels)\n",
    "model = model_data(X_train, y_train, model)\n",
    "print(f\"Model Name: {model_name}\")\n",
    "evaluate_data(model,X_test,y_test)"
   ]
  }
 ]
}