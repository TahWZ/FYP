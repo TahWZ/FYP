{
 "cells": [
  {
   "cell_type": "markdown",
   "metadata": {},
   "source": [
    "# Results\n",
    "Takes the output from main_program and create plots using matplotlib."
   ]
  },
  {
   "cell_type": "markdown",
   "metadata": {},
   "source": [
    "## Imports"
   ]
  },
  {
   "cell_type": "code",
   "execution_count": 1,
   "metadata": {},
   "outputs": [],
   "source": [
    "import csv\n",
    "import numpy as np\n",
    "import matplotlib.pyplot as plt\n",
    "plt.style.use('seaborn-white')"
   ]
  },
  {
   "cell_type": "markdown",
   "metadata": {},
   "source": [
    "## Reader functions"
   ]
  },
  {
   "cell_type": "code",
   "execution_count": 2,
   "metadata": {},
   "outputs": [],
   "source": [
    "def csv_reader(filename):\n",
    "    res = [] #Result (A matrix containing the data from the csv file)\n",
    "    with open(filename) as csv_file:\n",
    "        csv_reader = csv.reader(csv_file, delimiter=',')\n",
    "        row_type = 'title'\n",
    "        current = [] #The current evaluation score being read\n",
    "        row_names = [] #The value of the first column in each row\n",
    "        data = [] #The data values\n",
    "        for row in csv_reader:\n",
    "            if row_type == 'title':\n",
    "                #Title name\n",
    "                current.append(row[0])\n",
    "                row_type = 'header'\n",
    "            elif row_type == 'header':\n",
    "                #Column names\n",
    "                current.append(row[1:])\n",
    "                row_type = None\n",
    "            elif row == []:\n",
    "                #End of current\n",
    "                current.extend([row_names] + [data])\n",
    "                res.append(current)\n",
    "                row_names, data, current = [],[],[]\n",
    "                row_type = 'title'\n",
    "            else:\n",
    "                data_row = []\n",
    "                for i, val in enumerate(row):\n",
    "                    if i == 0:\n",
    "                        row_names.append(val)\n",
    "                    else:\n",
    "                        data_row.append(float(val))\n",
    "                data.append(data_row)\n",
    "    return res\n",
    "\n",
    "def select_fs(res, fs_select=0, fs_count=3):\n",
    "    #Do not tranpose data before using this function\n",
    "    for i,r in enumerate(res):\n",
    "        fs_data = r[3]\n",
    "        res[i][3] = fs_data\n",
    "    return res\n",
    "\n",
    "def tp_res(res):\n",
    "    #Transpose the data\n",
    "    for i,r in enumerate(res):\n",
    "        s_data = np.array(r[3])\n",
    "        res[i][3] = s_data.transpose().tolist()\n",
    "    return res"
   ]
  },
  {
   "cell_type": "code",
   "execution_count": 12,
   "metadata": {},
   "outputs": [],
   "source": [
    "#Tester\n",
    "test1 = False\n",
    "if __name__=='__main__' and test1:\n",
    "    NASA = csv_reader('NASA.csv')\n",
    "    NASA = tp_res(NASA)\n",
    "    print(NASA)"
   ]
  },
  {
   "cell_type": "markdown",
   "metadata": {},
   "source": [
    "## Plot functions"
   ]
  },
  {
   "cell_type": "code",
   "execution_count": 4,
   "metadata": {},
   "outputs": [],
   "source": [
    "def quick_plot(ax, fontsize=12):\n",
    "    ax.set_xlabel('x-label', fontsize=fontsize)\n",
    "    ax.set_ylabel('y-label', fontsize=fontsize)\n",
    "    ax.set_title('Title', fontsize=fontsize*2)\n",
    "    plt.show()"
   ]
  },
  {
   "cell_type": "markdown",
   "metadata": {},
   "source": [
    "## Plot"
   ]
  },
  {
   "cell_type": "code",
   "execution_count": 7,
   "metadata": {},
   "outputs": [
    {
     "data": {
      "image/png": "[encoded data removed]",
      "text/plain": [
       "<Figure size 432x288 with 1 Axes>"
      ]
     },
     "metadata": {
      "needs_background": "light"
     },
     "output_type": "display_data"
    }
   ],
   "source": [
    "plt.close('all')\n",
    "NASA = csv_reader('NASA.csv')[0]\n",
    "#NASA = tp_res(NASA)\n",
    "title, col_names, row_names, data = NASA\n",
    "X = np.arange(len(data[0]))\n",
    "fig = plt.figure()\n",
    "ax = fig.add_axes([0,0,1,1])\n",
    "for i, row in enumerate(data):\n",
    "    #for i in range(len(data[0])):\n",
    "    ax.bar(X + i*(0.1), row, color = 'b', width = 0.1)\n",
    "\n",
    "quick_plot(ax, fontsize = 14)"
   ]
  },
  {
   "cell_type": "code",
   "execution_count": null,
   "metadata": {},
   "outputs": [],
   "source": [
    "data = [[30, 25, 50, 20],\n",
    "[40, 23, 51, 17],\n",
    "[35, 22, 45, 19]]\n",
    "X = np.arange(4)\n",
    "fig = plt.figure()\n",
    "ax = fig.add_axes([0,0,1,1])\n",
    "ax.bar(X + 0.00, data[0], color = 'b', width = 0.1)\n",
    "ax.bar(X + 0.25, data[1], color = 'g', width = 0.1)\n",
    "ax.bar(X + 0.50, data[2], color = 'r', width = 0.1)"
   ]
  },
  {
   "cell_type": "code",
   "execution_count": null,
   "metadata": {},
   "outputs": [],
   "source": []
  }
 ],
 "metadata": {
  "kernelspec": {
   "display_name": "Python 3",
   "language": "python",
   "name": "python3"
  },
  "language_info": {
   "codemirror_mode": {
    "name": "ipython",
    "version": 3
   },
   "file_extension": ".py",
   "mimetype": "text/x-python",
   "name": "python",
   "nbconvert_exporter": "python",
   "pygments_lexer": "ipython3",
   "version": "3.7.3"
  }
 },
 "nbformat": 4,
 "nbformat_minor": 2
}
