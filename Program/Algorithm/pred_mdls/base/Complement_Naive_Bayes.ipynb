{
 "cells": [
  {
   "cell_type": "code",
   "execution_count": 1,
   "source": [
    "from sklearn.naive_bayes import ComplementNB as cnb\r\n",
    "from scipy.io import arff\r\n",
    "from sklearn.model_selection import train_test_split as ts\r\n",
    "import pandas as pd\r\n",
    "import numpy as np\r\n",
    "\r\n",
    "def complement_naive_bayes_model(data, args):\r\n",
    "    CBayes = cnb()\r\n",
    "    CBayes.fit(data[0],data[1])\r\n",
    "    return CBayes"
   ],
   "outputs": [],
   "metadata": {}
  },
  {
   "cell_type": "code",
   "execution_count": 2,
   "source": [
    "#File\r\n",
    "filename = 'CM1.arff.txt'\r\n",
    "data = arff.loadarff(filename)\r\n",
    "loaddata = pd.DataFrame(data[0])\r\n",
    "\r\n",
    "#Software metrics and decisions\r\n",
    "SM = np.array(loaddata[['LOC_BLANK','BRANCH_COUNT','CALL_PAIRS','LOC_CODE_AND_COMMENT']]) #Software metrics\r\n",
    "L = np.array(loaddata['Defective']) #label\r\n",
    "SM_train, SM_test, L_train, L_test = ts(SM,L,test_size = 0.1)\r\n",
    "L_train=L_train.astype('str')\r\n",
    "L_test=L_test.astype('str')\r\n",
    "\r\n",
    "#Modeling\r\n",
    "data = [SM_train,L_train]\r\n",
    "args = [1000]\r\n",
    "rf = complement_naive_bayes_model(data, args)"
   ],
   "outputs": [],
   "metadata": {}
  },
  {
   "cell_type": "code",
   "execution_count": 3,
   "source": [
    "'''\r\n",
    "Evaluation\r\n",
    "Output might be incorrect, may need to look into that\r\n",
    "'''\r\n",
    "from sklearn import metrics\r\n",
    "predictions = rf.predict(SM_test)\r\n",
    "print(\"Accuracy:\",metrics.accuracy_score(L_test, predictions))"
   ],
   "outputs": [
    {
     "output_type": "stream",
     "name": "stdout",
     "text": [
      "Accuracy: 0.3939393939393939\n"
     ]
    }
   ],
   "metadata": {}
  },
  {
   "cell_type": "code",
   "execution_count": null,
   "source": [],
   "outputs": [],
   "metadata": {}
  }
 ],
 "metadata": {
  "kernelspec": {
   "display_name": "Python 3",
   "language": "python",
   "name": "python3"
  },
  "language_info": {
   "codemirror_mode": {
    "name": "ipython",
    "version": 3
   },
   "file_extension": ".py",
   "mimetype": "text/x-python",
   "name": "python",
   "nbconvert_exporter": "python",
   "pygments_lexer": "ipython3",
   "version": "3.8.5"
  }
 },
 "nbformat": 4,
 "nbformat_minor": 4
}