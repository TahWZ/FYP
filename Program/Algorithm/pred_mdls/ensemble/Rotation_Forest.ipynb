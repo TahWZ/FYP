{
 "cells": [
  {
   "cell_type": "code",
   "execution_count": 1,
   "source": [
    "#==== Imports ====#\r\n",
    "# !pip install rotation-forest\r\n",
    "from sklearn import metrics\r\n",
    "from rotation_forest import RotationForestClassifier as RFC\r\n",
    "from scipy.io import arff\r\n",
    "from sklearn.model_selection import train_test_split as ts\r\n",
    "import pandas as pd\r\n",
    "import numpy as np\r\n",
    "#=================#\r\n",
    "\r\n",
    "#==== Functions ====#\r\n",
    "def rotation_forest_model(data, args):\r\n",
    "    forest = RFC()\r\n",
    "    forest.fit(data[0],data[1])\r\n",
    "    return forest\r\n",
    "#===================#"
   ],
   "outputs": [
    {
     "output_type": "stream",
     "name": "stdout",
     "text": [
      "Collecting rotation-forest\n",
      "  Downloading rotation_forest-1.0.tar.gz (6.3 kB)\n",
      "Requirement already satisfied: numpy in c:\\users\\user\\anaconda3\\lib\\site-packages (from rotation-forest) (1.20.1)\n",
      "Requirement already satisfied: scipy in c:\\users\\user\\anaconda3\\lib\\site-packages (from rotation-forest) (1.6.2)\n",
      "Requirement already satisfied: scikit-learn in c:\\users\\user\\anaconda3\\lib\\site-packages (from rotation-forest) (0.24.1)\n",
      "Requirement already satisfied: threadpoolctl>=2.0.0 in c:\\users\\user\\anaconda3\\lib\\site-packages (from scikit-learn->rotation-forest) (2.1.0)\n",
      "Requirement already satisfied: joblib>=0.11 in c:\\users\\user\\anaconda3\\lib\\site-packages (from scikit-learn->rotation-forest) (1.0.1)\n",
      "Building wheels for collected packages: rotation-forest\n",
      "  Building wheel for rotation-forest (setup.py): started\n",
      "  Building wheel for rotation-forest (setup.py): finished with status 'done'\n",
      "  Created wheel for rotation-forest: filename=rotation_forest-1.0-py3-none-any.whl size=7004 sha256=2b8aabe62ea09f4fbfa3f9fc4d01abd3c4c358430ef1c09564dea0234ae77b38\n",
      "  Stored in directory: c:\\users\\user\\appdata\\local\\pip\\cache\\wheels\\3a\\80\\86\\d98f6a560ca461b994fb85211f901491b4b9f967ffce806ce7\n",
      "Successfully built rotation-forest\n",
      "Installing collected packages: rotation-forest\n",
      "Successfully installed rotation-forest-1.0\n"
     ]
    }
   ],
   "metadata": {}
  },
  {
   "cell_type": "code",
   "execution_count": 2,
   "source": [
    "#==== Main Algorithm ====#\r\n",
    "if __name__=='__main__':\r\n",
    "    #File\r\n",
    "    filename = 'CM1.arff.txt'\r\n",
    "    data = arff.loadarff(filename)\r\n",
    "    loaddata = pd.DataFrame(data[0])\r\n",
    "\r\n",
    "    #Software metrics and decisions\r\n",
    "    SM = np.array(loaddata[['LOC_BLANK','BRANCH_COUNT','CALL_PAIRS','LOC_CODE_AND_COMMENT']]) #Software metrics\r\n",
    "    L = np.array(loaddata['Defective']) #label\r\n",
    "    SM_train, SM_test, L_train, L_test = ts(SM,L,test_size = 0.1)\r\n",
    "    L_train=L_train.astype('str')\r\n",
    "    L_test=L_test.astype('str')\r\n",
    "\r\n",
    "    #Modeling\r\n",
    "    data = [SM_train,L_train]\r\n",
    "    args = [1000]\r\n",
    "    rotation = rotation_forest_model(data, args)\r\n",
    "    predictions = rotation.predict(SM_test)\r\n",
    "    print(\"Accuracy:\",metrics.accuracy_score(L_test, predictions))\r\n",
    "#=========================#"
   ],
   "outputs": [
    {
     "output_type": "stream",
     "name": "stdout",
     "text": [
      "Accuracy: 0.8627450980392157\n"
     ]
    }
   ],
   "metadata": {}
  },
  {
   "cell_type": "code",
   "execution_count": null,
   "source": [],
   "outputs": [],
   "metadata": {}
  }
 ],
 "metadata": {
  "interpreter": {
   "hash": "6d46af94c2bbce495f1e668725902fa517c90b1782bcfe2fce0dd9868df553d3"
  },
  "kernelspec": {
   "name": "python3",
   "display_name": "Python 3.8.8 64-bit ('base': conda)"
  },
  "language_info": {
   "codemirror_mode": {
    "name": "ipython",
    "version": 3
   },
   "file_extension": ".py",
   "mimetype": "text/x-python",
   "name": "python",
   "nbconvert_exporter": "python",
   "pygments_lexer": "ipython3",
   "version": "3.8.8"
  }
 },
 "nbformat": 4,
 "nbformat_minor": 4
}