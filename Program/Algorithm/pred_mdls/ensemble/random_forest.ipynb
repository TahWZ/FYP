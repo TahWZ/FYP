{
 "cells": [
  {
   "cell_type": "code",
   "execution_count": 1,
   "source": [
    "#==== Imports ====#\r\n",
    "from sklearn import metrics\r\n",
    "from sklearn.ensemble import RandomForestClassifier\r\n",
    "from scipy.io import arff\r\n",
    "from sklearn.model_selection import train_test_split as ts\r\n",
    "import pandas as pd\r\n",
    "import numpy as np\r\n",
    "#=================#\r\n",
    "\r\n",
    "#==== Functions ====#\r\n",
    "def random_forest_model(data, args=[108]):\r\n",
    "    '''\r\n",
    "    Arguments:\r\n",
    "    1. Data\r\n",
    "    2. List of arguments for model (Number of Estimators)\r\n",
    "    \r\n",
    "    Output:\r\n",
    "    2. Model\r\n",
    "    '''\r\n",
    "    rf = RandomForestClassifier(n_estimators = args[0])\r\n",
    "    rf.fit(data[0], data[1])\r\n",
    "    return rf\r\n",
    "#===================#"
   ],
   "outputs": [],
   "metadata": {}
  },
  {
   "cell_type": "code",
   "execution_count": 2,
   "source": [
    "#==== Main Algorithm ====#\r\n",
    "if __name__=='__main__':\r\n",
    "    #File\r\n",
    "    filename = 'CM1.arff.txt'\r\n",
    "    data = arff.loadarff(filename)\r\n",
    "    loaddata = pd.DataFrame(data[0])\r\n",
    "\r\n",
    "    #Software metrics and decisions\r\n",
    "    SM = np.array(loaddata[['LOC_BLANK','BRANCH_COUNT','CALL_PAIRS','LOC_CODE_AND_COMMENT']]) #Software metrics\r\n",
    "    L = np.array(loaddata['Defective']) #label\r\n",
    "    SM_train, SM_test, L_train, L_test = ts(SM,L,test_size = 0.1)\r\n",
    "    L_train=L_train.astype('str')\r\n",
    "    L_test=L_test.astype('str')\r\n",
    "\r\n",
    "    #Modeling\r\n",
    "    data = [SM_train,L_train]\r\n",
    "    args = [1000]\r\n",
    "    rf = random_forest_model(data, args)\r\n",
    "    predictions = rf.predict(SM_test)\r\n",
    "    print(\"Accuracy:\",metrics.accuracy_score(L_test, predictions))\r\n",
    "#=========================#"
   ],
   "outputs": [
    {
     "output_type": "stream",
     "name": "stdout",
     "text": [
      "Accuracy: 0.9411764705882353\n"
     ]
    }
   ],
   "metadata": {}
  },
  {
   "cell_type": "code",
   "execution_count": null,
   "source": [],
   "outputs": [],
   "metadata": {}
  }
 ],
 "metadata": {
  "interpreter": {
   "hash": "ea9cb6ab4d914a35d8e6d0a69a1d89f0d94b47e6dbf4bfc8b7ae98e3408380a4"
  },
  "kernelspec": {
   "display_name": "Python 3",
   "language": "python",
   "name": "python3"
  },
  "language_info": {
   "codemirror_mode": {
    "name": "ipython",
    "version": 3
   },
   "file_extension": ".py",
   "mimetype": "text/x-python",
   "name": "python",
   "nbconvert_exporter": "python",
   "pygments_lexer": "ipython3",
   "version": "3.7.3"
  }
 },
 "nbformat": 4,
 "nbformat_minor": 2
}