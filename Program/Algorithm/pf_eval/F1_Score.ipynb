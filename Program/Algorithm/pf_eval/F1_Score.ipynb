{
 "cells": [
  {
   "cell_type": "markdown",
   "source": [
    "# Imports"
   ],
   "metadata": {}
  },
  {
   "cell_type": "code",
   "execution_count": 14,
   "source": [
    "import numpy as np\r\n",
    "import pandas as pd\r\n",
    "from scipy.io import arff\r\n",
    "from sklearn.metrics import confusion_matrix\r\n",
    "from sklearn.metrics import f1_score"
   ],
   "outputs": [],
   "metadata": {}
  },
  {
   "cell_type": "code",
   "execution_count": 15,
   "source": [
    "def f1_model(model,X_test,y_test):\r\n",
    "    y_pred = model.predict(X_test)\r\n",
    "    result = f1_score(y_test,y_pred,pos_label=1,zero_division=0)\r\n",
    "    return result"
   ],
   "outputs": [],
   "metadata": {}
  },
  {
   "cell_type": "markdown",
   "source": [
    "## Reading data"
   ],
   "metadata": {}
  },
  {
   "cell_type": "code",
   "execution_count": 16,
   "source": [
    "if __name__ == '__main__':\r\n",
    "    # Change filename here\r\n",
    "    filename = '../datasets/NASA/PC2.arff.txt'\r\n",
    "\r\n",
    "    data = arff.loadarff(filename)\r\n",
    "    loaddata = pd.DataFrame(data[0])\r\n",
    "    loaddata.head()"
   ],
   "outputs": [],
   "metadata": {}
  },
  {
   "cell_type": "markdown",
   "source": [
    "## Acquire X and Y values"
   ],
   "metadata": {}
  },
  {
   "cell_type": "code",
   "execution_count": 17,
   "source": [
    "if __name__ == '__main__':\r\n",
    "    # software_metrics = np.array(loaddata[['LOC_BLANK','BRANCH_COUNT','CALL_PAIRS','LOC_CODE_AND_COMMENT']])\r\n",
    "    # labels = np.array(loaddata['Defective'])\r\n",
    "\r\n",
    "    software_metrics = np.array(loaddata.iloc[:,:-1]) #Software metrics\r\n",
    "    labels = np.array(loaddata.iloc[:,-1]) #Labels"
   ],
   "outputs": [],
   "metadata": {}
  },
  {
   "cell_type": "markdown",
   "source": [
    "## Train test Split"
   ],
   "metadata": {}
  },
  {
   "cell_type": "code",
   "execution_count": 18,
   "source": [
    "if __name__ == '__main__':\r\n",
    "    from sklearn.model_selection import train_test_split\r\n",
    "    X_train, X_test, y_train, y_test = train_test_split(software_metrics, labels, test_size = 0.1)\r\n",
    "    y_train = y_train.astype(str)\r\n",
    "    y_test = y_test.astype(str)"
   ],
   "outputs": [],
   "metadata": {}
  },
  {
   "cell_type": "markdown",
   "source": [
    "## Selecting a Model (Logistic Regression)"
   ],
   "metadata": {}
  },
  {
   "cell_type": "code",
   "execution_count": 19,
   "source": [
    "if __name__ == '__main__':\r\n",
    "    from sklearn.linear_model import LogisticRegression\r\n",
    "\r\n",
    "    logreg = LogisticRegression(solver='lbfgs')\r\n",
    "    logreg.fit(X_train, y_train)"
   ],
   "outputs": [
    {
     "output_type": "stream",
     "name": "stderr",
     "text": [
      "C:\\Users\\user\\anaconda3\\lib\\site-packages\\sklearn\\linear_model\\_logistic.py:763: ConvergenceWarning: lbfgs failed to converge (status=1):\n",
      "STOP: TOTAL NO. of ITERATIONS REACHED LIMIT.\n",
      "\n",
      "Increase the number of iterations (max_iter) or scale the data as shown in:\n",
      "    https://scikit-learn.org/stable/modules/preprocessing.html\n",
      "Please also refer to the documentation for alternative solver options:\n",
      "    https://scikit-learn.org/stable/modules/linear_model.html#logistic-regression\n",
      "  n_iter_i = _check_optimize_result(\n"
     ]
    }
   ],
   "metadata": {}
  },
  {
   "cell_type": "code",
   "execution_count": 20,
   "source": [
    "if __name__ == '__main__':    \r\n",
    "    y_pred = logreg.predict(X_test)\r\n",
    "    y_pred"
   ],
   "outputs": [],
   "metadata": {}
  },
  {
   "cell_type": "code",
   "execution_count": 21,
   "source": [
    "if __name__ == '__main__':\r\n",
    "    pd.DataFrame(confusion_matrix(y_test,y_pred), columns=['Predicted Non-Defective', \"Predicted Defective\"], index=['Actual Non-Defective', 'Actual Defective'])"
   ],
   "outputs": [],
   "metadata": {}
  },
  {
   "cell_type": "code",
   "execution_count": 22,
   "source": [
    "if __name__ == '__main__':    \r\n",
    "    tn, fp, fn, tp = confusion_matrix(y_test, y_pred).ravel()\r\n",
    "    print(f'True Positives: {tp}')\r\n",
    "    print(f'False Positives: {fp}')\r\n",
    "    print(f'True Negatives: {tn}')\r\n",
    "    print(f'False Negatives: {fn}')"
   ],
   "outputs": [
    {
     "output_type": "stream",
     "name": "stdout",
     "text": [
      "True Positives: 0\n",
      "False Positives: 0\n",
      "True Negatives: 71\n",
      "False Negatives: 2\n"
     ]
    }
   ],
   "metadata": {}
  },
  {
   "cell_type": "markdown",
   "source": [
    "## Calculating Precision (True Positive)/(True Positive + False Positive)"
   ],
   "metadata": {}
  },
  {
   "cell_type": "code",
   "execution_count": 23,
   "source": [
    "if __name__ == '__main__':\r\n",
    "    precision = (tp)/(tp+fp)\r\n",
    "    print(f'Precision: {precision}')"
   ],
   "outputs": [
    {
     "output_type": "stream",
     "name": "stdout",
     "text": [
      "Precision: nan\n"
     ]
    },
    {
     "output_type": "stream",
     "name": "stderr",
     "text": [
      "<ipython-input-23-f900fed89c97>:2: RuntimeWarning: invalid value encountered in longlong_scalars\n",
      "  precision = (tp)/(tp+fp)\n"
     ]
    }
   ],
   "metadata": {}
  },
  {
   "cell_type": "markdown",
   "source": [
    "## Calculating Recall (True Positve)/(True Positive + False Negative)"
   ],
   "metadata": {}
  },
  {
   "cell_type": "code",
   "execution_count": 24,
   "source": [
    "if __name__ == '__main__':  \r\n",
    "    recall = (tp)/(tp+fn)\r\n",
    "    print(f'Recall: {recall}')"
   ],
   "outputs": [
    {
     "output_type": "stream",
     "name": "stdout",
     "text": [
      "Recall: 0.0\n"
     ]
    }
   ],
   "metadata": {}
  },
  {
   "cell_type": "markdown",
   "source": [
    "## Calculating F1-score"
   ],
   "metadata": {}
  },
  {
   "cell_type": "code",
   "execution_count": 25,
   "source": [
    "if __name__ == '__main__':   \r\n",
    "    result = (2*precision*recall)/(precision+recall)\r\n",
    "    print(f'F1-score from computation: {result}')\r\n",
    "\r\n",
    "    result = f1_score(y_test,y_pred,pos_label='Y',zero_division=0)\r\n",
    "    print(f'F1-score from Import: {result}')\r\n",
    "    "
   ],
   "outputs": [
    {
     "output_type": "stream",
     "name": "stdout",
     "text": [
      "F1-score from computation: nan\n",
      "F1-score from Import: 0.0\n"
     ]
    }
   ],
   "metadata": {}
  },
  {
   "cell_type": "code",
   "execution_count": null,
   "source": [],
   "outputs": [],
   "metadata": {}
  }
 ],
 "metadata": {
  "interpreter": {
   "hash": "6d46af94c2bbce495f1e668725902fa517c90b1782bcfe2fce0dd9868df553d3"
  },
  "kernelspec": {
   "name": "python3",
   "display_name": "Python 3.8.8 64-bit ('base': conda)"
  },
  "language_info": {
   "codemirror_mode": {
    "name": "ipython",
    "version": 3
   },
   "file_extension": ".py",
   "mimetype": "text/x-python",
   "name": "python",
   "nbconvert_exporter": "python",
   "pygments_lexer": "ipython3",
   "version": "3.8.8"
  }
 },
 "nbformat": 4,
 "nbformat_minor": 2
}